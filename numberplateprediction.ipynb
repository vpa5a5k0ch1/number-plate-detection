{
 "cells": [
  {
   "cell_type": "code",
   "execution_count": 1,
   "id": "ec788610",
   "metadata": {},
   "outputs": [
    {
     "name": "stdout",
     "output_type": "stream",
     "text": [
      "12.1\n",
      "True\n",
      "NVIDIA GeForce RTX 2050\n"
     ]
    }
   ],
   "source": [
    "import torch\n",
    "print(torch.version.cuda)               # Should show '11.8' or '12.1'\n",
    "print(torch.cuda.is_available())        # Should be True\n",
    "print(torch.cuda.get_device_name(0))    # Should print your NVIDIA GPU\n"
   ]
  },
  {
   "cell_type": "code",
   "execution_count": 2,
   "id": "593237da",
   "metadata": {},
   "outputs": [],
   "source": [
    "!pip uninstall -y -ip\n"
   ]
  },
  {
   "cell_type": "code",
   "execution_count": 3,
   "id": "170b88e6",
   "metadata": {},
   "outputs": [],
   "source": [
    "!pip install ultralytics --upgrade -q"
   ]
  },
  {
   "cell_type": "code",
   "execution_count": 4,
   "id": "9e8e175f",
   "metadata": {},
   "outputs": [],
   "source": [
    "from ultralytics import YOLO"
   ]
  },
  {
   "cell_type": "code",
   "execution_count": 7,
   "id": "d261d2cd",
   "metadata": {},
   "outputs": [
    {
     "name": "stdout",
     "output_type": "stream",
     "text": [
      "✅ number_plate_dataset.yaml created successfully.\n"
     ]
    }
   ],
   "source": [
    "# Create dataset.yaml for multi-class vehicle & number plate detection\n",
    "yaml_content = '''\\\n",
    "path: D:/Custom Image Detection using YOLO/NUMBER PLATE DATASET\n",
    "train: images\n",
    "val: images\n",
    "\n",
    "names:\n",
    "  0: Bike\n",
    "  1: Bus\n",
    "  2: Car\n",
    "  3: Number plate\n",
    "  4: Person\n",
    "  5: Truck\n",
    "'''\n",
    "\n",
    "with open('number_plate_dataset.yaml', 'w') as f:\n",
    "    f.write(yaml_content)\n",
    "\n",
    "print(\"✅ number_plate_dataset.yaml created successfully.\")"
   ]
  },
  {
   "cell_type": "code",
   "execution_count": 8,
   "id": "6c748034",
   "metadata": {},
   "outputs": [
    {
     "name": "stdout",
     "output_type": "stream",
     "text": [
      "Ultralytics 8.3.162  Python-3.9.13 torch-2.5.1+cu121 CUDA:0 (NVIDIA GeForce RTX 2050, 4096MiB)\n",
      "\u001b[34m\u001b[1mengine\\trainer: \u001b[0magnostic_nms=False, amp=True, augment=False, auto_augment=randaugment, batch=4, bgr=0.0, box=7.5, cache=False, cfg=None, classes=None, close_mosaic=10, cls=0.5, conf=None, copy_paste=0.0, copy_paste_mode=flip, cos_lr=True, cutmix=0.0, data=number_plate_dataset.yaml, degrees=0.0, deterministic=True, device=0, dfl=1.5, dnn=False, dropout=0.0, dynamic=False, embed=None, epochs=150, erasing=0.4, exist_ok=True, fliplr=0.5, flipud=0.0, format=torchscript, fraction=1.0, freeze=None, half=False, hsv_h=0.015, hsv_s=0.7, hsv_v=0.4, imgsz=640, int8=False, iou=0.7, keras=False, kobj=1.0, line_width=None, lr0=0.001, lrf=0.01, mask_ratio=4, max_det=300, mixup=0.0, mode=train, model=yolov8n.pt, momentum=0.937, mosaic=1.0, multi_scale=False, name=yolov8n_gpu_optimized_v2, nbs=64, nms=False, opset=None, optimize=False, optimizer=Adam, overlap_mask=True, patience=100, perspective=0.0, plots=True, pose=12.0, pretrained=True, profile=False, project=number_plate_project, rect=False, resume=False, retina_masks=False, save=True, save_conf=False, save_crop=False, save_dir=number_plate_project\\yolov8n_gpu_optimized_v2, save_frames=False, save_json=False, save_period=-1, save_txt=False, scale=0.5, seed=0, shear=0.0, show=False, show_boxes=True, show_conf=True, show_labels=True, simplify=True, single_cls=False, source=None, split=val, stream_buffer=False, task=detect, time=None, tracker=botsort.yaml, translate=0.1, val=True, verbose=True, vid_stride=1, visualize=False, warmup_bias_lr=0.1, warmup_epochs=5, warmup_momentum=0.8, weight_decay=0.0005, workers=8, workspace=None\n",
      "Overriding model.yaml nc=80 with nc=6\n",
      "\n",
      "                   from  n    params  module                                       arguments                     \n",
      "  0                  -1  1       464  ultralytics.nn.modules.conv.Conv             [3, 16, 3, 2]                 \n",
      "  1                  -1  1      4672  ultralytics.nn.modules.conv.Conv             [16, 32, 3, 2]                \n",
      "  2                  -1  1      7360  ultralytics.nn.modules.block.C2f             [32, 32, 1, True]             \n",
      "  3                  -1  1     18560  ultralytics.nn.modules.conv.Conv             [32, 64, 3, 2]                \n",
      "  4                  -1  2     49664  ultralytics.nn.modules.block.C2f             [64, 64, 2, True]             \n",
      "  5                  -1  1     73984  ultralytics.nn.modules.conv.Conv             [64, 128, 3, 2]               \n",
      "  6                  -1  2    197632  ultralytics.nn.modules.block.C2f             [128, 128, 2, True]           \n",
      "  7                  -1  1    295424  ultralytics.nn.modules.conv.Conv             [128, 256, 3, 2]              \n",
      "  8                  -1  1    460288  ultralytics.nn.modules.block.C2f             [256, 256, 1, True]           \n",
      "  9                  -1  1    164608  ultralytics.nn.modules.block.SPPF            [256, 256, 5]                 \n",
      " 10                  -1  1         0  torch.nn.modules.upsampling.Upsample         [None, 2, 'nearest']          \n",
      " 11             [-1, 6]  1         0  ultralytics.nn.modules.conv.Concat           [1]                           \n",
      " 12                  -1  1    148224  ultralytics.nn.modules.block.C2f             [384, 128, 1]                 \n",
      " 13                  -1  1         0  torch.nn.modules.upsampling.Upsample         [None, 2, 'nearest']          \n",
      " 14             [-1, 4]  1         0  ultralytics.nn.modules.conv.Concat           [1]                           \n",
      " 15                  -1  1     37248  ultralytics.nn.modules.block.C2f             [192, 64, 1]                  \n",
      " 16                  -1  1     36992  ultralytics.nn.modules.conv.Conv             [64, 64, 3, 2]                \n",
      " 17            [-1, 12]  1         0  ultralytics.nn.modules.conv.Concat           [1]                           \n",
      " 18                  -1  1    123648  ultralytics.nn.modules.block.C2f             [192, 128, 1]                 \n",
      " 19                  -1  1    147712  ultralytics.nn.modules.conv.Conv             [128, 128, 3, 2]              \n",
      " 20             [-1, 9]  1         0  ultralytics.nn.modules.conv.Concat           [1]                           \n",
      " 21                  -1  1    493056  ultralytics.nn.modules.block.C2f             [384, 256, 1]                 \n",
      " 22        [15, 18, 21]  1    752482  ultralytics.nn.modules.head.Detect           [6, [64, 128, 256]]           \n",
      "Model summary: 129 layers, 3,012,018 parameters, 3,012,002 gradients, 8.2 GFLOPs\n",
      "\n",
      "Transferred 319/355 items from pretrained weights\n",
      "Freezing layer 'model.22.dfl.conv.weight'\n",
      "\u001b[34m\u001b[1mAMP: \u001b[0mrunning Automatic Mixed Precision (AMP) checks...\n",
      "Downloading https://github.com/ultralytics/assets/releases/download/v8.3.0/yolo11n.pt to 'yolo11n.pt'...\n"
     ]
    },
    {
     "name": "stderr",
     "output_type": "stream",
     "text": [
      "100%|██████████| 5.35M/5.35M [00:13<00:00, 408kB/s]\n"
     ]
    },
    {
     "name": "stdout",
     "output_type": "stream",
     "text": [
      "\u001b[34m\u001b[1mAMP: \u001b[0mchecks passed \n",
      "\u001b[34m\u001b[1mtrain: \u001b[0mFast image access  (ping: 0.20.1 ms, read: 10.88.3 MB/s, size: 76.1 KB)\n"
     ]
    },
    {
     "name": "stderr",
     "output_type": "stream",
     "text": [
      "\u001b[34m\u001b[1mtrain: \u001b[0mScanning D:\\Custom Image Detection using YOLO\\NUMBER PLATE DATASET\\labels... 99 images, 0 backgrounds, 0 corrupt: 100%|██████████| 99/99 [00:00<00:00, 381.11it/s]"
     ]
    },
    {
     "name": "stdout",
     "output_type": "stream",
     "text": [
      "\u001b[34m\u001b[1mtrain: \u001b[0mNew cache created: D:\\Custom Image Detection using YOLO\\NUMBER PLATE DATASET\\labels.cache\n"
     ]
    },
    {
     "name": "stderr",
     "output_type": "stream",
     "text": [
      "\n"
     ]
    },
    {
     "name": "stdout",
     "output_type": "stream",
     "text": [
      "\u001b[34m\u001b[1mval: \u001b[0mFast image access  (ping: 0.10.0 ms, read: 237.951.7 MB/s, size: 79.1 KB)\n"
     ]
    },
    {
     "name": "stderr",
     "output_type": "stream",
     "text": [
      "\u001b[34m\u001b[1mval: \u001b[0mScanning D:\\Custom Image Detection using YOLO\\NUMBER PLATE DATASET\\labels.cache... 99 images, 0 backgrounds, 0 corrupt: 100%|██████████| 99/99 [00:00<?, ?it/s]\n"
     ]
    },
    {
     "name": "stdout",
     "output_type": "stream",
     "text": [
      "Plotting labels to number_plate_project\\yolov8n_gpu_optimized_v2\\labels.jpg... \n",
      "\u001b[34m\u001b[1moptimizer:\u001b[0m Adam(lr=0.001, momentum=0.937) with parameter groups 57 weight(decay=0.0), 64 weight(decay=0.0005), 63 bias(decay=0.0)\n",
      "Image sizes 640 train, 640 val\n",
      "Using 8 dataloader workers\n",
      "Logging results to \u001b[1mnumber_plate_project\\yolov8n_gpu_optimized_v2\u001b[0m\n",
      "Starting training for 150 epochs...\n",
      "\n",
      "      Epoch    GPU_mem   box_loss   cls_loss   dfl_loss  Instances       Size\n"
     ]
    },
    {
     "name": "stderr",
     "output_type": "stream",
     "text": [
      "      1/150     0.604G      1.649      3.379      1.684         26        640: 100%|██████████| 25/25 [00:04<00:00,  5.08it/s]\n",
      "                 Class     Images  Instances      Box(P          R      mAP50  mAP50-95): 100%|██████████| 13/13 [00:01<00:00,  7.76it/s]"
     ]
    },
    {
     "name": "stdout",
     "output_type": "stream",
     "text": [
      "                   all         99        380    0.00686       0.21     0.0275    0.00996\n"
     ]
    },
    {
     "name": "stderr",
     "output_type": "stream",
     "text": [
      "\n"
     ]
    },
    {
     "name": "stdout",
     "output_type": "stream",
     "text": [
      "\n",
      "      Epoch    GPU_mem   box_loss   cls_loss   dfl_loss  Instances       Size\n"
     ]
    },
    {
     "name": "stderr",
     "output_type": "stream",
     "text": [
      "      2/150     0.658G      1.644       2.79      1.602         10        640: 100%|██████████| 25/25 [00:02<00:00,  8.38it/s]\n",
      "                 Class     Images  Instances      Box(P          R      mAP50  mAP50-95): 100%|██████████| 13/13 [00:01<00:00, 12.31it/s]"
     ]
    },
    {
     "name": "stdout",
     "output_type": "stream",
     "text": [
      "                   all         99        380      0.841     0.0403     0.0891     0.0493\n"
     ]
    },
    {
     "name": "stderr",
     "output_type": "stream",
     "text": [
      "\n"
     ]
    },
    {
     "name": "stdout",
     "output_type": "stream",
     "text": [
      "\n",
      "      Epoch    GPU_mem   box_loss   cls_loss   dfl_loss  Instances       Size\n"
     ]
    },
    {
     "name": "stderr",
     "output_type": "stream",
     "text": [
      "      3/150     0.658G      1.609      2.415      1.546         15        640: 100%|██████████| 25/25 [00:02<00:00,  9.41it/s]\n",
      "                 Class     Images  Instances      Box(P          R      mAP50  mAP50-95): 100%|██████████| 13/13 [00:01<00:00, 12.47it/s]"
     ]
    },
    {
     "name": "stdout",
     "output_type": "stream",
     "text": [
      "                   all         99        380      0.822     0.0806      0.127     0.0665\n"
     ]
    },
    {
     "name": "stderr",
     "output_type": "stream",
     "text": [
      "\n"
     ]
    },
    {
     "name": "stdout",
     "output_type": "stream",
     "text": [
      "\n",
      "      Epoch    GPU_mem   box_loss   cls_loss   dfl_loss  Instances       Size\n"
     ]
    },
    {
     "name": "stderr",
     "output_type": "stream",
     "text": [
      "      4/150     0.658G      1.717      2.431      1.609         41        640: 100%|██████████| 25/25 [00:02<00:00,  9.81it/s]\n",
      "                 Class     Images  Instances      Box(P          R      mAP50  mAP50-95): 100%|██████████| 13/13 [00:01<00:00, 11.78it/s]"
     ]
    },
    {
     "name": "stdout",
     "output_type": "stream",
     "text": [
      "                   all         99        380      0.375      0.166      0.189     0.0928\n"
     ]
    },
    {
     "name": "stderr",
     "output_type": "stream",
     "text": [
      "\n"
     ]
    },
    {
     "name": "stdout",
     "output_type": "stream",
     "text": [
      "\n",
      "      Epoch    GPU_mem   box_loss   cls_loss   dfl_loss  Instances       Size\n"
     ]
    },
    {
     "name": "stderr",
     "output_type": "stream",
     "text": [
      "      5/150     0.658G      1.698      2.185      1.569         32        640: 100%|██████████| 25/25 [00:02<00:00,  9.85it/s]\n",
      "                 Class     Images  Instances      Box(P          R      mAP50  mAP50-95): 100%|██████████| 13/13 [00:01<00:00, 11.61it/s]"
     ]
    },
    {
     "name": "stdout",
     "output_type": "stream",
     "text": [
      "                   all         99        380      0.403      0.245      0.218      0.107\n"
     ]
    },
    {
     "name": "stderr",
     "output_type": "stream",
     "text": [
      "\n"
     ]
    },
    {
     "name": "stdout",
     "output_type": "stream",
     "text": [
      "\n",
      "      Epoch    GPU_mem   box_loss   cls_loss   dfl_loss  Instances       Size\n"
     ]
    },
    {
     "name": "stderr",
     "output_type": "stream",
     "text": [
      "      6/150     0.658G      1.595      2.085      1.553         24        640: 100%|██████████| 25/25 [00:02<00:00,  9.97it/s]\n",
      "                 Class     Images  Instances      Box(P          R      mAP50  mAP50-95): 100%|██████████| 13/13 [00:01<00:00, 12.21it/s]"
     ]
    },
    {
     "name": "stdout",
     "output_type": "stream",
     "text": [
      "                   all         99        380      0.448      0.382       0.32       0.16\n"
     ]
    },
    {
     "name": "stderr",
     "output_type": "stream",
     "text": [
      "\n"
     ]
    },
    {
     "name": "stdout",
     "output_type": "stream",
     "text": [
      "\n",
      "      Epoch    GPU_mem   box_loss   cls_loss   dfl_loss  Instances       Size\n"
     ]
    },
    {
     "name": "stderr",
     "output_type": "stream",
     "text": [
      "      7/150     0.658G      1.697      2.169      1.579         28        640: 100%|██████████| 25/25 [00:02<00:00, 10.14it/s]\n",
      "                 Class     Images  Instances      Box(P          R      mAP50  mAP50-95): 100%|██████████| 13/13 [00:01<00:00, 12.84it/s]"
     ]
    },
    {
     "name": "stdout",
     "output_type": "stream",
     "text": [
      "                   all         99        380      0.577      0.308      0.345      0.181\n"
     ]
    },
    {
     "name": "stderr",
     "output_type": "stream",
     "text": [
      "\n"
     ]
    },
    {
     "name": "stdout",
     "output_type": "stream",
     "text": [
      "\n",
      "      Epoch    GPU_mem   box_loss   cls_loss   dfl_loss  Instances       Size\n"
     ]
    },
    {
     "name": "stderr",
     "output_type": "stream",
     "text": [
      "      8/150     0.658G      1.624      2.111       1.57         28        640: 100%|██████████| 25/25 [00:02<00:00,  9.29it/s]\n",
      "                 Class     Images  Instances      Box(P          R      mAP50  mAP50-95): 100%|██████████| 13/13 [00:01<00:00, 12.15it/s]"
     ]
    },
    {
     "name": "stdout",
     "output_type": "stream",
     "text": [
      "                   all         99        380       0.55       0.33       0.33      0.174\n"
     ]
    },
    {
     "name": "stderr",
     "output_type": "stream",
     "text": [
      "\n"
     ]
    },
    {
     "name": "stdout",
     "output_type": "stream",
     "text": [
      "\n",
      "      Epoch    GPU_mem   box_loss   cls_loss   dfl_loss  Instances       Size\n"
     ]
    },
    {
     "name": "stderr",
     "output_type": "stream",
     "text": [
      "      9/150     0.658G      1.601       2.03      1.552         18        640: 100%|██████████| 25/25 [00:02<00:00,  9.61it/s]\n",
      "                 Class     Images  Instances      Box(P          R      mAP50  mAP50-95): 100%|██████████| 13/13 [00:01<00:00, 11.36it/s]"
     ]
    },
    {
     "name": "stdout",
     "output_type": "stream",
     "text": [
      "                   all         99        380      0.551      0.345      0.326      0.167\n"
     ]
    },
    {
     "name": "stderr",
     "output_type": "stream",
     "text": [
      "\n"
     ]
    },
    {
     "name": "stdout",
     "output_type": "stream",
     "text": [
      "\n",
      "      Epoch    GPU_mem   box_loss   cls_loss   dfl_loss  Instances       Size\n"
     ]
    },
    {
     "name": "stderr",
     "output_type": "stream",
     "text": [
      "     10/150     0.658G      1.577      1.957      1.555         16        640: 100%|██████████| 25/25 [00:02<00:00,  9.84it/s]\n",
      "                 Class     Images  Instances      Box(P          R      mAP50  mAP50-95): 100%|██████████| 13/13 [00:01<00:00, 11.95it/s]"
     ]
    },
    {
     "name": "stdout",
     "output_type": "stream",
     "text": [
      "                   all         99        380      0.485      0.412      0.346      0.184\n"
     ]
    },
    {
     "name": "stderr",
     "output_type": "stream",
     "text": [
      "\n"
     ]
    },
    {
     "name": "stdout",
     "output_type": "stream",
     "text": [
      "\n",
      "      Epoch    GPU_mem   box_loss   cls_loss   dfl_loss  Instances       Size\n"
     ]
    },
    {
     "name": "stderr",
     "output_type": "stream",
     "text": [
      "     11/150     0.658G      1.635      2.058      1.583         16        640: 100%|██████████| 25/25 [00:02<00:00,  9.57it/s]\n",
      "                 Class     Images  Instances      Box(P          R      mAP50  mAP50-95): 100%|██████████| 13/13 [00:00<00:00, 13.04it/s]"
     ]
    },
    {
     "name": "stdout",
     "output_type": "stream",
     "text": [
      "                   all         99        380      0.362      0.411      0.352      0.194\n"
     ]
    },
    {
     "name": "stderr",
     "output_type": "stream",
     "text": [
      "\n"
     ]
    },
    {
     "name": "stdout",
     "output_type": "stream",
     "text": [
      "\n",
      "      Epoch    GPU_mem   box_loss   cls_loss   dfl_loss  Instances       Size\n"
     ]
    },
    {
     "name": "stderr",
     "output_type": "stream",
     "text": [
      "     12/150     0.658G        1.6      1.901      1.528         24        640: 100%|██████████| 25/25 [00:02<00:00,  9.93it/s]\n",
      "                 Class     Images  Instances      Box(P          R      mAP50  mAP50-95): 100%|██████████| 13/13 [00:01<00:00, 12.59it/s]"
     ]
    },
    {
     "name": "stdout",
     "output_type": "stream",
     "text": [
      "                   all         99        380      0.425      0.447      0.431      0.244\n"
     ]
    },
    {
     "name": "stderr",
     "output_type": "stream",
     "text": [
      "\n"
     ]
    },
    {
     "name": "stdout",
     "output_type": "stream",
     "text": [
      "\n",
      "      Epoch    GPU_mem   box_loss   cls_loss   dfl_loss  Instances       Size\n"
     ]
    },
    {
     "name": "stderr",
     "output_type": "stream",
     "text": [
      "     13/150     0.658G       1.58      1.925      1.523         38        640: 100%|██████████| 25/25 [00:02<00:00,  9.82it/s]\n",
      "                 Class     Images  Instances      Box(P          R      mAP50  mAP50-95): 100%|██████████| 13/13 [00:01<00:00, 12.65it/s]"
     ]
    },
    {
     "name": "stdout",
     "output_type": "stream",
     "text": [
      "                   all         99        380      0.498      0.429      0.471      0.271\n"
     ]
    },
    {
     "name": "stderr",
     "output_type": "stream",
     "text": [
      "\n"
     ]
    },
    {
     "name": "stdout",
     "output_type": "stream",
     "text": [
      "\n",
      "      Epoch    GPU_mem   box_loss   cls_loss   dfl_loss  Instances       Size\n"
     ]
    },
    {
     "name": "stderr",
     "output_type": "stream",
     "text": [
      "     14/150      0.66G      1.576      1.831      1.492         26        640: 100%|██████████| 25/25 [00:02<00:00, 10.11it/s]\n",
      "                 Class     Images  Instances      Box(P          R      mAP50  mAP50-95): 100%|██████████| 13/13 [00:01<00:00, 12.07it/s]"
     ]
    },
    {
     "name": "stdout",
     "output_type": "stream",
     "text": [
      "                   all         99        380      0.451      0.503      0.467      0.269\n"
     ]
    },
    {
     "name": "stderr",
     "output_type": "stream",
     "text": [
      "\n"
     ]
    },
    {
     "name": "stdout",
     "output_type": "stream",
     "text": [
      "\n",
      "      Epoch    GPU_mem   box_loss   cls_loss   dfl_loss  Instances       Size\n"
     ]
    },
    {
     "name": "stderr",
     "output_type": "stream",
     "text": [
      "     15/150      0.66G      1.496      1.833      1.463         34        640: 100%|██████████| 25/25 [00:02<00:00,  9.10it/s]\n",
      "                 Class     Images  Instances      Box(P          R      mAP50  mAP50-95): 100%|██████████| 13/13 [00:01<00:00, 10.41it/s]"
     ]
    },
    {
     "name": "stdout",
     "output_type": "stream",
     "text": [
      "                   all         99        380      0.525      0.498      0.504      0.286\n"
     ]
    },
    {
     "name": "stderr",
     "output_type": "stream",
     "text": [
      "\n"
     ]
    },
    {
     "name": "stdout",
     "output_type": "stream",
     "text": [
      "\n",
      "      Epoch    GPU_mem   box_loss   cls_loss   dfl_loss  Instances       Size\n"
     ]
    },
    {
     "name": "stderr",
     "output_type": "stream",
     "text": [
      "     16/150      0.66G      1.557      1.818       1.47         33        640: 100%|██████████| 25/25 [00:02<00:00,  9.72it/s]\n",
      "                 Class     Images  Instances      Box(P          R      mAP50  mAP50-95): 100%|██████████| 13/13 [00:01<00:00, 12.59it/s]"
     ]
    },
    {
     "name": "stdout",
     "output_type": "stream",
     "text": [
      "                   all         99        380      0.492      0.481      0.498      0.277\n"
     ]
    },
    {
     "name": "stderr",
     "output_type": "stream",
     "text": [
      "\n"
     ]
    },
    {
     "name": "stdout",
     "output_type": "stream",
     "text": [
      "\n",
      "      Epoch    GPU_mem   box_loss   cls_loss   dfl_loss  Instances       Size\n"
     ]
    },
    {
     "name": "stderr",
     "output_type": "stream",
     "text": [
      "     17/150      0.66G      1.585      1.804      1.492         60        640: 100%|██████████| 25/25 [00:02<00:00, 10.01it/s]\n",
      "                 Class     Images  Instances      Box(P          R      mAP50  mAP50-95): 100%|██████████| 13/13 [00:01<00:00, 11.97it/s]"
     ]
    },
    {
     "name": "stdout",
     "output_type": "stream",
     "text": [
      "                   all         99        380      0.493      0.476      0.509      0.278\n"
     ]
    },
    {
     "name": "stderr",
     "output_type": "stream",
     "text": [
      "\n"
     ]
    },
    {
     "name": "stdout",
     "output_type": "stream",
     "text": [
      "\n",
      "      Epoch    GPU_mem   box_loss   cls_loss   dfl_loss  Instances       Size\n"
     ]
    },
    {
     "name": "stderr",
     "output_type": "stream",
     "text": [
      "     18/150      0.66G      1.564      1.778       1.51         15        640: 100%|██████████| 25/25 [00:02<00:00, 10.11it/s]\n",
      "                 Class     Images  Instances      Box(P          R      mAP50  mAP50-95): 100%|██████████| 13/13 [00:01<00:00, 11.31it/s]"
     ]
    },
    {
     "name": "stdout",
     "output_type": "stream",
     "text": [
      "                   all         99        380      0.568       0.49      0.512       0.29\n"
     ]
    },
    {
     "name": "stderr",
     "output_type": "stream",
     "text": [
      "\n"
     ]
    },
    {
     "name": "stdout",
     "output_type": "stream",
     "text": [
      "\n",
      "      Epoch    GPU_mem   box_loss   cls_loss   dfl_loss  Instances       Size\n"
     ]
    },
    {
     "name": "stderr",
     "output_type": "stream",
     "text": [
      "     19/150      0.66G      1.448      1.634      1.418         32        640: 100%|██████████| 25/25 [00:02<00:00, 10.02it/s]\n",
      "                 Class     Images  Instances      Box(P          R      mAP50  mAP50-95): 100%|██████████| 13/13 [00:01<00:00, 11.58it/s]"
     ]
    },
    {
     "name": "stdout",
     "output_type": "stream",
     "text": [
      "                   all         99        380      0.751      0.499       0.53      0.319\n"
     ]
    },
    {
     "name": "stderr",
     "output_type": "stream",
     "text": [
      "\n"
     ]
    },
    {
     "name": "stdout",
     "output_type": "stream",
     "text": [
      "\n",
      "      Epoch    GPU_mem   box_loss   cls_loss   dfl_loss  Instances       Size\n"
     ]
    },
    {
     "name": "stderr",
     "output_type": "stream",
     "text": [
      "     20/150      0.66G      1.546       1.71      1.461         20        640: 100%|██████████| 25/25 [00:02<00:00,  9.98it/s]\n",
      "                 Class     Images  Instances      Box(P          R      mAP50  mAP50-95): 100%|██████████| 13/13 [00:01<00:00, 11.84it/s]"
     ]
    },
    {
     "name": "stdout",
     "output_type": "stream",
     "text": [
      "                   all         99        380      0.539      0.543      0.576      0.345\n"
     ]
    },
    {
     "name": "stderr",
     "output_type": "stream",
     "text": [
      "\n"
     ]
    },
    {
     "name": "stdout",
     "output_type": "stream",
     "text": [
      "\n",
      "      Epoch    GPU_mem   box_loss   cls_loss   dfl_loss  Instances       Size\n"
     ]
    },
    {
     "name": "stderr",
     "output_type": "stream",
     "text": [
      "     21/150      0.66G      1.495      1.714      1.458         27        640: 100%|██████████| 25/25 [00:02<00:00,  9.79it/s]\n",
      "                 Class     Images  Instances      Box(P          R      mAP50  mAP50-95): 100%|██████████| 13/13 [00:01<00:00, 11.34it/s]"
     ]
    },
    {
     "name": "stdout",
     "output_type": "stream",
     "text": [
      "                   all         99        380      0.539      0.548      0.578      0.352\n"
     ]
    },
    {
     "name": "stderr",
     "output_type": "stream",
     "text": [
      "\n"
     ]
    },
    {
     "name": "stdout",
     "output_type": "stream",
     "text": [
      "\n",
      "      Epoch    GPU_mem   box_loss   cls_loss   dfl_loss  Instances       Size\n"
     ]
    },
    {
     "name": "stderr",
     "output_type": "stream",
     "text": [
      "     22/150      0.66G       1.43       1.62       1.43         11        640: 100%|██████████| 25/25 [00:02<00:00,  9.75it/s]\n",
      "                 Class     Images  Instances      Box(P          R      mAP50  mAP50-95): 100%|██████████| 13/13 [00:01<00:00, 11.31it/s]"
     ]
    },
    {
     "name": "stdout",
     "output_type": "stream",
     "text": [
      "                   all         99        380      0.585       0.53      0.575      0.341\n"
     ]
    },
    {
     "name": "stderr",
     "output_type": "stream",
     "text": [
      "\n"
     ]
    },
    {
     "name": "stdout",
     "output_type": "stream",
     "text": [
      "\n",
      "      Epoch    GPU_mem   box_loss   cls_loss   dfl_loss  Instances       Size\n"
     ]
    },
    {
     "name": "stderr",
     "output_type": "stream",
     "text": [
      "     23/150      0.66G      1.417       1.69      1.474         36        640: 100%|██████████| 25/25 [00:02<00:00,  9.22it/s]\n",
      "                 Class     Images  Instances      Box(P          R      mAP50  mAP50-95): 100%|██████████| 13/13 [00:01<00:00, 11.17it/s]"
     ]
    },
    {
     "name": "stdout",
     "output_type": "stream",
     "text": [
      "                   all         99        380      0.604      0.547      0.588       0.35\n"
     ]
    },
    {
     "name": "stderr",
     "output_type": "stream",
     "text": [
      "\n"
     ]
    },
    {
     "name": "stdout",
     "output_type": "stream",
     "text": [
      "\n",
      "      Epoch    GPU_mem   box_loss   cls_loss   dfl_loss  Instances       Size\n"
     ]
    },
    {
     "name": "stderr",
     "output_type": "stream",
     "text": [
      "     24/150      0.66G      1.451      1.637      1.415         45        640: 100%|██████████| 25/25 [00:02<00:00,  9.41it/s]\n",
      "                 Class     Images  Instances      Box(P          R      mAP50  mAP50-95): 100%|██████████| 13/13 [00:01<00:00, 11.49it/s]"
     ]
    },
    {
     "name": "stdout",
     "output_type": "stream",
     "text": [
      "                   all         99        380      0.596      0.553      0.592      0.347\n"
     ]
    },
    {
     "name": "stderr",
     "output_type": "stream",
     "text": [
      "\n"
     ]
    },
    {
     "name": "stdout",
     "output_type": "stream",
     "text": [
      "\n",
      "      Epoch    GPU_mem   box_loss   cls_loss   dfl_loss  Instances       Size\n"
     ]
    },
    {
     "name": "stderr",
     "output_type": "stream",
     "text": [
      "     25/150      0.66G      1.469      1.603      1.385         18        640: 100%|██████████| 25/25 [00:02<00:00,  9.80it/s]\n",
      "                 Class     Images  Instances      Box(P          R      mAP50  mAP50-95): 100%|██████████| 13/13 [00:01<00:00, 11.16it/s]"
     ]
    },
    {
     "name": "stdout",
     "output_type": "stream",
     "text": [
      "                   all         99        380      0.528      0.583      0.577      0.332\n"
     ]
    },
    {
     "name": "stderr",
     "output_type": "stream",
     "text": [
      "\n"
     ]
    },
    {
     "name": "stdout",
     "output_type": "stream",
     "text": [
      "\n",
      "      Epoch    GPU_mem   box_loss   cls_loss   dfl_loss  Instances       Size\n"
     ]
    },
    {
     "name": "stderr",
     "output_type": "stream",
     "text": [
      "     26/150      0.66G      1.379      1.591      1.408         22        640: 100%|██████████| 25/25 [00:02<00:00,  9.32it/s]\n",
      "                 Class     Images  Instances      Box(P          R      mAP50  mAP50-95): 100%|██████████| 13/13 [00:01<00:00, 10.03it/s]"
     ]
    },
    {
     "name": "stdout",
     "output_type": "stream",
     "text": [
      "                   all         99        380      0.587      0.526      0.567      0.321\n"
     ]
    },
    {
     "name": "stderr",
     "output_type": "stream",
     "text": [
      "\n"
     ]
    },
    {
     "name": "stdout",
     "output_type": "stream",
     "text": [
      "\n",
      "      Epoch    GPU_mem   box_loss   cls_loss   dfl_loss  Instances       Size\n"
     ]
    },
    {
     "name": "stderr",
     "output_type": "stream",
     "text": [
      "     27/150      0.66G      1.431       1.63      1.417         19        640: 100%|██████████| 25/25 [00:02<00:00,  9.42it/s]\n",
      "                 Class     Images  Instances      Box(P          R      mAP50  mAP50-95): 100%|██████████| 13/13 [00:01<00:00, 10.91it/s]"
     ]
    },
    {
     "name": "stdout",
     "output_type": "stream",
     "text": [
      "                   all         99        380       0.62      0.516      0.583      0.347\n"
     ]
    },
    {
     "name": "stderr",
     "output_type": "stream",
     "text": [
      "\n"
     ]
    },
    {
     "name": "stdout",
     "output_type": "stream",
     "text": [
      "\n",
      "      Epoch    GPU_mem   box_loss   cls_loss   dfl_loss  Instances       Size\n"
     ]
    },
    {
     "name": "stderr",
     "output_type": "stream",
     "text": [
      "     28/150      0.66G      1.455      1.616      1.414         24        640: 100%|██████████| 25/25 [00:02<00:00,  9.39it/s]\n",
      "                 Class     Images  Instances      Box(P          R      mAP50  mAP50-95): 100%|██████████| 13/13 [00:01<00:00, 10.49it/s]"
     ]
    },
    {
     "name": "stdout",
     "output_type": "stream",
     "text": [
      "                   all         99        380      0.585      0.554      0.587      0.355\n"
     ]
    },
    {
     "name": "stderr",
     "output_type": "stream",
     "text": [
      "\n"
     ]
    },
    {
     "name": "stdout",
     "output_type": "stream",
     "text": [
      "\n",
      "      Epoch    GPU_mem   box_loss   cls_loss   dfl_loss  Instances       Size\n"
     ]
    },
    {
     "name": "stderr",
     "output_type": "stream",
     "text": [
      "     29/150      0.66G      1.455      1.573      1.446         22        640: 100%|██████████| 25/25 [00:02<00:00,  8.92it/s]\n",
      "                 Class     Images  Instances      Box(P          R      mAP50  mAP50-95): 100%|██████████| 13/13 [00:01<00:00, 10.55it/s]"
     ]
    },
    {
     "name": "stdout",
     "output_type": "stream",
     "text": [
      "                   all         99        380      0.803       0.55       0.64      0.395\n"
     ]
    },
    {
     "name": "stderr",
     "output_type": "stream",
     "text": [
      "\n"
     ]
    },
    {
     "name": "stdout",
     "output_type": "stream",
     "text": [
      "\n",
      "      Epoch    GPU_mem   box_loss   cls_loss   dfl_loss  Instances       Size\n"
     ]
    },
    {
     "name": "stderr",
     "output_type": "stream",
     "text": [
      "     30/150      0.66G      1.381      1.512      1.395         25        640: 100%|██████████| 25/25 [00:02<00:00,  8.95it/s]\n",
      "                 Class     Images  Instances      Box(P          R      mAP50  mAP50-95): 100%|██████████| 13/13 [00:01<00:00,  9.85it/s]"
     ]
    },
    {
     "name": "stdout",
     "output_type": "stream",
     "text": [
      "                   all         99        380       0.86      0.553      0.654      0.407\n"
     ]
    },
    {
     "name": "stderr",
     "output_type": "stream",
     "text": [
      "\n"
     ]
    },
    {
     "name": "stdout",
     "output_type": "stream",
     "text": [
      "\n",
      "      Epoch    GPU_mem   box_loss   cls_loss   dfl_loss  Instances       Size\n"
     ]
    },
    {
     "name": "stderr",
     "output_type": "stream",
     "text": [
      "     31/150      0.66G      1.425      1.501      1.395         19        640: 100%|██████████| 25/25 [00:02<00:00,  8.63it/s]\n",
      "                 Class     Images  Instances      Box(P          R      mAP50  mAP50-95): 100%|██████████| 13/13 [00:01<00:00,  9.05it/s]"
     ]
    },
    {
     "name": "stdout",
     "output_type": "stream",
     "text": [
      "                   all         99        380      0.852      0.557      0.645        0.4\n"
     ]
    },
    {
     "name": "stderr",
     "output_type": "stream",
     "text": [
      "\n"
     ]
    },
    {
     "name": "stdout",
     "output_type": "stream",
     "text": [
      "\n",
      "      Epoch    GPU_mem   box_loss   cls_loss   dfl_loss  Instances       Size\n"
     ]
    },
    {
     "name": "stderr",
     "output_type": "stream",
     "text": [
      "     32/150      0.66G      1.394      1.482       1.36         15        640: 100%|██████████| 25/25 [00:02<00:00,  8.68it/s]\n",
      "                 Class     Images  Instances      Box(P          R      mAP50  mAP50-95): 100%|██████████| 13/13 [00:01<00:00,  9.32it/s]"
     ]
    },
    {
     "name": "stdout",
     "output_type": "stream",
     "text": [
      "                   all         99        380      0.657      0.545      0.626      0.399\n"
     ]
    },
    {
     "name": "stderr",
     "output_type": "stream",
     "text": [
      "\n"
     ]
    },
    {
     "name": "stdout",
     "output_type": "stream",
     "text": [
      "\n",
      "      Epoch    GPU_mem   box_loss   cls_loss   dfl_loss  Instances       Size\n"
     ]
    },
    {
     "name": "stderr",
     "output_type": "stream",
     "text": [
      "     33/150      0.66G      1.356      1.487      1.371         16        640: 100%|██████████| 25/25 [00:03<00:00,  8.10it/s]\n",
      "                 Class     Images  Instances      Box(P          R      mAP50  mAP50-95): 100%|██████████| 13/13 [00:01<00:00,  8.65it/s]"
     ]
    },
    {
     "name": "stdout",
     "output_type": "stream",
     "text": [
      "                   all         99        380        0.8      0.537      0.629      0.393\n"
     ]
    },
    {
     "name": "stderr",
     "output_type": "stream",
     "text": [
      "\n"
     ]
    },
    {
     "name": "stdout",
     "output_type": "stream",
     "text": [
      "\n",
      "      Epoch    GPU_mem   box_loss   cls_loss   dfl_loss  Instances       Size\n"
     ]
    },
    {
     "name": "stderr",
     "output_type": "stream",
     "text": [
      "     34/150      0.66G      1.375      1.493      1.343         17        640: 100%|██████████| 25/25 [00:03<00:00,  8.13it/s]\n",
      "                 Class     Images  Instances      Box(P          R      mAP50  mAP50-95): 100%|██████████| 13/13 [00:01<00:00,  9.18it/s]"
     ]
    },
    {
     "name": "stdout",
     "output_type": "stream",
     "text": [
      "                   all         99        380      0.823      0.562      0.639      0.405\n"
     ]
    },
    {
     "name": "stderr",
     "output_type": "stream",
     "text": [
      "\n"
     ]
    },
    {
     "name": "stdout",
     "output_type": "stream",
     "text": [
      "\n",
      "      Epoch    GPU_mem   box_loss   cls_loss   dfl_loss  Instances       Size\n"
     ]
    },
    {
     "name": "stderr",
     "output_type": "stream",
     "text": [
      "     35/150      0.66G      1.331      1.508      1.369         14        640: 100%|██████████| 25/25 [00:03<00:00,  7.80it/s]\n",
      "                 Class     Images  Instances      Box(P          R      mAP50  mAP50-95): 100%|██████████| 13/13 [00:01<00:00,  9.57it/s]"
     ]
    },
    {
     "name": "stdout",
     "output_type": "stream",
     "text": [
      "                   all         99        380      0.802      0.573      0.639       0.41\n"
     ]
    },
    {
     "name": "stderr",
     "output_type": "stream",
     "text": [
      "\n"
     ]
    },
    {
     "name": "stdout",
     "output_type": "stream",
     "text": [
      "\n",
      "      Epoch    GPU_mem   box_loss   cls_loss   dfl_loss  Instances       Size\n"
     ]
    },
    {
     "name": "stderr",
     "output_type": "stream",
     "text": [
      "     36/150      0.66G      1.331      1.461      1.356         39        640: 100%|██████████| 25/25 [00:03<00:00,  7.80it/s]\n",
      "                 Class     Images  Instances      Box(P          R      mAP50  mAP50-95): 100%|██████████| 13/13 [00:01<00:00,  8.47it/s]"
     ]
    },
    {
     "name": "stdout",
     "output_type": "stream",
     "text": [
      "                   all         99        380      0.797      0.608      0.659      0.418\n"
     ]
    },
    {
     "name": "stderr",
     "output_type": "stream",
     "text": [
      "\n"
     ]
    },
    {
     "name": "stdout",
     "output_type": "stream",
     "text": [
      "\n",
      "      Epoch    GPU_mem   box_loss   cls_loss   dfl_loss  Instances       Size\n"
     ]
    },
    {
     "name": "stderr",
     "output_type": "stream",
     "text": [
      "     37/150      0.66G      1.337      1.457      1.391         23        640: 100%|██████████| 25/25 [00:03<00:00,  8.16it/s]\n",
      "                 Class     Images  Instances      Box(P          R      mAP50  mAP50-95): 100%|██████████| 13/13 [00:01<00:00,  9.15it/s]"
     ]
    },
    {
     "name": "stdout",
     "output_type": "stream",
     "text": [
      "                   all         99        380      0.761      0.629      0.651      0.419\n"
     ]
    },
    {
     "name": "stderr",
     "output_type": "stream",
     "text": [
      "\n"
     ]
    },
    {
     "name": "stdout",
     "output_type": "stream",
     "text": [
      "\n",
      "      Epoch    GPU_mem   box_loss   cls_loss   dfl_loss  Instances       Size\n"
     ]
    },
    {
     "name": "stderr",
     "output_type": "stream",
     "text": [
      "     38/150      0.66G      1.361      1.406      1.383         21        640: 100%|██████████| 25/25 [00:03<00:00,  7.88it/s]\n",
      "                 Class     Images  Instances      Box(P          R      mAP50  mAP50-95): 100%|██████████| 13/13 [00:01<00:00,  9.34it/s]"
     ]
    },
    {
     "name": "stdout",
     "output_type": "stream",
     "text": [
      "                   all         99        380      0.804      0.597      0.655      0.429\n"
     ]
    },
    {
     "name": "stderr",
     "output_type": "stream",
     "text": [
      "\n"
     ]
    },
    {
     "name": "stdout",
     "output_type": "stream",
     "text": [
      "\n",
      "      Epoch    GPU_mem   box_loss   cls_loss   dfl_loss  Instances       Size\n"
     ]
    },
    {
     "name": "stderr",
     "output_type": "stream",
     "text": [
      "     39/150      0.66G      1.352      1.387      1.365         23        640: 100%|██████████| 25/25 [00:03<00:00,  8.08it/s]\n",
      "                 Class     Images  Instances      Box(P          R      mAP50  mAP50-95): 100%|██████████| 13/13 [00:01<00:00,  8.77it/s]"
     ]
    },
    {
     "name": "stdout",
     "output_type": "stream",
     "text": [
      "                   all         99        380      0.834      0.619      0.675      0.449\n"
     ]
    },
    {
     "name": "stderr",
     "output_type": "stream",
     "text": [
      "\n"
     ]
    },
    {
     "name": "stdout",
     "output_type": "stream",
     "text": [
      "\n",
      "      Epoch    GPU_mem   box_loss   cls_loss   dfl_loss  Instances       Size\n"
     ]
    },
    {
     "name": "stderr",
     "output_type": "stream",
     "text": [
      "     40/150      0.66G      1.326      1.426      1.367         29        640: 100%|██████████| 25/25 [00:03<00:00,  7.44it/s]\n",
      "                 Class     Images  Instances      Box(P          R      mAP50  mAP50-95): 100%|██████████| 13/13 [00:01<00:00,  7.75it/s]"
     ]
    },
    {
     "name": "stdout",
     "output_type": "stream",
     "text": [
      "                   all         99        380      0.831       0.61      0.684      0.471\n"
     ]
    },
    {
     "name": "stderr",
     "output_type": "stream",
     "text": [
      "\n"
     ]
    },
    {
     "name": "stdout",
     "output_type": "stream",
     "text": [
      "\n",
      "      Epoch    GPU_mem   box_loss   cls_loss   dfl_loss  Instances       Size\n"
     ]
    },
    {
     "name": "stderr",
     "output_type": "stream",
     "text": [
      "     41/150      0.66G      1.307      1.393      1.329         17        640: 100%|██████████| 25/25 [00:03<00:00,  7.58it/s]\n",
      "                 Class     Images  Instances      Box(P          R      mAP50  mAP50-95): 100%|██████████| 13/13 [00:01<00:00,  9.19it/s]"
     ]
    },
    {
     "name": "stdout",
     "output_type": "stream",
     "text": [
      "                   all         99        380      0.863      0.601      0.689      0.475\n"
     ]
    },
    {
     "name": "stderr",
     "output_type": "stream",
     "text": [
      "\n"
     ]
    },
    {
     "name": "stdout",
     "output_type": "stream",
     "text": [
      "\n",
      "      Epoch    GPU_mem   box_loss   cls_loss   dfl_loss  Instances       Size\n"
     ]
    },
    {
     "name": "stderr",
     "output_type": "stream",
     "text": [
      "     42/150      0.66G      1.311       1.33      1.331         28        640: 100%|██████████| 25/25 [00:03<00:00,  8.17it/s]\n",
      "                 Class     Images  Instances      Box(P          R      mAP50  mAP50-95): 100%|██████████| 13/13 [00:01<00:00,  9.09it/s]"
     ]
    },
    {
     "name": "stdout",
     "output_type": "stream",
     "text": [
      "                   all         99        380       0.79      0.656      0.699      0.482\n"
     ]
    },
    {
     "name": "stderr",
     "output_type": "stream",
     "text": [
      "\n"
     ]
    },
    {
     "name": "stdout",
     "output_type": "stream",
     "text": [
      "\n",
      "      Epoch    GPU_mem   box_loss   cls_loss   dfl_loss  Instances       Size\n"
     ]
    },
    {
     "name": "stderr",
     "output_type": "stream",
     "text": [
      "     43/150      0.66G      1.317      1.329      1.333         21        640: 100%|██████████| 25/25 [00:03<00:00,  8.04it/s]\n",
      "                 Class     Images  Instances      Box(P          R      mAP50  mAP50-95): 100%|██████████| 13/13 [00:01<00:00,  8.75it/s]"
     ]
    },
    {
     "name": "stdout",
     "output_type": "stream",
     "text": [
      "                   all         99        380      0.804      0.675      0.713      0.485\n"
     ]
    },
    {
     "name": "stderr",
     "output_type": "stream",
     "text": [
      "\n"
     ]
    },
    {
     "name": "stdout",
     "output_type": "stream",
     "text": [
      "\n",
      "      Epoch    GPU_mem   box_loss   cls_loss   dfl_loss  Instances       Size\n"
     ]
    },
    {
     "name": "stderr",
     "output_type": "stream",
     "text": [
      "     44/150      0.66G      1.262      1.326      1.316         25        640: 100%|██████████| 25/25 [00:03<00:00,  7.26it/s]\n",
      "                 Class     Images  Instances      Box(P          R      mAP50  mAP50-95): 100%|██████████| 13/13 [00:01<00:00,  7.52it/s]"
     ]
    },
    {
     "name": "stdout",
     "output_type": "stream",
     "text": [
      "                   all         99        380      0.655      0.667      0.724      0.494\n"
     ]
    },
    {
     "name": "stderr",
     "output_type": "stream",
     "text": [
      "\n"
     ]
    },
    {
     "name": "stdout",
     "output_type": "stream",
     "text": [
      "\n",
      "      Epoch    GPU_mem   box_loss   cls_loss   dfl_loss  Instances       Size\n"
     ]
    },
    {
     "name": "stderr",
     "output_type": "stream",
     "text": [
      "     45/150      0.66G      1.279      1.272      1.323         24        640: 100%|██████████| 25/25 [00:03<00:00,  7.00it/s]\n",
      "                 Class     Images  Instances      Box(P          R      mAP50  mAP50-95): 100%|██████████| 13/13 [00:01<00:00,  9.28it/s]"
     ]
    },
    {
     "name": "stdout",
     "output_type": "stream",
     "text": [
      "                   all         99        380       0.88      0.648      0.728      0.508\n"
     ]
    },
    {
     "name": "stderr",
     "output_type": "stream",
     "text": [
      "\n"
     ]
    },
    {
     "name": "stdout",
     "output_type": "stream",
     "text": [
      "\n",
      "      Epoch    GPU_mem   box_loss   cls_loss   dfl_loss  Instances       Size\n"
     ]
    },
    {
     "name": "stderr",
     "output_type": "stream",
     "text": [
      "     46/150      0.66G      1.307      1.306      1.333         13        640: 100%|██████████| 25/25 [00:03<00:00,  8.28it/s]\n",
      "                 Class     Images  Instances      Box(P          R      mAP50  mAP50-95): 100%|██████████| 13/13 [00:01<00:00,  8.65it/s]"
     ]
    },
    {
     "name": "stdout",
     "output_type": "stream",
     "text": [
      "                   all         99        380      0.844      0.672      0.733      0.503\n"
     ]
    },
    {
     "name": "stderr",
     "output_type": "stream",
     "text": [
      "\n"
     ]
    },
    {
     "name": "stdout",
     "output_type": "stream",
     "text": [
      "\n",
      "      Epoch    GPU_mem   box_loss   cls_loss   dfl_loss  Instances       Size\n"
     ]
    },
    {
     "name": "stderr",
     "output_type": "stream",
     "text": [
      "     47/150      0.66G       1.28      1.319      1.309         17        640: 100%|██████████| 25/25 [00:03<00:00,  8.17it/s]\n",
      "                 Class     Images  Instances      Box(P          R      mAP50  mAP50-95): 100%|██████████| 13/13 [00:01<00:00,  8.71it/s]"
     ]
    },
    {
     "name": "stdout",
     "output_type": "stream",
     "text": [
      "                   all         99        380      0.849      0.657      0.727      0.492\n"
     ]
    },
    {
     "name": "stderr",
     "output_type": "stream",
     "text": [
      "\n"
     ]
    },
    {
     "name": "stdout",
     "output_type": "stream",
     "text": [
      "\n",
      "      Epoch    GPU_mem   box_loss   cls_loss   dfl_loss  Instances       Size\n"
     ]
    },
    {
     "name": "stderr",
     "output_type": "stream",
     "text": [
      "     48/150      0.66G      1.234      1.356        1.3         14        640: 100%|██████████| 25/25 [00:03<00:00,  8.22it/s]\n",
      "                 Class     Images  Instances      Box(P          R      mAP50  mAP50-95): 100%|██████████| 13/13 [00:01<00:00,  9.33it/s]"
     ]
    },
    {
     "name": "stdout",
     "output_type": "stream",
     "text": [
      "                   all         99        380      0.851      0.654      0.737      0.496\n"
     ]
    },
    {
     "name": "stderr",
     "output_type": "stream",
     "text": [
      "\n"
     ]
    },
    {
     "name": "stdout",
     "output_type": "stream",
     "text": [
      "\n",
      "      Epoch    GPU_mem   box_loss   cls_loss   dfl_loss  Instances       Size\n"
     ]
    },
    {
     "name": "stderr",
     "output_type": "stream",
     "text": [
      "     49/150      0.66G      1.245      1.249       1.31         23        640: 100%|██████████| 25/25 [00:03<00:00,  7.91it/s]\n",
      "                 Class     Images  Instances      Box(P          R      mAP50  mAP50-95): 100%|██████████| 13/13 [00:01<00:00,  8.95it/s]"
     ]
    },
    {
     "name": "stdout",
     "output_type": "stream",
     "text": [
      "                   all         99        380       0.85      0.645      0.726       0.49\n"
     ]
    },
    {
     "name": "stderr",
     "output_type": "stream",
     "text": [
      "\n"
     ]
    },
    {
     "name": "stdout",
     "output_type": "stream",
     "text": [
      "\n",
      "      Epoch    GPU_mem   box_loss   cls_loss   dfl_loss  Instances       Size\n"
     ]
    },
    {
     "name": "stderr",
     "output_type": "stream",
     "text": [
      "     50/150      0.66G      1.247      1.285      1.274         20        640: 100%|██████████| 25/25 [00:03<00:00,  8.33it/s]\n",
      "                 Class     Images  Instances      Box(P          R      mAP50  mAP50-95): 100%|██████████| 13/13 [00:01<00:00,  8.69it/s]"
     ]
    },
    {
     "name": "stdout",
     "output_type": "stream",
     "text": [
      "                   all         99        380      0.856      0.645       0.73      0.497\n"
     ]
    },
    {
     "name": "stderr",
     "output_type": "stream",
     "text": [
      "\n"
     ]
    },
    {
     "name": "stdout",
     "output_type": "stream",
     "text": [
      "\n",
      "      Epoch    GPU_mem   box_loss   cls_loss   dfl_loss  Instances       Size\n"
     ]
    },
    {
     "name": "stderr",
     "output_type": "stream",
     "text": [
      "     51/150      0.66G       1.18      1.256      1.291         14        640: 100%|██████████| 25/25 [00:03<00:00,  8.15it/s]\n",
      "                 Class     Images  Instances      Box(P          R      mAP50  mAP50-95): 100%|██████████| 13/13 [00:01<00:00,  8.94it/s]"
     ]
    },
    {
     "name": "stdout",
     "output_type": "stream",
     "text": [
      "                   all         99        380      0.869      0.628      0.738      0.517\n"
     ]
    },
    {
     "name": "stderr",
     "output_type": "stream",
     "text": [
      "\n"
     ]
    },
    {
     "name": "stdout",
     "output_type": "stream",
     "text": [
      "\n",
      "      Epoch    GPU_mem   box_loss   cls_loss   dfl_loss  Instances       Size\n"
     ]
    },
    {
     "name": "stderr",
     "output_type": "stream",
     "text": [
      "     52/150      0.66G      1.194      1.228      1.271         25        640: 100%|██████████| 25/25 [00:03<00:00,  8.07it/s]\n",
      "                 Class     Images  Instances      Box(P          R      mAP50  mAP50-95): 100%|██████████| 13/13 [00:01<00:00,  9.25it/s]"
     ]
    },
    {
     "name": "stdout",
     "output_type": "stream",
     "text": [
      "                   all         99        380      0.865      0.647      0.741      0.537\n"
     ]
    },
    {
     "name": "stderr",
     "output_type": "stream",
     "text": [
      "\n"
     ]
    },
    {
     "name": "stdout",
     "output_type": "stream",
     "text": [
      "\n",
      "      Epoch    GPU_mem   box_loss   cls_loss   dfl_loss  Instances       Size\n"
     ]
    },
    {
     "name": "stderr",
     "output_type": "stream",
     "text": [
      "     53/150      0.66G      1.191      1.261      1.285         32        640: 100%|██████████| 25/25 [00:03<00:00,  8.16it/s]\n",
      "                 Class     Images  Instances      Box(P          R      mAP50  mAP50-95): 100%|██████████| 13/13 [00:01<00:00,  9.53it/s]"
     ]
    },
    {
     "name": "stdout",
     "output_type": "stream",
     "text": [
      "                   all         99        380      0.891       0.66      0.755      0.558\n"
     ]
    },
    {
     "name": "stderr",
     "output_type": "stream",
     "text": [
      "\n"
     ]
    },
    {
     "name": "stdout",
     "output_type": "stream",
     "text": [
      "\n",
      "      Epoch    GPU_mem   box_loss   cls_loss   dfl_loss  Instances       Size\n"
     ]
    },
    {
     "name": "stderr",
     "output_type": "stream",
     "text": [
      "     54/150      0.66G      1.186      1.215      1.255         35        640: 100%|██████████| 25/25 [00:02<00:00,  8.41it/s]\n",
      "                 Class     Images  Instances      Box(P          R      mAP50  mAP50-95): 100%|██████████| 13/13 [00:01<00:00,  8.29it/s]"
     ]
    },
    {
     "name": "stdout",
     "output_type": "stream",
     "text": [
      "                   all         99        380      0.912      0.666      0.768      0.556\n"
     ]
    },
    {
     "name": "stderr",
     "output_type": "stream",
     "text": [
      "\n"
     ]
    },
    {
     "name": "stdout",
     "output_type": "stream",
     "text": [
      "\n",
      "      Epoch    GPU_mem   box_loss   cls_loss   dfl_loss  Instances       Size\n"
     ]
    },
    {
     "name": "stderr",
     "output_type": "stream",
     "text": [
      "     55/150      0.66G      1.191      1.213      1.246         19        640: 100%|██████████| 25/25 [00:03<00:00,  7.98it/s]\n",
      "                 Class     Images  Instances      Box(P          R      mAP50  mAP50-95): 100%|██████████| 13/13 [00:01<00:00,  9.59it/s]\n"
     ]
    },
    {
     "name": "stdout",
     "output_type": "stream",
     "text": [
      "                   all         99        380      0.736       0.76      0.785      0.561\n",
      "\n",
      "      Epoch    GPU_mem   box_loss   cls_loss   dfl_loss  Instances       Size\n"
     ]
    },
    {
     "name": "stderr",
     "output_type": "stream",
     "text": [
      "     56/150      0.66G      1.155      1.158       1.23         22        640: 100%|██████████| 25/25 [00:03<00:00,  8.12it/s]\n",
      "                 Class     Images  Instances      Box(P          R      mAP50  mAP50-95): 100%|██████████| 13/13 [00:01<00:00,  9.16it/s]"
     ]
    },
    {
     "name": "stdout",
     "output_type": "stream",
     "text": [
      "                   all         99        380      0.719      0.762      0.786      0.578\n"
     ]
    },
    {
     "name": "stderr",
     "output_type": "stream",
     "text": [
      "\n"
     ]
    },
    {
     "name": "stdout",
     "output_type": "stream",
     "text": [
      "\n",
      "      Epoch    GPU_mem   box_loss   cls_loss   dfl_loss  Instances       Size\n"
     ]
    },
    {
     "name": "stderr",
     "output_type": "stream",
     "text": [
      "     57/150      0.66G      1.207      1.237      1.275         10        640: 100%|██████████| 25/25 [00:03<00:00,  8.25it/s]\n",
      "                 Class     Images  Instances      Box(P          R      mAP50  mAP50-95): 100%|██████████| 13/13 [00:01<00:00,  9.09it/s]"
     ]
    },
    {
     "name": "stdout",
     "output_type": "stream",
     "text": [
      "                   all         99        380       0.72      0.756      0.784      0.586\n"
     ]
    },
    {
     "name": "stderr",
     "output_type": "stream",
     "text": [
      "\n"
     ]
    },
    {
     "name": "stdout",
     "output_type": "stream",
     "text": [
      "\n",
      "      Epoch    GPU_mem   box_loss   cls_loss   dfl_loss  Instances       Size\n"
     ]
    },
    {
     "name": "stderr",
     "output_type": "stream",
     "text": [
      "     58/150      0.66G      1.146      1.144      1.243         45        640: 100%|██████████| 25/25 [00:03<00:00,  8.16it/s]\n",
      "                 Class     Images  Instances      Box(P          R      mAP50  mAP50-95): 100%|██████████| 13/13 [00:01<00:00,  8.52it/s]"
     ]
    },
    {
     "name": "stdout",
     "output_type": "stream",
     "text": [
      "                   all         99        380      0.745      0.773      0.795      0.575\n"
     ]
    },
    {
     "name": "stderr",
     "output_type": "stream",
     "text": [
      "\n"
     ]
    },
    {
     "name": "stdout",
     "output_type": "stream",
     "text": [
      "\n",
      "      Epoch    GPU_mem   box_loss   cls_loss   dfl_loss  Instances       Size\n"
     ]
    },
    {
     "name": "stderr",
     "output_type": "stream",
     "text": [
      "     59/150      0.66G      1.157      1.175      1.253         25        640: 100%|██████████| 25/25 [00:03<00:00,  8.01it/s]\n",
      "                 Class     Images  Instances      Box(P          R      mAP50  mAP50-95): 100%|██████████| 13/13 [00:01<00:00,  9.01it/s]"
     ]
    },
    {
     "name": "stdout",
     "output_type": "stream",
     "text": [
      "                   all         99        380      0.761      0.774      0.799       0.57\n"
     ]
    },
    {
     "name": "stderr",
     "output_type": "stream",
     "text": [
      "\n"
     ]
    },
    {
     "name": "stdout",
     "output_type": "stream",
     "text": [
      "\n",
      "      Epoch    GPU_mem   box_loss   cls_loss   dfl_loss  Instances       Size\n"
     ]
    },
    {
     "name": "stderr",
     "output_type": "stream",
     "text": [
      "     60/150      0.66G      1.175      1.182      1.244         16        640: 100%|██████████| 25/25 [00:03<00:00,  8.13it/s]\n",
      "                 Class     Images  Instances      Box(P          R      mAP50  mAP50-95): 100%|██████████| 13/13 [00:01<00:00,  9.41it/s]"
     ]
    },
    {
     "name": "stdout",
     "output_type": "stream",
     "text": [
      "                   all         99        380      0.734      0.782      0.802      0.571\n"
     ]
    },
    {
     "name": "stderr",
     "output_type": "stream",
     "text": [
      "\n"
     ]
    },
    {
     "name": "stdout",
     "output_type": "stream",
     "text": [
      "\n",
      "      Epoch    GPU_mem   box_loss   cls_loss   dfl_loss  Instances       Size\n"
     ]
    },
    {
     "name": "stderr",
     "output_type": "stream",
     "text": [
      "     61/150      0.66G      1.134      1.174      1.212         27        640: 100%|██████████| 25/25 [00:03<00:00,  7.21it/s]\n",
      "                 Class     Images  Instances      Box(P          R      mAP50  mAP50-95): 100%|██████████| 13/13 [00:01<00:00,  8.16it/s]"
     ]
    },
    {
     "name": "stdout",
     "output_type": "stream",
     "text": [
      "                   all         99        380      0.888        0.7      0.787      0.581\n"
     ]
    },
    {
     "name": "stderr",
     "output_type": "stream",
     "text": [
      "\n"
     ]
    },
    {
     "name": "stdout",
     "output_type": "stream",
     "text": [
      "\n",
      "      Epoch    GPU_mem   box_loss   cls_loss   dfl_loss  Instances       Size\n"
     ]
    },
    {
     "name": "stderr",
     "output_type": "stream",
     "text": [
      "     62/150      0.66G      1.143      1.108      1.235         20        640: 100%|██████████| 25/25 [00:03<00:00,  7.81it/s]\n",
      "                 Class     Images  Instances      Box(P          R      mAP50  mAP50-95): 100%|██████████| 13/13 [00:01<00:00,  8.86it/s]"
     ]
    },
    {
     "name": "stdout",
     "output_type": "stream",
     "text": [
      "                   all         99        380      0.926      0.662       0.79      0.587\n"
     ]
    },
    {
     "name": "stderr",
     "output_type": "stream",
     "text": [
      "\n"
     ]
    },
    {
     "name": "stdout",
     "output_type": "stream",
     "text": [
      "\n",
      "      Epoch    GPU_mem   box_loss   cls_loss   dfl_loss  Instances       Size\n"
     ]
    },
    {
     "name": "stderr",
     "output_type": "stream",
     "text": [
      "     63/150      0.66G      1.155      1.142       1.27         18        640: 100%|██████████| 25/25 [00:03<00:00,  8.05it/s]\n",
      "                 Class     Images  Instances      Box(P          R      mAP50  mAP50-95): 100%|██████████| 13/13 [00:01<00:00,  9.30it/s]"
     ]
    },
    {
     "name": "stdout",
     "output_type": "stream",
     "text": [
      "                   all         99        380      0.724      0.772       0.83      0.621\n"
     ]
    },
    {
     "name": "stderr",
     "output_type": "stream",
     "text": [
      "\n"
     ]
    },
    {
     "name": "stdout",
     "output_type": "stream",
     "text": [
      "\n",
      "      Epoch    GPU_mem   box_loss   cls_loss   dfl_loss  Instances       Size\n"
     ]
    },
    {
     "name": "stderr",
     "output_type": "stream",
     "text": [
      "     64/150      0.66G      1.052      1.079       1.17         43        640: 100%|██████████| 25/25 [00:03<00:00,  7.97it/s]\n",
      "                 Class     Images  Instances      Box(P          R      mAP50  mAP50-95): 100%|██████████| 13/13 [00:01<00:00,  8.77it/s]"
     ]
    },
    {
     "name": "stdout",
     "output_type": "stream",
     "text": [
      "                   all         99        380       0.87      0.748      0.838       0.63\n"
     ]
    },
    {
     "name": "stderr",
     "output_type": "stream",
     "text": [
      "\n"
     ]
    },
    {
     "name": "stdout",
     "output_type": "stream",
     "text": [
      "\n",
      "      Epoch    GPU_mem   box_loss   cls_loss   dfl_loss  Instances       Size\n"
     ]
    },
    {
     "name": "stderr",
     "output_type": "stream",
     "text": [
      "     65/150      0.66G      1.138      1.123      1.225         15        640: 100%|██████████| 25/25 [00:03<00:00,  7.76it/s]\n",
      "                 Class     Images  Instances      Box(P          R      mAP50  mAP50-95): 100%|██████████| 13/13 [00:01<00:00,  8.97it/s]"
     ]
    },
    {
     "name": "stdout",
     "output_type": "stream",
     "text": [
      "                   all         99        380      0.942      0.763      0.859      0.653\n"
     ]
    },
    {
     "name": "stderr",
     "output_type": "stream",
     "text": [
      "\n"
     ]
    },
    {
     "name": "stdout",
     "output_type": "stream",
     "text": [
      "\n",
      "      Epoch    GPU_mem   box_loss   cls_loss   dfl_loss  Instances       Size\n"
     ]
    },
    {
     "name": "stderr",
     "output_type": "stream",
     "text": [
      "     66/150      0.66G      1.151      1.103       1.23         22        640: 100%|██████████| 25/25 [00:03<00:00,  7.89it/s]\n",
      "                 Class     Images  Instances      Box(P          R      mAP50  mAP50-95): 100%|██████████| 13/13 [00:01<00:00,  8.63it/s]"
     ]
    },
    {
     "name": "stdout",
     "output_type": "stream",
     "text": [
      "                   all         99        380      0.928      0.759      0.862      0.655\n"
     ]
    },
    {
     "name": "stderr",
     "output_type": "stream",
     "text": [
      "\n"
     ]
    },
    {
     "name": "stdout",
     "output_type": "stream",
     "text": [
      "\n",
      "      Epoch    GPU_mem   box_loss   cls_loss   dfl_loss  Instances       Size\n"
     ]
    },
    {
     "name": "stderr",
     "output_type": "stream",
     "text": [
      "     67/150      0.66G      1.117      1.069      1.194         22        640: 100%|██████████| 25/25 [00:03<00:00,  7.79it/s]\n",
      "                 Class     Images  Instances      Box(P          R      mAP50  mAP50-95): 100%|██████████| 13/13 [00:01<00:00,  9.54it/s]"
     ]
    },
    {
     "name": "stdout",
     "output_type": "stream",
     "text": [
      "                   all         99        380       0.85      0.757       0.87      0.654\n"
     ]
    },
    {
     "name": "stderr",
     "output_type": "stream",
     "text": [
      "\n"
     ]
    },
    {
     "name": "stdout",
     "output_type": "stream",
     "text": [
      "\n",
      "      Epoch    GPU_mem   box_loss   cls_loss   dfl_loss  Instances       Size\n"
     ]
    },
    {
     "name": "stderr",
     "output_type": "stream",
     "text": [
      "     68/150      0.66G      1.121      1.099      1.244         30        640: 100%|██████████| 25/25 [00:03<00:00,  7.66it/s]\n",
      "                 Class     Images  Instances      Box(P          R      mAP50  mAP50-95): 100%|██████████| 13/13 [00:01<00:00,  8.71it/s]"
     ]
    },
    {
     "name": "stdout",
     "output_type": "stream",
     "text": [
      "                   all         99        380      0.863      0.745      0.861      0.653\n"
     ]
    },
    {
     "name": "stderr",
     "output_type": "stream",
     "text": [
      "\n"
     ]
    },
    {
     "name": "stdout",
     "output_type": "stream",
     "text": [
      "\n",
      "      Epoch    GPU_mem   box_loss   cls_loss   dfl_loss  Instances       Size\n"
     ]
    },
    {
     "name": "stderr",
     "output_type": "stream",
     "text": [
      "     69/150      0.66G      1.091       1.06      1.225         10        640: 100%|██████████| 25/25 [00:03<00:00,  8.11it/s]\n",
      "                 Class     Images  Instances      Box(P          R      mAP50  mAP50-95): 100%|██████████| 13/13 [00:01<00:00,  9.34it/s]\n"
     ]
    },
    {
     "name": "stdout",
     "output_type": "stream",
     "text": [
      "                   all         99        380      0.866      0.741      0.862      0.653\n",
      "\n",
      "      Epoch    GPU_mem   box_loss   cls_loss   dfl_loss  Instances       Size\n"
     ]
    },
    {
     "name": "stderr",
     "output_type": "stream",
     "text": [
      "     70/150      0.66G      1.118      1.068      1.215         44        640: 100%|██████████| 25/25 [00:03<00:00,  8.14it/s]\n",
      "                 Class     Images  Instances      Box(P          R      mAP50  mAP50-95): 100%|██████████| 13/13 [00:01<00:00,  8.99it/s]"
     ]
    },
    {
     "name": "stdout",
     "output_type": "stream",
     "text": [
      "                   all         99        380      0.876      0.751      0.863      0.653\n"
     ]
    },
    {
     "name": "stderr",
     "output_type": "stream",
     "text": [
      "\n"
     ]
    },
    {
     "name": "stdout",
     "output_type": "stream",
     "text": [
      "\n",
      "      Epoch    GPU_mem   box_loss   cls_loss   dfl_loss  Instances       Size\n"
     ]
    },
    {
     "name": "stderr",
     "output_type": "stream",
     "text": [
      "     71/150      0.66G      1.073       1.04      1.189         24        640: 100%|██████████| 25/25 [00:03<00:00,  7.88it/s]\n",
      "                 Class     Images  Instances      Box(P          R      mAP50  mAP50-95): 100%|██████████| 13/13 [00:01<00:00,  9.22it/s]"
     ]
    },
    {
     "name": "stdout",
     "output_type": "stream",
     "text": [
      "                   all         99        380      0.892      0.745      0.859      0.656\n"
     ]
    },
    {
     "name": "stderr",
     "output_type": "stream",
     "text": [
      "\n"
     ]
    },
    {
     "name": "stdout",
     "output_type": "stream",
     "text": [
      "\n",
      "      Epoch    GPU_mem   box_loss   cls_loss   dfl_loss  Instances       Size\n"
     ]
    },
    {
     "name": "stderr",
     "output_type": "stream",
     "text": [
      "     72/150      0.66G      1.125      1.106      1.213         19        640: 100%|██████████| 25/25 [00:03<00:00,  8.03it/s]\n",
      "                 Class     Images  Instances      Box(P          R      mAP50  mAP50-95): 100%|██████████| 13/13 [00:02<00:00,  6.27it/s]"
     ]
    },
    {
     "name": "stdout",
     "output_type": "stream",
     "text": [
      "                   all         99        380      0.906      0.748      0.857      0.658\n"
     ]
    },
    {
     "name": "stderr",
     "output_type": "stream",
     "text": [
      "\n"
     ]
    },
    {
     "name": "stdout",
     "output_type": "stream",
     "text": [
      "\n",
      "      Epoch    GPU_mem   box_loss   cls_loss   dfl_loss  Instances       Size\n"
     ]
    },
    {
     "name": "stderr",
     "output_type": "stream",
     "text": [
      "     73/150      0.66G      1.062      1.028       1.18         20        640: 100%|██████████| 25/25 [00:05<00:00,  4.94it/s]\n",
      "                 Class     Images  Instances      Box(P          R      mAP50  mAP50-95): 100%|██████████| 13/13 [00:01<00:00,  6.96it/s]"
     ]
    },
    {
     "name": "stdout",
     "output_type": "stream",
     "text": [
      "                   all         99        380      0.923      0.743       0.86      0.663\n"
     ]
    },
    {
     "name": "stderr",
     "output_type": "stream",
     "text": [
      "\n"
     ]
    },
    {
     "name": "stdout",
     "output_type": "stream",
     "text": [
      "\n",
      "      Epoch    GPU_mem   box_loss   cls_loss   dfl_loss  Instances       Size\n"
     ]
    },
    {
     "name": "stderr",
     "output_type": "stream",
     "text": [
      "     74/150      0.66G      1.064      1.055      1.207         19        640: 100%|██████████| 25/25 [00:03<00:00,  6.52it/s]\n",
      "                 Class     Images  Instances      Box(P          R      mAP50  mAP50-95): 100%|██████████| 13/13 [00:01<00:00,  7.12it/s]"
     ]
    },
    {
     "name": "stdout",
     "output_type": "stream",
     "text": [
      "                   all         99        380      0.878      0.745      0.867      0.665\n"
     ]
    },
    {
     "name": "stderr",
     "output_type": "stream",
     "text": [
      "\n"
     ]
    },
    {
     "name": "stdout",
     "output_type": "stream",
     "text": [
      "\n",
      "      Epoch    GPU_mem   box_loss   cls_loss   dfl_loss  Instances       Size\n"
     ]
    },
    {
     "name": "stderr",
     "output_type": "stream",
     "text": [
      "     75/150      0.66G      1.078      1.005      1.183         26        640: 100%|██████████| 25/25 [00:04<00:00,  5.13it/s]\n",
      "                 Class     Images  Instances      Box(P          R      mAP50  mAP50-95): 100%|██████████| 13/13 [00:01<00:00,  7.91it/s]"
     ]
    },
    {
     "name": "stdout",
     "output_type": "stream",
     "text": [
      "                   all         99        380      0.842      0.758      0.864      0.662\n"
     ]
    },
    {
     "name": "stderr",
     "output_type": "stream",
     "text": [
      "\n"
     ]
    },
    {
     "name": "stdout",
     "output_type": "stream",
     "text": [
      "\n",
      "      Epoch    GPU_mem   box_loss   cls_loss   dfl_loss  Instances       Size\n"
     ]
    },
    {
     "name": "stderr",
     "output_type": "stream",
     "text": [
      "     76/150      0.66G      1.054     0.9722      1.155         49        640: 100%|██████████| 25/25 [00:04<00:00,  6.18it/s]\n",
      "                 Class     Images  Instances      Box(P          R      mAP50  mAP50-95): 100%|██████████| 13/13 [00:01<00:00,  7.53it/s]"
     ]
    },
    {
     "name": "stdout",
     "output_type": "stream",
     "text": [
      "                   all         99        380      0.792      0.777      0.849      0.656\n"
     ]
    },
    {
     "name": "stderr",
     "output_type": "stream",
     "text": [
      "\n"
     ]
    },
    {
     "name": "stdout",
     "output_type": "stream",
     "text": [
      "\n",
      "      Epoch    GPU_mem   box_loss   cls_loss   dfl_loss  Instances       Size\n"
     ]
    },
    {
     "name": "stderr",
     "output_type": "stream",
     "text": [
      "     77/150      0.66G      1.072      1.052        1.2         28        640: 100%|██████████| 25/25 [00:03<00:00,  7.79it/s]\n",
      "                 Class     Images  Instances      Box(P          R      mAP50  mAP50-95): 100%|██████████| 13/13 [00:01<00:00,  7.59it/s]"
     ]
    },
    {
     "name": "stdout",
     "output_type": "stream",
     "text": [
      "                   all         99        380      0.874       0.72       0.85      0.653\n"
     ]
    },
    {
     "name": "stderr",
     "output_type": "stream",
     "text": [
      "\n"
     ]
    },
    {
     "name": "stdout",
     "output_type": "stream",
     "text": [
      "\n",
      "      Epoch    GPU_mem   box_loss   cls_loss   dfl_loss  Instances       Size\n"
     ]
    },
    {
     "name": "stderr",
     "output_type": "stream",
     "text": [
      "     78/150      0.66G       1.08      1.038      1.206         19        640: 100%|██████████| 25/25 [00:03<00:00,  7.58it/s]\n",
      "                 Class     Images  Instances      Box(P          R      mAP50  mAP50-95): 100%|██████████| 13/13 [00:01<00:00,  9.21it/s]"
     ]
    },
    {
     "name": "stdout",
     "output_type": "stream",
     "text": [
      "                   all         99        380      0.884      0.744      0.867      0.664\n"
     ]
    },
    {
     "name": "stderr",
     "output_type": "stream",
     "text": [
      "\n"
     ]
    },
    {
     "name": "stdout",
     "output_type": "stream",
     "text": [
      "\n",
      "      Epoch    GPU_mem   box_loss   cls_loss   dfl_loss  Instances       Size\n"
     ]
    },
    {
     "name": "stderr",
     "output_type": "stream",
     "text": [
      "     79/150      0.66G      1.089      1.035      1.204         28        640: 100%|██████████| 25/25 [00:03<00:00,  7.66it/s]\n",
      "                 Class     Images  Instances      Box(P          R      mAP50  mAP50-95): 100%|██████████| 13/13 [00:01<00:00, 10.08it/s]"
     ]
    },
    {
     "name": "stdout",
     "output_type": "stream",
     "text": [
      "                   all         99        380      0.879      0.735      0.876      0.668\n"
     ]
    },
    {
     "name": "stderr",
     "output_type": "stream",
     "text": [
      "\n"
     ]
    },
    {
     "name": "stdout",
     "output_type": "stream",
     "text": [
      "\n",
      "      Epoch    GPU_mem   box_loss   cls_loss   dfl_loss  Instances       Size\n"
     ]
    },
    {
     "name": "stderr",
     "output_type": "stream",
     "text": [
      "     80/150      0.66G       1.07     0.9957      1.194         25        640: 100%|██████████| 25/25 [00:03<00:00,  8.21it/s]\n",
      "                 Class     Images  Instances      Box(P          R      mAP50  mAP50-95): 100%|██████████| 13/13 [00:01<00:00,  8.62it/s]"
     ]
    },
    {
     "name": "stdout",
     "output_type": "stream",
     "text": [
      "                   all         99        380      0.853      0.764      0.874      0.672\n"
     ]
    },
    {
     "name": "stderr",
     "output_type": "stream",
     "text": [
      "\n"
     ]
    },
    {
     "name": "stdout",
     "output_type": "stream",
     "text": [
      "\n",
      "      Epoch    GPU_mem   box_loss   cls_loss   dfl_loss  Instances       Size\n"
     ]
    },
    {
     "name": "stderr",
     "output_type": "stream",
     "text": [
      "     81/150      0.66G      1.009     0.9853      1.156         40        640: 100%|██████████| 25/25 [00:03<00:00,  7.90it/s]\n",
      "                 Class     Images  Instances      Box(P          R      mAP50  mAP50-95): 100%|██████████| 13/13 [00:01<00:00,  9.66it/s]\n"
     ]
    },
    {
     "name": "stdout",
     "output_type": "stream",
     "text": [
      "                   all         99        380      0.878      0.783      0.877      0.672\n",
      "\n",
      "      Epoch    GPU_mem   box_loss   cls_loss   dfl_loss  Instances       Size\n"
     ]
    },
    {
     "name": "stderr",
     "output_type": "stream",
     "text": [
      "     82/150      0.66G      1.014     0.9671      1.146         19        640: 100%|██████████| 25/25 [00:03<00:00,  7.72it/s]\n",
      "                 Class     Images  Instances      Box(P          R      mAP50  mAP50-95): 100%|██████████| 13/13 [00:01<00:00,  8.92it/s]"
     ]
    },
    {
     "name": "stdout",
     "output_type": "stream",
     "text": [
      "                   all         99        380       0.88       0.78      0.884      0.677\n"
     ]
    },
    {
     "name": "stderr",
     "output_type": "stream",
     "text": [
      "\n"
     ]
    },
    {
     "name": "stdout",
     "output_type": "stream",
     "text": [
      "\n",
      "      Epoch    GPU_mem   box_loss   cls_loss   dfl_loss  Instances       Size\n"
     ]
    },
    {
     "name": "stderr",
     "output_type": "stream",
     "text": [
      "     83/150      0.66G      1.012     0.9802      1.163         25        640: 100%|██████████| 25/25 [00:03<00:00,  7.90it/s]\n",
      "                 Class     Images  Instances      Box(P          R      mAP50  mAP50-95): 100%|██████████| 13/13 [00:01<00:00,  9.20it/s]"
     ]
    },
    {
     "name": "stdout",
     "output_type": "stream",
     "text": [
      "                   all         99        380      0.932      0.778      0.893      0.691\n"
     ]
    },
    {
     "name": "stderr",
     "output_type": "stream",
     "text": [
      "\n"
     ]
    },
    {
     "name": "stdout",
     "output_type": "stream",
     "text": [
      "\n",
      "      Epoch    GPU_mem   box_loss   cls_loss   dfl_loss  Instances       Size\n"
     ]
    },
    {
     "name": "stderr",
     "output_type": "stream",
     "text": [
      "     84/150      0.66G      0.977     0.9781      1.135         25        640: 100%|██████████| 25/25 [00:03<00:00,  8.07it/s]\n",
      "                 Class     Images  Instances      Box(P          R      mAP50  mAP50-95): 100%|██████████| 13/13 [00:01<00:00,  8.78it/s]"
     ]
    },
    {
     "name": "stdout",
     "output_type": "stream",
     "text": [
      "                   all         99        380      0.936      0.769      0.895      0.692\n"
     ]
    },
    {
     "name": "stderr",
     "output_type": "stream",
     "text": [
      "\n"
     ]
    },
    {
     "name": "stdout",
     "output_type": "stream",
     "text": [
      "\n",
      "      Epoch    GPU_mem   box_loss   cls_loss   dfl_loss  Instances       Size\n"
     ]
    },
    {
     "name": "stderr",
     "output_type": "stream",
     "text": [
      "     85/150      0.66G          1     0.9411      1.126         25        640: 100%|██████████| 25/25 [00:03<00:00,  8.18it/s]\n",
      "                 Class     Images  Instances      Box(P          R      mAP50  mAP50-95): 100%|██████████| 13/13 [00:01<00:00,  9.23it/s]"
     ]
    },
    {
     "name": "stdout",
     "output_type": "stream",
     "text": [
      "                   all         99        380       0.93      0.765      0.901      0.697\n"
     ]
    },
    {
     "name": "stderr",
     "output_type": "stream",
     "text": [
      "\n"
     ]
    },
    {
     "name": "stdout",
     "output_type": "stream",
     "text": [
      "\n",
      "      Epoch    GPU_mem   box_loss   cls_loss   dfl_loss  Instances       Size\n"
     ]
    },
    {
     "name": "stderr",
     "output_type": "stream",
     "text": [
      "     86/150      0.66G     0.9582     0.9672      1.168         28        640: 100%|██████████| 25/25 [00:03<00:00,  8.11it/s]\n",
      "                 Class     Images  Instances      Box(P          R      mAP50  mAP50-95): 100%|██████████| 13/13 [00:01<00:00,  8.96it/s]"
     ]
    },
    {
     "name": "stdout",
     "output_type": "stream",
     "text": [
      "                   all         99        380      0.898      0.773      0.896      0.689\n"
     ]
    },
    {
     "name": "stderr",
     "output_type": "stream",
     "text": [
      "\n"
     ]
    },
    {
     "name": "stdout",
     "output_type": "stream",
     "text": [
      "\n",
      "      Epoch    GPU_mem   box_loss   cls_loss   dfl_loss  Instances       Size\n"
     ]
    },
    {
     "name": "stderr",
     "output_type": "stream",
     "text": [
      "     87/150      0.66G      1.025     0.9771      1.155         31        640: 100%|██████████| 25/25 [00:03<00:00,  7.82it/s]\n",
      "                 Class     Images  Instances      Box(P          R      mAP50  mAP50-95): 100%|██████████| 13/13 [00:01<00:00,  8.98it/s]"
     ]
    },
    {
     "name": "stdout",
     "output_type": "stream",
     "text": [
      "                   all         99        380      0.816      0.877      0.906        0.7\n"
     ]
    },
    {
     "name": "stderr",
     "output_type": "stream",
     "text": [
      "\n"
     ]
    },
    {
     "name": "stdout",
     "output_type": "stream",
     "text": [
      "\n",
      "      Epoch    GPU_mem   box_loss   cls_loss   dfl_loss  Instances       Size\n"
     ]
    },
    {
     "name": "stderr",
     "output_type": "stream",
     "text": [
      "     88/150      0.66G      1.001      0.927      1.145         26        640: 100%|██████████| 25/25 [00:03<00:00,  8.24it/s]\n",
      "                 Class     Images  Instances      Box(P          R      mAP50  mAP50-95): 100%|██████████| 13/13 [00:01<00:00,  9.29it/s]\n"
     ]
    },
    {
     "name": "stdout",
     "output_type": "stream",
     "text": [
      "                   all         99        380      0.842      0.887      0.911      0.718\n",
      "\n",
      "      Epoch    GPU_mem   box_loss   cls_loss   dfl_loss  Instances       Size\n"
     ]
    },
    {
     "name": "stderr",
     "output_type": "stream",
     "text": [
      "     89/150      0.66G     0.9054     0.9036      1.112         15        640: 100%|██████████| 25/25 [00:03<00:00,  8.29it/s]\n",
      "                 Class     Images  Instances      Box(P          R      mAP50  mAP50-95): 100%|██████████| 13/13 [00:01<00:00,  9.39it/s]"
     ]
    },
    {
     "name": "stdout",
     "output_type": "stream",
     "text": [
      "                   all         99        380      0.857       0.88      0.913       0.72\n"
     ]
    },
    {
     "name": "stderr",
     "output_type": "stream",
     "text": [
      "\n"
     ]
    },
    {
     "name": "stdout",
     "output_type": "stream",
     "text": [
      "\n",
      "      Epoch    GPU_mem   box_loss   cls_loss   dfl_loss  Instances       Size\n"
     ]
    },
    {
     "name": "stderr",
     "output_type": "stream",
     "text": [
      "     90/150      0.66G     0.9884     0.9025      1.164         29        640: 100%|██████████| 25/25 [00:03<00:00,  7.98it/s]\n",
      "                 Class     Images  Instances      Box(P          R      mAP50  mAP50-95): 100%|██████████| 13/13 [00:01<00:00,  9.06it/s]"
     ]
    },
    {
     "name": "stdout",
     "output_type": "stream",
     "text": [
      "                   all         99        380      0.843      0.878      0.922      0.731\n"
     ]
    },
    {
     "name": "stderr",
     "output_type": "stream",
     "text": [
      "\n"
     ]
    },
    {
     "name": "stdout",
     "output_type": "stream",
     "text": [
      "\n",
      "      Epoch    GPU_mem   box_loss   cls_loss   dfl_loss  Instances       Size\n"
     ]
    },
    {
     "name": "stderr",
     "output_type": "stream",
     "text": [
      "     91/150      0.66G     0.9535     0.9325      1.139         23        640: 100%|██████████| 25/25 [00:03<00:00,  8.12it/s]\n",
      "                 Class     Images  Instances      Box(P          R      mAP50  mAP50-95): 100%|██████████| 13/13 [00:01<00:00,  9.74it/s]"
     ]
    },
    {
     "name": "stdout",
     "output_type": "stream",
     "text": [
      "                   all         99        380      0.853      0.875      0.927      0.735\n"
     ]
    },
    {
     "name": "stderr",
     "output_type": "stream",
     "text": [
      "\n"
     ]
    },
    {
     "name": "stdout",
     "output_type": "stream",
     "text": [
      "\n",
      "      Epoch    GPU_mem   box_loss   cls_loss   dfl_loss  Instances       Size\n"
     ]
    },
    {
     "name": "stderr",
     "output_type": "stream",
     "text": [
      "     92/150      0.66G     0.9678     0.9074      1.134         20        640: 100%|██████████| 25/25 [00:03<00:00,  8.11it/s]\n",
      "                 Class     Images  Instances      Box(P          R      mAP50  mAP50-95): 100%|██████████| 13/13 [00:01<00:00,  8.76it/s]"
     ]
    },
    {
     "name": "stdout",
     "output_type": "stream",
     "text": [
      "                   all         99        380      0.806       0.93       0.94       0.74\n"
     ]
    },
    {
     "name": "stderr",
     "output_type": "stream",
     "text": [
      "\n"
     ]
    },
    {
     "name": "stdout",
     "output_type": "stream",
     "text": [
      "\n",
      "      Epoch    GPU_mem   box_loss   cls_loss   dfl_loss  Instances       Size\n"
     ]
    },
    {
     "name": "stderr",
     "output_type": "stream",
     "text": [
      "     93/150      0.66G     0.9692      1.003      1.187         15        640: 100%|██████████| 25/25 [00:03<00:00,  8.00it/s]\n",
      "                 Class     Images  Instances      Box(P          R      mAP50  mAP50-95): 100%|██████████| 13/13 [00:01<00:00,  9.18it/s]"
     ]
    },
    {
     "name": "stdout",
     "output_type": "stream",
     "text": [
      "                   all         99        380      0.806      0.948       0.94      0.736\n"
     ]
    },
    {
     "name": "stderr",
     "output_type": "stream",
     "text": [
      "\n"
     ]
    },
    {
     "name": "stdout",
     "output_type": "stream",
     "text": [
      "\n",
      "      Epoch    GPU_mem   box_loss   cls_loss   dfl_loss  Instances       Size\n"
     ]
    },
    {
     "name": "stderr",
     "output_type": "stream",
     "text": [
      "     94/150      0.66G     0.8993     0.8737      1.105         18        640: 100%|██████████| 25/25 [00:03<00:00,  8.07it/s]\n",
      "                 Class     Images  Instances      Box(P          R      mAP50  mAP50-95): 100%|██████████| 13/13 [00:01<00:00,  9.04it/s]"
     ]
    },
    {
     "name": "stdout",
     "output_type": "stream",
     "text": [
      "                   all         99        380      0.812      0.946      0.942      0.736\n"
     ]
    },
    {
     "name": "stderr",
     "output_type": "stream",
     "text": [
      "\n"
     ]
    },
    {
     "name": "stdout",
     "output_type": "stream",
     "text": [
      "\n",
      "      Epoch    GPU_mem   box_loss   cls_loss   dfl_loss  Instances       Size\n"
     ]
    },
    {
     "name": "stderr",
     "output_type": "stream",
     "text": [
      "     95/150      0.66G     0.9597     0.9102       1.14         16        640: 100%|██████████| 25/25 [00:03<00:00,  7.98it/s]\n",
      "                 Class     Images  Instances      Box(P          R      mAP50  mAP50-95): 100%|██████████| 13/13 [00:01<00:00,  9.78it/s]"
     ]
    },
    {
     "name": "stdout",
     "output_type": "stream",
     "text": [
      "                   all         99        380      0.921      0.847      0.953      0.753\n"
     ]
    },
    {
     "name": "stderr",
     "output_type": "stream",
     "text": [
      "\n"
     ]
    },
    {
     "name": "stdout",
     "output_type": "stream",
     "text": [
      "\n",
      "      Epoch    GPU_mem   box_loss   cls_loss   dfl_loss  Instances       Size\n"
     ]
    },
    {
     "name": "stderr",
     "output_type": "stream",
     "text": [
      "     96/150      0.66G     0.9646      0.884      1.118         22        640: 100%|██████████| 25/25 [00:03<00:00,  7.98it/s]\n",
      "                 Class     Images  Instances      Box(P          R      mAP50  mAP50-95): 100%|██████████| 13/13 [00:01<00:00,  8.95it/s]"
     ]
    },
    {
     "name": "stdout",
     "output_type": "stream",
     "text": [
      "                   all         99        380       0.92      0.845      0.954      0.755\n"
     ]
    },
    {
     "name": "stderr",
     "output_type": "stream",
     "text": [
      "\n"
     ]
    },
    {
     "name": "stdout",
     "output_type": "stream",
     "text": [
      "\n",
      "      Epoch    GPU_mem   box_loss   cls_loss   dfl_loss  Instances       Size\n"
     ]
    },
    {
     "name": "stderr",
     "output_type": "stream",
     "text": [
      "     97/150      0.66G     0.9249     0.8975      1.106         21        640: 100%|██████████| 25/25 [00:03<00:00,  7.92it/s]\n",
      "                 Class     Images  Instances      Box(P          R      mAP50  mAP50-95): 100%|██████████| 13/13 [00:01<00:00,  9.51it/s]"
     ]
    },
    {
     "name": "stdout",
     "output_type": "stream",
     "text": [
      "                   all         99        380      0.924      0.856      0.955      0.756\n"
     ]
    },
    {
     "name": "stderr",
     "output_type": "stream",
     "text": [
      "\n"
     ]
    },
    {
     "name": "stdout",
     "output_type": "stream",
     "text": [
      "\n",
      "      Epoch    GPU_mem   box_loss   cls_loss   dfl_loss  Instances       Size\n"
     ]
    },
    {
     "name": "stderr",
     "output_type": "stream",
     "text": [
      "     98/150      0.66G     0.9387     0.8999      1.138         13        640: 100%|██████████| 25/25 [00:03<00:00,  7.85it/s]\n",
      "                 Class     Images  Instances      Box(P          R      mAP50  mAP50-95): 100%|██████████| 13/13 [00:01<00:00,  9.05it/s]"
     ]
    },
    {
     "name": "stdout",
     "output_type": "stream",
     "text": [
      "                   all         99        380      0.809      0.965      0.942      0.739\n"
     ]
    },
    {
     "name": "stderr",
     "output_type": "stream",
     "text": [
      "\n"
     ]
    },
    {
     "name": "stdout",
     "output_type": "stream",
     "text": [
      "\n",
      "      Epoch    GPU_mem   box_loss   cls_loss   dfl_loss  Instances       Size\n"
     ]
    },
    {
     "name": "stderr",
     "output_type": "stream",
     "text": [
      "     99/150      0.66G     0.9191      0.898      1.112         33        640: 100%|██████████| 25/25 [00:03<00:00,  7.61it/s]\n",
      "                 Class     Images  Instances      Box(P          R      mAP50  mAP50-95): 100%|██████████| 13/13 [00:01<00:00,  9.67it/s]"
     ]
    },
    {
     "name": "stdout",
     "output_type": "stream",
     "text": [
      "                   all         99        380      0.827      0.937      0.945      0.736\n"
     ]
    },
    {
     "name": "stderr",
     "output_type": "stream",
     "text": [
      "\n"
     ]
    },
    {
     "name": "stdout",
     "output_type": "stream",
     "text": [
      "\n",
      "      Epoch    GPU_mem   box_loss   cls_loss   dfl_loss  Instances       Size\n"
     ]
    },
    {
     "name": "stderr",
     "output_type": "stream",
     "text": [
      "    100/150      0.66G     0.9346     0.9154      1.132         13        640: 100%|██████████| 25/25 [00:03<00:00,  8.02it/s]\n",
      "                 Class     Images  Instances      Box(P          R      mAP50  mAP50-95): 100%|██████████| 13/13 [00:01<00:00,  9.50it/s]\n"
     ]
    },
    {
     "name": "stdout",
     "output_type": "stream",
     "text": [
      "                   all         99        380       0.85      0.937      0.951      0.739\n",
      "\n",
      "      Epoch    GPU_mem   box_loss   cls_loss   dfl_loss  Instances       Size\n"
     ]
    },
    {
     "name": "stderr",
     "output_type": "stream",
     "text": [
      "    101/150      0.66G     0.9176     0.8969      1.112         27        640: 100%|██████████| 25/25 [00:03<00:00,  8.28it/s]\n",
      "                 Class     Images  Instances      Box(P          R      mAP50  mAP50-95): 100%|██████████| 13/13 [00:01<00:00,  9.05it/s]"
     ]
    },
    {
     "name": "stdout",
     "output_type": "stream",
     "text": [
      "                   all         99        380      0.858      0.931       0.95      0.738\n"
     ]
    },
    {
     "name": "stderr",
     "output_type": "stream",
     "text": [
      "\n"
     ]
    },
    {
     "name": "stdout",
     "output_type": "stream",
     "text": [
      "\n",
      "      Epoch    GPU_mem   box_loss   cls_loss   dfl_loss  Instances       Size\n"
     ]
    },
    {
     "name": "stderr",
     "output_type": "stream",
     "text": [
      "    102/150      0.66G      0.895      0.861      1.087         32        640: 100%|██████████| 25/25 [00:03<00:00,  7.49it/s]\n",
      "                 Class     Images  Instances      Box(P          R      mAP50  mAP50-95): 100%|██████████| 13/13 [00:01<00:00,  9.41it/s]"
     ]
    },
    {
     "name": "stdout",
     "output_type": "stream",
     "text": [
      "                   all         99        380      0.903      0.903      0.951      0.744\n"
     ]
    },
    {
     "name": "stderr",
     "output_type": "stream",
     "text": [
      "\n"
     ]
    },
    {
     "name": "stdout",
     "output_type": "stream",
     "text": [
      "\n",
      "      Epoch    GPU_mem   box_loss   cls_loss   dfl_loss  Instances       Size\n"
     ]
    },
    {
     "name": "stderr",
     "output_type": "stream",
     "text": [
      "    103/150      0.66G      0.928      0.889      1.125         17        640: 100%|██████████| 25/25 [00:03<00:00,  8.29it/s]\n",
      "                 Class     Images  Instances      Box(P          R      mAP50  mAP50-95): 100%|██████████| 13/13 [00:01<00:00,  8.71it/s]"
     ]
    },
    {
     "name": "stdout",
     "output_type": "stream",
     "text": [
      "                   all         99        380      0.906      0.906      0.965      0.756\n"
     ]
    },
    {
     "name": "stderr",
     "output_type": "stream",
     "text": [
      "\n"
     ]
    },
    {
     "name": "stdout",
     "output_type": "stream",
     "text": [
      "\n",
      "      Epoch    GPU_mem   box_loss   cls_loss   dfl_loss  Instances       Size\n"
     ]
    },
    {
     "name": "stderr",
     "output_type": "stream",
     "text": [
      "    104/150      0.66G     0.9307     0.8762      1.101         29        640: 100%|██████████| 25/25 [00:03<00:00,  8.15it/s]\n",
      "                 Class     Images  Instances      Box(P          R      mAP50  mAP50-95): 100%|██████████| 13/13 [00:01<00:00,  8.55it/s]"
     ]
    },
    {
     "name": "stdout",
     "output_type": "stream",
     "text": [
      "                   all         99        380      0.903      0.915      0.955      0.764\n"
     ]
    },
    {
     "name": "stderr",
     "output_type": "stream",
     "text": [
      "\n"
     ]
    },
    {
     "name": "stdout",
     "output_type": "stream",
     "text": [
      "\n",
      "      Epoch    GPU_mem   box_loss   cls_loss   dfl_loss  Instances       Size\n"
     ]
    },
    {
     "name": "stderr",
     "output_type": "stream",
     "text": [
      "    105/150      0.66G     0.8946     0.8315      1.102         25        640: 100%|██████████| 25/25 [00:03<00:00,  8.05it/s]\n",
      "                 Class     Images  Instances      Box(P          R      mAP50  mAP50-95): 100%|██████████| 13/13 [00:01<00:00,  9.17it/s]"
     ]
    },
    {
     "name": "stdout",
     "output_type": "stream",
     "text": [
      "                   all         99        380      0.853      0.966      0.968      0.773\n"
     ]
    },
    {
     "name": "stderr",
     "output_type": "stream",
     "text": [
      "\n"
     ]
    },
    {
     "name": "stdout",
     "output_type": "stream",
     "text": [
      "\n",
      "      Epoch    GPU_mem   box_loss   cls_loss   dfl_loss  Instances       Size\n"
     ]
    },
    {
     "name": "stderr",
     "output_type": "stream",
     "text": [
      "    106/150      0.66G     0.9378     0.8364      1.099         17        640: 100%|██████████| 25/25 [00:03<00:00,  8.00it/s]\n",
      "                 Class     Images  Instances      Box(P          R      mAP50  mAP50-95): 100%|██████████| 13/13 [00:01<00:00,  9.07it/s]"
     ]
    },
    {
     "name": "stdout",
     "output_type": "stream",
     "text": [
      "                   all         99        380      0.911      0.915      0.968      0.783\n"
     ]
    },
    {
     "name": "stderr",
     "output_type": "stream",
     "text": [
      "\n"
     ]
    },
    {
     "name": "stdout",
     "output_type": "stream",
     "text": [
      "\n",
      "      Epoch    GPU_mem   box_loss   cls_loss   dfl_loss  Instances       Size\n"
     ]
    },
    {
     "name": "stderr",
     "output_type": "stream",
     "text": [
      "    107/150      0.66G     0.9197     0.8511      1.101         28        640: 100%|██████████| 25/25 [00:03<00:00,  8.19it/s]\n",
      "                 Class     Images  Instances      Box(P          R      mAP50  mAP50-95): 100%|██████████| 13/13 [00:01<00:00,  9.08it/s]"
     ]
    },
    {
     "name": "stdout",
     "output_type": "stream",
     "text": [
      "                   all         99        380      0.871      0.958      0.968      0.784\n"
     ]
    },
    {
     "name": "stderr",
     "output_type": "stream",
     "text": [
      "\n"
     ]
    },
    {
     "name": "stdout",
     "output_type": "stream",
     "text": [
      "\n",
      "      Epoch    GPU_mem   box_loss   cls_loss   dfl_loss  Instances       Size\n"
     ]
    },
    {
     "name": "stderr",
     "output_type": "stream",
     "text": [
      "    108/150      0.66G     0.8704     0.8341      1.095         25        640: 100%|██████████| 25/25 [00:03<00:00,  7.85it/s]\n",
      "                 Class     Images  Instances      Box(P          R      mAP50  mAP50-95): 100%|██████████| 13/13 [00:02<00:00,  5.50it/s]"
     ]
    },
    {
     "name": "stdout",
     "output_type": "stream",
     "text": [
      "                   all         99        380      0.867      0.963      0.966      0.771\n"
     ]
    },
    {
     "name": "stderr",
     "output_type": "stream",
     "text": [
      "\n"
     ]
    },
    {
     "name": "stdout",
     "output_type": "stream",
     "text": [
      "\n",
      "      Epoch    GPU_mem   box_loss   cls_loss   dfl_loss  Instances       Size\n"
     ]
    },
    {
     "name": "stderr",
     "output_type": "stream",
     "text": [
      "    109/150      0.66G     0.8888     0.8442      1.092         13        640: 100%|██████████| 25/25 [00:04<00:00,  5.25it/s]\n",
      "                 Class     Images  Instances      Box(P          R      mAP50  mAP50-95): 100%|██████████| 13/13 [00:01<00:00,  6.81it/s]"
     ]
    },
    {
     "name": "stdout",
     "output_type": "stream",
     "text": [
      "                   all         99        380      0.876      0.973      0.967      0.777\n"
     ]
    },
    {
     "name": "stderr",
     "output_type": "stream",
     "text": [
      "\n"
     ]
    },
    {
     "name": "stdout",
     "output_type": "stream",
     "text": [
      "\n",
      "      Epoch    GPU_mem   box_loss   cls_loss   dfl_loss  Instances       Size\n"
     ]
    },
    {
     "name": "stderr",
     "output_type": "stream",
     "text": [
      "    110/150      0.66G     0.8818     0.8524      1.111         37        640: 100%|██████████| 25/25 [00:03<00:00,  6.62it/s]\n",
      "                 Class     Images  Instances      Box(P          R      mAP50  mAP50-95): 100%|██████████| 13/13 [00:01<00:00,  7.82it/s]"
     ]
    },
    {
     "name": "stdout",
     "output_type": "stream",
     "text": [
      "                   all         99        380       0.87      0.972      0.967       0.77\n"
     ]
    },
    {
     "name": "stderr",
     "output_type": "stream",
     "text": [
      "\n"
     ]
    },
    {
     "name": "stdout",
     "output_type": "stream",
     "text": [
      "\n",
      "      Epoch    GPU_mem   box_loss   cls_loss   dfl_loss  Instances       Size\n"
     ]
    },
    {
     "name": "stderr",
     "output_type": "stream",
     "text": [
      "    111/150      0.66G     0.9268     0.8639      1.105         18        640: 100%|██████████| 25/25 [00:03<00:00,  7.28it/s]\n",
      "                 Class     Images  Instances      Box(P          R      mAP50  mAP50-95): 100%|██████████| 13/13 [00:01<00:00,  8.84it/s]"
     ]
    },
    {
     "name": "stdout",
     "output_type": "stream",
     "text": [
      "                   all         99        380      0.952      0.889      0.967      0.764\n"
     ]
    },
    {
     "name": "stderr",
     "output_type": "stream",
     "text": [
      "\n"
     ]
    },
    {
     "name": "stdout",
     "output_type": "stream",
     "text": [
      "\n",
      "      Epoch    GPU_mem   box_loss   cls_loss   dfl_loss  Instances       Size\n"
     ]
    },
    {
     "name": "stderr",
     "output_type": "stream",
     "text": [
      "    112/150      0.66G     0.8382     0.8282      1.083         25        640: 100%|██████████| 25/25 [00:03<00:00,  7.66it/s]\n",
      "                 Class     Images  Instances      Box(P          R      mAP50  mAP50-95): 100%|██████████| 13/13 [00:01<00:00,  9.40it/s]"
     ]
    },
    {
     "name": "stdout",
     "output_type": "stream",
     "text": [
      "                   all         99        380      0.921      0.904      0.967      0.769\n"
     ]
    },
    {
     "name": "stderr",
     "output_type": "stream",
     "text": [
      "\n"
     ]
    },
    {
     "name": "stdout",
     "output_type": "stream",
     "text": [
      "\n",
      "      Epoch    GPU_mem   box_loss   cls_loss   dfl_loss  Instances       Size\n"
     ]
    },
    {
     "name": "stderr",
     "output_type": "stream",
     "text": [
      "    113/150      0.66G     0.8605     0.8375      1.088         19        640: 100%|██████████| 25/25 [00:03<00:00,  7.59it/s]\n",
      "                 Class     Images  Instances      Box(P          R      mAP50  mAP50-95): 100%|██████████| 13/13 [00:01<00:00,  9.81it/s]"
     ]
    },
    {
     "name": "stdout",
     "output_type": "stream",
     "text": [
      "                   all         99        380      0.935      0.963      0.982      0.782\n"
     ]
    },
    {
     "name": "stderr",
     "output_type": "stream",
     "text": [
      "\n"
     ]
    },
    {
     "name": "stdout",
     "output_type": "stream",
     "text": [
      "\n",
      "      Epoch    GPU_mem   box_loss   cls_loss   dfl_loss  Instances       Size\n"
     ]
    },
    {
     "name": "stderr",
     "output_type": "stream",
     "text": [
      "    114/150      0.66G     0.8574     0.8277      1.099         16        640: 100%|██████████| 25/25 [00:03<00:00,  7.06it/s]\n",
      "                 Class     Images  Instances      Box(P          R      mAP50  mAP50-95): 100%|██████████| 13/13 [00:01<00:00,  8.87it/s]"
     ]
    },
    {
     "name": "stdout",
     "output_type": "stream",
     "text": [
      "                   all         99        380      0.929      0.965      0.982      0.792\n"
     ]
    },
    {
     "name": "stderr",
     "output_type": "stream",
     "text": [
      "\n"
     ]
    },
    {
     "name": "stdout",
     "output_type": "stream",
     "text": [
      "\n",
      "      Epoch    GPU_mem   box_loss   cls_loss   dfl_loss  Instances       Size\n"
     ]
    },
    {
     "name": "stderr",
     "output_type": "stream",
     "text": [
      "    115/150      0.66G     0.8742     0.8462      1.097         19        640: 100%|██████████| 25/25 [00:03<00:00,  7.70it/s]\n",
      "                 Class     Images  Instances      Box(P          R      mAP50  mAP50-95): 100%|██████████| 13/13 [00:01<00:00,  8.97it/s]"
     ]
    },
    {
     "name": "stdout",
     "output_type": "stream",
     "text": [
      "                   all         99        380       0.93      0.957      0.982      0.798\n"
     ]
    },
    {
     "name": "stderr",
     "output_type": "stream",
     "text": [
      "\n"
     ]
    },
    {
     "name": "stdout",
     "output_type": "stream",
     "text": [
      "\n",
      "      Epoch    GPU_mem   box_loss   cls_loss   dfl_loss  Instances       Size\n"
     ]
    },
    {
     "name": "stderr",
     "output_type": "stream",
     "text": [
      "    116/150      0.66G     0.9003     0.8285      1.081         17        640: 100%|██████████| 25/25 [00:03<00:00,  7.78it/s]\n",
      "                 Class     Images  Instances      Box(P          R      mAP50  mAP50-95): 100%|██████████| 13/13 [00:01<00:00,  8.60it/s]"
     ]
    },
    {
     "name": "stdout",
     "output_type": "stream",
     "text": [
      "                   all         99        380      0.954      0.944      0.984      0.804\n"
     ]
    },
    {
     "name": "stderr",
     "output_type": "stream",
     "text": [
      "\n"
     ]
    },
    {
     "name": "stdout",
     "output_type": "stream",
     "text": [
      "\n",
      "      Epoch    GPU_mem   box_loss   cls_loss   dfl_loss  Instances       Size\n"
     ]
    },
    {
     "name": "stderr",
     "output_type": "stream",
     "text": [
      "    117/150      0.66G     0.8477     0.8038      1.055         26        640: 100%|██████████| 25/25 [00:03<00:00,  7.70it/s]\n",
      "                 Class     Images  Instances      Box(P          R      mAP50  mAP50-95): 100%|██████████| 13/13 [00:01<00:00,  8.55it/s]"
     ]
    },
    {
     "name": "stdout",
     "output_type": "stream",
     "text": [
      "                   all         99        380       0.96      0.946      0.983      0.805\n"
     ]
    },
    {
     "name": "stderr",
     "output_type": "stream",
     "text": [
      "\n"
     ]
    },
    {
     "name": "stdout",
     "output_type": "stream",
     "text": [
      "\n",
      "      Epoch    GPU_mem   box_loss   cls_loss   dfl_loss  Instances       Size\n"
     ]
    },
    {
     "name": "stderr",
     "output_type": "stream",
     "text": [
      "    118/150      0.66G     0.8326     0.7676      1.067         17        640: 100%|██████████| 25/25 [00:03<00:00,  7.83it/s]\n",
      "                 Class     Images  Instances      Box(P          R      mAP50  mAP50-95): 100%|██████████| 13/13 [00:01<00:00,  8.77it/s]"
     ]
    },
    {
     "name": "stdout",
     "output_type": "stream",
     "text": [
      "                   all         99        380      0.954      0.951      0.984      0.802\n"
     ]
    },
    {
     "name": "stderr",
     "output_type": "stream",
     "text": [
      "\n"
     ]
    },
    {
     "name": "stdout",
     "output_type": "stream",
     "text": [
      "\n",
      "      Epoch    GPU_mem   box_loss   cls_loss   dfl_loss  Instances       Size\n"
     ]
    },
    {
     "name": "stderr",
     "output_type": "stream",
     "text": [
      "    119/150      0.66G     0.8778     0.8167      1.092         25        640: 100%|██████████| 25/25 [00:03<00:00,  7.53it/s]\n",
      "                 Class     Images  Instances      Box(P          R      mAP50  mAP50-95): 100%|██████████| 13/13 [00:01<00:00,  8.92it/s]"
     ]
    },
    {
     "name": "stdout",
     "output_type": "stream",
     "text": [
      "                   all         99        380      0.953      0.956      0.984      0.803\n"
     ]
    },
    {
     "name": "stderr",
     "output_type": "stream",
     "text": [
      "\n"
     ]
    },
    {
     "name": "stdout",
     "output_type": "stream",
     "text": [
      "\n",
      "      Epoch    GPU_mem   box_loss   cls_loss   dfl_loss  Instances       Size\n"
     ]
    },
    {
     "name": "stderr",
     "output_type": "stream",
     "text": [
      "    120/150      0.66G     0.9047     0.8609      1.086         19        640: 100%|██████████| 25/25 [00:03<00:00,  7.61it/s]\n",
      "                 Class     Images  Instances      Box(P          R      mAP50  mAP50-95): 100%|██████████| 13/13 [00:01<00:00,  9.17it/s]"
     ]
    },
    {
     "name": "stdout",
     "output_type": "stream",
     "text": [
      "                   all         99        380      0.966      0.951      0.985      0.808\n"
     ]
    },
    {
     "name": "stderr",
     "output_type": "stream",
     "text": [
      "\n"
     ]
    },
    {
     "name": "stdout",
     "output_type": "stream",
     "text": [
      "\n",
      "      Epoch    GPU_mem   box_loss   cls_loss   dfl_loss  Instances       Size\n"
     ]
    },
    {
     "name": "stderr",
     "output_type": "stream",
     "text": [
      "    121/150      0.66G      0.864      0.828       1.08         13        640: 100%|██████████| 25/25 [00:03<00:00,  7.89it/s]\n",
      "                 Class     Images  Instances      Box(P          R      mAP50  mAP50-95): 100%|██████████| 13/13 [00:01<00:00,  8.35it/s]"
     ]
    },
    {
     "name": "stdout",
     "output_type": "stream",
     "text": [
      "                   all         99        380      0.964      0.947      0.985      0.808\n"
     ]
    },
    {
     "name": "stderr",
     "output_type": "stream",
     "text": [
      "\n"
     ]
    },
    {
     "name": "stdout",
     "output_type": "stream",
     "text": [
      "\n",
      "      Epoch    GPU_mem   box_loss   cls_loss   dfl_loss  Instances       Size\n"
     ]
    },
    {
     "name": "stderr",
     "output_type": "stream",
     "text": [
      "    122/150      0.66G     0.8712     0.8164      1.073         24        640: 100%|██████████| 25/25 [00:03<00:00,  6.28it/s]\n",
      "                 Class     Images  Instances      Box(P          R      mAP50  mAP50-95): 100%|██████████| 13/13 [00:01<00:00,  7.09it/s]"
     ]
    },
    {
     "name": "stdout",
     "output_type": "stream",
     "text": [
      "                   all         99        380      0.949      0.952      0.986      0.804\n"
     ]
    },
    {
     "name": "stderr",
     "output_type": "stream",
     "text": [
      "\n"
     ]
    },
    {
     "name": "stdout",
     "output_type": "stream",
     "text": [
      "\n",
      "      Epoch    GPU_mem   box_loss   cls_loss   dfl_loss  Instances       Size\n"
     ]
    },
    {
     "name": "stderr",
     "output_type": "stream",
     "text": [
      "    123/150      0.66G     0.8404     0.7766      1.059         36        640: 100%|██████████| 25/25 [00:04<00:00,  5.82it/s]\n",
      "                 Class     Images  Instances      Box(P          R      mAP50  mAP50-95): 100%|██████████| 13/13 [00:01<00:00,  6.52it/s]"
     ]
    },
    {
     "name": "stdout",
     "output_type": "stream",
     "text": [
      "                   all         99        380      0.956      0.926      0.985      0.792\n"
     ]
    },
    {
     "name": "stderr",
     "output_type": "stream",
     "text": [
      "\n"
     ]
    },
    {
     "name": "stdout",
     "output_type": "stream",
     "text": [
      "\n",
      "      Epoch    GPU_mem   box_loss   cls_loss   dfl_loss  Instances       Size\n"
     ]
    },
    {
     "name": "stderr",
     "output_type": "stream",
     "text": [
      "    124/150      0.66G     0.8511     0.7926      1.064         26        640: 100%|██████████| 25/25 [00:04<00:00,  5.26it/s]\n",
      "                 Class     Images  Instances      Box(P          R      mAP50  mAP50-95): 100%|██████████| 13/13 [00:01<00:00,  6.76it/s]"
     ]
    },
    {
     "name": "stdout",
     "output_type": "stream",
     "text": [
      "                   all         99        380      0.947      0.938      0.986      0.793\n"
     ]
    },
    {
     "name": "stderr",
     "output_type": "stream",
     "text": [
      "\n"
     ]
    },
    {
     "name": "stdout",
     "output_type": "stream",
     "text": [
      "\n",
      "      Epoch    GPU_mem   box_loss   cls_loss   dfl_loss  Instances       Size\n"
     ]
    },
    {
     "name": "stderr",
     "output_type": "stream",
     "text": [
      "    125/150      0.66G     0.8463     0.8023      1.071         34        640: 100%|██████████| 25/25 [00:04<00:00,  6.21it/s]\n",
      "                 Class     Images  Instances      Box(P          R      mAP50  mAP50-95): 100%|██████████| 13/13 [00:01<00:00,  6.75it/s]"
     ]
    },
    {
     "name": "stdout",
     "output_type": "stream",
     "text": [
      "                   all         99        380      0.955      0.925      0.985      0.795\n"
     ]
    },
    {
     "name": "stderr",
     "output_type": "stream",
     "text": [
      "\n"
     ]
    },
    {
     "name": "stdout",
     "output_type": "stream",
     "text": [
      "\n",
      "      Epoch    GPU_mem   box_loss   cls_loss   dfl_loss  Instances       Size\n"
     ]
    },
    {
     "name": "stderr",
     "output_type": "stream",
     "text": [
      "    126/150      0.66G     0.8219     0.8009      1.077         27        640: 100%|██████████| 25/25 [00:04<00:00,  5.56it/s]\n",
      "                 Class     Images  Instances      Box(P          R      mAP50  mAP50-95): 100%|██████████| 13/13 [00:01<00:00,  7.23it/s]"
     ]
    },
    {
     "name": "stdout",
     "output_type": "stream",
     "text": [
      "                   all         99        380      0.955      0.921      0.985      0.795\n"
     ]
    },
    {
     "name": "stderr",
     "output_type": "stream",
     "text": [
      "\n"
     ]
    },
    {
     "name": "stdout",
     "output_type": "stream",
     "text": [
      "\n",
      "      Epoch    GPU_mem   box_loss   cls_loss   dfl_loss  Instances       Size\n"
     ]
    },
    {
     "name": "stderr",
     "output_type": "stream",
     "text": [
      "    127/150      0.66G     0.8349     0.8092      1.054         22        640: 100%|██████████| 25/25 [00:03<00:00,  7.08it/s]\n",
      "                 Class     Images  Instances      Box(P          R      mAP50  mAP50-95): 100%|██████████| 13/13 [00:01<00:00,  7.59it/s]"
     ]
    },
    {
     "name": "stdout",
     "output_type": "stream",
     "text": [
      "                   all         99        380      0.963      0.916      0.985      0.796\n"
     ]
    },
    {
     "name": "stderr",
     "output_type": "stream",
     "text": [
      "\n"
     ]
    },
    {
     "name": "stdout",
     "output_type": "stream",
     "text": [
      "\n",
      "      Epoch    GPU_mem   box_loss   cls_loss   dfl_loss  Instances       Size\n"
     ]
    },
    {
     "name": "stderr",
     "output_type": "stream",
     "text": [
      "    128/150      0.66G     0.8054     0.7481      1.044         27        640: 100%|██████████| 25/25 [00:04<00:00,  6.24it/s]\n",
      "                 Class     Images  Instances      Box(P          R      mAP50  mAP50-95): 100%|██████████| 13/13 [00:01<00:00,  7.42it/s]"
     ]
    },
    {
     "name": "stdout",
     "output_type": "stream",
     "text": [
      "                   all         99        380       0.96       0.92      0.984      0.796\n"
     ]
    },
    {
     "name": "stderr",
     "output_type": "stream",
     "text": [
      "\n"
     ]
    },
    {
     "name": "stdout",
     "output_type": "stream",
     "text": [
      "\n",
      "      Epoch    GPU_mem   box_loss   cls_loss   dfl_loss  Instances       Size\n"
     ]
    },
    {
     "name": "stderr",
     "output_type": "stream",
     "text": [
      "    129/150      0.66G     0.8662     0.7871      1.066         41        640: 100%|██████████| 25/25 [00:04<00:00,  5.57it/s]\n",
      "                 Class     Images  Instances      Box(P          R      mAP50  mAP50-95): 100%|██████████| 13/13 [00:01<00:00,  6.58it/s]"
     ]
    },
    {
     "name": "stdout",
     "output_type": "stream",
     "text": [
      "                   all         99        380      0.962      0.931      0.985      0.799\n"
     ]
    },
    {
     "name": "stderr",
     "output_type": "stream",
     "text": [
      "\n"
     ]
    },
    {
     "name": "stdout",
     "output_type": "stream",
     "text": [
      "\n",
      "      Epoch    GPU_mem   box_loss   cls_loss   dfl_loss  Instances       Size\n"
     ]
    },
    {
     "name": "stderr",
     "output_type": "stream",
     "text": [
      "    130/150      0.66G     0.8563     0.8176      1.064         39        640: 100%|██████████| 25/25 [00:04<00:00,  5.41it/s]\n",
      "                 Class     Images  Instances      Box(P          R      mAP50  mAP50-95): 100%|██████████| 13/13 [00:01<00:00,  7.39it/s]"
     ]
    },
    {
     "name": "stdout",
     "output_type": "stream",
     "text": [
      "                   all         99        380      0.956      0.939      0.985      0.807\n"
     ]
    },
    {
     "name": "stderr",
     "output_type": "stream",
     "text": [
      "\n"
     ]
    },
    {
     "name": "stdout",
     "output_type": "stream",
     "text": [
      "\n",
      "      Epoch    GPU_mem   box_loss   cls_loss   dfl_loss  Instances       Size\n"
     ]
    },
    {
     "name": "stderr",
     "output_type": "stream",
     "text": [
      "    131/150      0.66G     0.8317     0.7787      1.067         43        640: 100%|██████████| 25/25 [00:03<00:00,  7.01it/s]\n",
      "                 Class     Images  Instances      Box(P          R      mAP50  mAP50-95): 100%|██████████| 13/13 [00:01<00:00,  8.14it/s]"
     ]
    },
    {
     "name": "stdout",
     "output_type": "stream",
     "text": [
      "                   all         99        380      0.957      0.933      0.985      0.811\n"
     ]
    },
    {
     "name": "stderr",
     "output_type": "stream",
     "text": [
      "\n"
     ]
    },
    {
     "name": "stdout",
     "output_type": "stream",
     "text": [
      "\n",
      "      Epoch    GPU_mem   box_loss   cls_loss   dfl_loss  Instances       Size\n"
     ]
    },
    {
     "name": "stderr",
     "output_type": "stream",
     "text": [
      "    132/150      0.66G     0.8376     0.8145      1.092         24        640: 100%|██████████| 25/25 [00:03<00:00,  6.45it/s]\n",
      "                 Class     Images  Instances      Box(P          R      mAP50  mAP50-95): 100%|██████████| 13/13 [00:01<00:00,  8.18it/s]"
     ]
    },
    {
     "name": "stdout",
     "output_type": "stream",
     "text": [
      "                   all         99        380      0.961      0.944      0.985      0.815\n"
     ]
    },
    {
     "name": "stderr",
     "output_type": "stream",
     "text": [
      "\n"
     ]
    },
    {
     "name": "stdout",
     "output_type": "stream",
     "text": [
      "\n",
      "      Epoch    GPU_mem   box_loss   cls_loss   dfl_loss  Instances       Size\n"
     ]
    },
    {
     "name": "stderr",
     "output_type": "stream",
     "text": [
      "    133/150      0.66G     0.8305     0.8766      1.088         17        640: 100%|██████████| 25/25 [00:03<00:00,  6.98it/s]\n",
      "                 Class     Images  Instances      Box(P          R      mAP50  mAP50-95): 100%|██████████| 13/13 [00:01<00:00,  8.15it/s]"
     ]
    },
    {
     "name": "stdout",
     "output_type": "stream",
     "text": [
      "                   all         99        380      0.961      0.939      0.985      0.814\n"
     ]
    },
    {
     "name": "stderr",
     "output_type": "stream",
     "text": [
      "\n"
     ]
    },
    {
     "name": "stdout",
     "output_type": "stream",
     "text": [
      "\n",
      "      Epoch    GPU_mem   box_loss   cls_loss   dfl_loss  Instances       Size\n"
     ]
    },
    {
     "name": "stderr",
     "output_type": "stream",
     "text": [
      "    134/150      0.66G     0.8073     0.7452      1.039         22        640: 100%|██████████| 25/25 [00:03<00:00,  6.63it/s]\n",
      "                 Class     Images  Instances      Box(P          R      mAP50  mAP50-95): 100%|██████████| 13/13 [00:01<00:00,  8.20it/s]"
     ]
    },
    {
     "name": "stdout",
     "output_type": "stream",
     "text": [
      "                   all         99        380      0.952      0.942      0.985      0.816\n"
     ]
    },
    {
     "name": "stderr",
     "output_type": "stream",
     "text": [
      "\n"
     ]
    },
    {
     "name": "stdout",
     "output_type": "stream",
     "text": [
      "\n",
      "      Epoch    GPU_mem   box_loss   cls_loss   dfl_loss  Instances       Size\n"
     ]
    },
    {
     "name": "stderr",
     "output_type": "stream",
     "text": [
      "    135/150      0.66G     0.8111       0.74      1.037         30        640: 100%|██████████| 25/25 [00:03<00:00,  6.84it/s]\n",
      "                 Class     Images  Instances      Box(P          R      mAP50  mAP50-95): 100%|██████████| 13/13 [00:01<00:00,  7.94it/s]"
     ]
    },
    {
     "name": "stdout",
     "output_type": "stream",
     "text": [
      "                   all         99        380      0.954      0.946      0.986      0.814\n"
     ]
    },
    {
     "name": "stderr",
     "output_type": "stream",
     "text": [
      "\n"
     ]
    },
    {
     "name": "stdout",
     "output_type": "stream",
     "text": [
      "\n",
      "      Epoch    GPU_mem   box_loss   cls_loss   dfl_loss  Instances       Size\n"
     ]
    },
    {
     "name": "stderr",
     "output_type": "stream",
     "text": [
      "    136/150      0.66G     0.8213     0.7396      1.051         25        640: 100%|██████████| 25/25 [00:03<00:00,  6.50it/s]\n",
      "                 Class     Images  Instances      Box(P          R      mAP50  mAP50-95): 100%|██████████| 13/13 [00:01<00:00,  8.34it/s]"
     ]
    },
    {
     "name": "stdout",
     "output_type": "stream",
     "text": [
      "                   all         99        380      0.955      0.947      0.987      0.814\n"
     ]
    },
    {
     "name": "stderr",
     "output_type": "stream",
     "text": [
      "\n"
     ]
    },
    {
     "name": "stdout",
     "output_type": "stream",
     "text": [
      "\n",
      "      Epoch    GPU_mem   box_loss   cls_loss   dfl_loss  Instances       Size\n"
     ]
    },
    {
     "name": "stderr",
     "output_type": "stream",
     "text": [
      "    137/150      0.66G      0.811     0.7575      1.049         19        640: 100%|██████████| 25/25 [00:03<00:00,  6.73it/s]\n",
      "                 Class     Images  Instances      Box(P          R      mAP50  mAP50-95): 100%|██████████| 13/13 [00:01<00:00,  7.49it/s]"
     ]
    },
    {
     "name": "stdout",
     "output_type": "stream",
     "text": [
      "                   all         99        380      0.954      0.955      0.986      0.816\n"
     ]
    },
    {
     "name": "stderr",
     "output_type": "stream",
     "text": [
      "\n"
     ]
    },
    {
     "name": "stdout",
     "output_type": "stream",
     "text": [
      "\n",
      "      Epoch    GPU_mem   box_loss   cls_loss   dfl_loss  Instances       Size\n"
     ]
    },
    {
     "name": "stderr",
     "output_type": "stream",
     "text": [
      "    138/150      0.66G     0.7977     0.7271      1.042         26        640: 100%|██████████| 25/25 [00:03<00:00,  6.62it/s]\n",
      "                 Class     Images  Instances      Box(P          R      mAP50  mAP50-95): 100%|██████████| 13/13 [00:01<00:00,  7.96it/s]"
     ]
    },
    {
     "name": "stdout",
     "output_type": "stream",
     "text": [
      "                   all         99        380      0.956      0.957      0.988      0.815\n"
     ]
    },
    {
     "name": "stderr",
     "output_type": "stream",
     "text": [
      "\n"
     ]
    },
    {
     "name": "stdout",
     "output_type": "stream",
     "text": [
      "\n",
      "      Epoch    GPU_mem   box_loss   cls_loss   dfl_loss  Instances       Size\n"
     ]
    },
    {
     "name": "stderr",
     "output_type": "stream",
     "text": [
      "    139/150      0.66G     0.8719     0.7997      1.077         21        640: 100%|██████████| 25/25 [00:03<00:00,  6.81it/s]\n",
      "                 Class     Images  Instances      Box(P          R      mAP50  mAP50-95): 100%|██████████| 13/13 [00:01<00:00,  8.01it/s]"
     ]
    },
    {
     "name": "stdout",
     "output_type": "stream",
     "text": [
      "                   all         99        380      0.959      0.949      0.987      0.815\n"
     ]
    },
    {
     "name": "stderr",
     "output_type": "stream",
     "text": [
      "\n"
     ]
    },
    {
     "name": "stdout",
     "output_type": "stream",
     "text": [
      "\n",
      "      Epoch    GPU_mem   box_loss   cls_loss   dfl_loss  Instances       Size\n"
     ]
    },
    {
     "name": "stderr",
     "output_type": "stream",
     "text": [
      "    140/150      0.66G     0.8018     0.7723       1.05         21        640: 100%|██████████| 25/25 [00:03<00:00,  6.93it/s]\n",
      "                 Class     Images  Instances      Box(P          R      mAP50  mAP50-95): 100%|██████████| 13/13 [00:01<00:00,  8.57it/s]"
     ]
    },
    {
     "name": "stdout",
     "output_type": "stream",
     "text": [
      "                   all         99        380      0.953      0.955      0.987      0.815\n"
     ]
    },
    {
     "name": "stderr",
     "output_type": "stream",
     "text": [
      "\n"
     ]
    },
    {
     "name": "stdout",
     "output_type": "stream",
     "text": [
      "Closing dataloader mosaic\n",
      "\n",
      "      Epoch    GPU_mem   box_loss   cls_loss   dfl_loss  Instances       Size\n"
     ]
    },
    {
     "name": "stderr",
     "output_type": "stream",
     "text": [
      "    141/150      0.66G     0.8122     0.9045      1.055         14        640: 100%|██████████| 25/25 [00:06<00:00,  3.72it/s]\n",
      "                 Class     Images  Instances      Box(P          R      mAP50  mAP50-95): 100%|██████████| 13/13 [00:02<00:00,  5.74it/s]"
     ]
    },
    {
     "name": "stdout",
     "output_type": "stream",
     "text": [
      "                   all         99        380      0.964      0.958      0.988      0.813\n"
     ]
    },
    {
     "name": "stderr",
     "output_type": "stream",
     "text": [
      "\n"
     ]
    },
    {
     "name": "stdout",
     "output_type": "stream",
     "text": [
      "\n",
      "      Epoch    GPU_mem   box_loss   cls_loss   dfl_loss  Instances       Size\n"
     ]
    },
    {
     "name": "stderr",
     "output_type": "stream",
     "text": [
      "    142/150      0.66G     0.7571     0.8257      1.021         10        640: 100%|██████████| 25/25 [00:04<00:00,  5.20it/s]\n",
      "                 Class     Images  Instances      Box(P          R      mAP50  mAP50-95): 100%|██████████| 13/13 [00:01<00:00,  7.79it/s]"
     ]
    },
    {
     "name": "stdout",
     "output_type": "stream",
     "text": [
      "                   all         99        380      0.953      0.968      0.986      0.806\n"
     ]
    },
    {
     "name": "stderr",
     "output_type": "stream",
     "text": [
      "\n"
     ]
    },
    {
     "name": "stdout",
     "output_type": "stream",
     "text": [
      "\n",
      "      Epoch    GPU_mem   box_loss   cls_loss   dfl_loss  Instances       Size\n"
     ]
    },
    {
     "name": "stderr",
     "output_type": "stream",
     "text": [
      "    143/150      0.66G     0.8138     0.9092      1.082          9        640: 100%|██████████| 25/25 [00:04<00:00,  6.08it/s]\n",
      "                 Class     Images  Instances      Box(P          R      mAP50  mAP50-95): 100%|██████████| 13/13 [00:02<00:00,  6.16it/s]"
     ]
    },
    {
     "name": "stdout",
     "output_type": "stream",
     "text": [
      "                   all         99        380      0.958      0.966      0.986      0.792\n"
     ]
    },
    {
     "name": "stderr",
     "output_type": "stream",
     "text": [
      "\n"
     ]
    },
    {
     "name": "stdout",
     "output_type": "stream",
     "text": [
      "\n",
      "      Epoch    GPU_mem   box_loss   cls_loss   dfl_loss  Instances       Size\n"
     ]
    },
    {
     "name": "stderr",
     "output_type": "stream",
     "text": [
      "    144/150      0.66G     0.7739     0.8389      1.022          4        640: 100%|██████████| 25/25 [00:03<00:00,  6.73it/s]\n",
      "                 Class     Images  Instances      Box(P          R      mAP50  mAP50-95): 100%|██████████| 13/13 [00:02<00:00,  5.95it/s]"
     ]
    },
    {
     "name": "stdout",
     "output_type": "stream",
     "text": [
      "                   all         99        380      0.957      0.963      0.985      0.786\n"
     ]
    },
    {
     "name": "stderr",
     "output_type": "stream",
     "text": [
      "\n"
     ]
    },
    {
     "name": "stdout",
     "output_type": "stream",
     "text": [
      "\n",
      "      Epoch    GPU_mem   box_loss   cls_loss   dfl_loss  Instances       Size\n"
     ]
    },
    {
     "name": "stderr",
     "output_type": "stream",
     "text": [
      "    145/150      0.66G     0.7813     0.8473      1.031          6        640: 100%|██████████| 25/25 [00:04<00:00,  6.00it/s]\n",
      "                 Class     Images  Instances      Box(P          R      mAP50  mAP50-95): 100%|██████████| 13/13 [00:01<00:00,  6.64it/s]"
     ]
    },
    {
     "name": "stdout",
     "output_type": "stream",
     "text": [
      "                   all         99        380      0.958      0.967      0.986       0.79\n"
     ]
    },
    {
     "name": "stderr",
     "output_type": "stream",
     "text": [
      "\n"
     ]
    },
    {
     "name": "stdout",
     "output_type": "stream",
     "text": [
      "\n",
      "      Epoch    GPU_mem   box_loss   cls_loss   dfl_loss  Instances       Size\n"
     ]
    },
    {
     "name": "stderr",
     "output_type": "stream",
     "text": [
      "    146/150      0.66G     0.7621     0.8141      1.037         19        640: 100%|██████████| 25/25 [00:03<00:00,  6.51it/s]\n",
      "                 Class     Images  Instances      Box(P          R      mAP50  mAP50-95): 100%|██████████| 13/13 [00:01<00:00,  7.41it/s]"
     ]
    },
    {
     "name": "stdout",
     "output_type": "stream",
     "text": [
      "                   all         99        380      0.951      0.967      0.985      0.795\n"
     ]
    },
    {
     "name": "stderr",
     "output_type": "stream",
     "text": [
      "\n"
     ]
    },
    {
     "name": "stdout",
     "output_type": "stream",
     "text": [
      "\n",
      "      Epoch    GPU_mem   box_loss   cls_loss   dfl_loss  Instances       Size\n"
     ]
    },
    {
     "name": "stderr",
     "output_type": "stream",
     "text": [
      "    147/150      0.66G      0.804     0.8131      1.029          9        640: 100%|██████████| 25/25 [00:03<00:00,  6.32it/s]\n",
      "                 Class     Images  Instances      Box(P          R      mAP50  mAP50-95): 100%|██████████| 13/13 [00:01<00:00,  7.40it/s]"
     ]
    },
    {
     "name": "stdout",
     "output_type": "stream",
     "text": [
      "                   all         99        380      0.947      0.967      0.985      0.797\n"
     ]
    },
    {
     "name": "stderr",
     "output_type": "stream",
     "text": [
      "\n"
     ]
    },
    {
     "name": "stdout",
     "output_type": "stream",
     "text": [
      "\n",
      "      Epoch    GPU_mem   box_loss   cls_loss   dfl_loss  Instances       Size\n"
     ]
    },
    {
     "name": "stderr",
     "output_type": "stream",
     "text": [
      "    148/150      0.66G     0.8145     0.8468      1.048         12        640: 100%|██████████| 25/25 [00:03<00:00,  6.87it/s]\n",
      "                 Class     Images  Instances      Box(P          R      mAP50  mAP50-95): 100%|██████████| 13/13 [00:01<00:00,  7.24it/s]"
     ]
    },
    {
     "name": "stdout",
     "output_type": "stream",
     "text": [
      "                   all         99        380      0.954      0.968      0.985      0.791\n"
     ]
    },
    {
     "name": "stderr",
     "output_type": "stream",
     "text": [
      "\n"
     ]
    },
    {
     "name": "stdout",
     "output_type": "stream",
     "text": [
      "\n",
      "      Epoch    GPU_mem   box_loss   cls_loss   dfl_loss  Instances       Size\n"
     ]
    },
    {
     "name": "stderr",
     "output_type": "stream",
     "text": [
      "    149/150      0.66G     0.7663     0.8184      1.004          9        640: 100%|██████████| 25/25 [00:04<00:00,  6.24it/s]\n",
      "                 Class     Images  Instances      Box(P          R      mAP50  mAP50-95): 100%|██████████| 13/13 [00:01<00:00,  6.98it/s]"
     ]
    },
    {
     "name": "stdout",
     "output_type": "stream",
     "text": [
      "                   all         99        380      0.945      0.967      0.984      0.794\n"
     ]
    },
    {
     "name": "stderr",
     "output_type": "stream",
     "text": [
      "\n"
     ]
    },
    {
     "name": "stdout",
     "output_type": "stream",
     "text": [
      "\n",
      "      Epoch    GPU_mem   box_loss   cls_loss   dfl_loss  Instances       Size\n"
     ]
    },
    {
     "name": "stderr",
     "output_type": "stream",
     "text": [
      "    150/150      0.66G     0.7921     0.8252      1.048          7        640: 100%|██████████| 25/25 [00:03<00:00,  6.29it/s]\n",
      "                 Class     Images  Instances      Box(P          R      mAP50  mAP50-95): 100%|██████████| 13/13 [00:01<00:00,  7.31it/s]"
     ]
    },
    {
     "name": "stdout",
     "output_type": "stream",
     "text": [
      "                   all         99        380      0.943      0.968      0.985      0.802\n"
     ]
    },
    {
     "name": "stderr",
     "output_type": "stream",
     "text": [
      "\n"
     ]
    },
    {
     "name": "stdout",
     "output_type": "stream",
     "text": [
      "\n",
      "150 epochs completed in 0.231 hours.\n",
      "Optimizer stripped from number_plate_project\\yolov8n_gpu_optimized_v2\\weights\\last.pt, 6.2MB\n",
      "Optimizer stripped from number_plate_project\\yolov8n_gpu_optimized_v2\\weights\\best.pt, 6.2MB\n",
      "\n",
      "Validating number_plate_project\\yolov8n_gpu_optimized_v2\\weights\\best.pt...\n",
      "Ultralytics 8.3.162  Python-3.9.13 torch-2.5.1+cu121 CUDA:0 (NVIDIA GeForce RTX 2050, 4096MiB)\n",
      "Model summary (fused): 72 layers, 3,006,818 parameters, 0 gradients, 8.1 GFLOPs\n"
     ]
    },
    {
     "name": "stderr",
     "output_type": "stream",
     "text": [
      "                 Class     Images  Instances      Box(P          R      mAP50  mAP50-95): 100%|██████████| 13/13 [00:02<00:00,  6.47it/s]\n"
     ]
    },
    {
     "name": "stdout",
     "output_type": "stream",
     "text": [
      "                   all         99        380      0.957      0.957      0.987      0.815\n",
      "                  Bike          3          3      0.871          1      0.995      0.702\n",
      "                   Bus         12         18      0.999          1      0.995      0.893\n",
      "                   Car         65        167          1      0.964       0.98       0.84\n",
      "          Number plate         92        124          1      0.897      0.984      0.785\n",
      "                Person         19         51       0.98       0.94      0.981      0.794\n",
      "                 Truck         14         17      0.895      0.941      0.985      0.879\n",
      "Speed: 0.5ms preprocess, 5.2ms inference, 0.0ms loss, 3.9ms postprocess per image\n",
      "Results saved to \u001b[1mnumber_plate_project\\yolov8n_gpu_optimized_v2\u001b[0m\n"
     ]
    },
    {
     "data": {
      "text/plain": [
       "ultralytics.utils.metrics.DetMetrics object with attributes:\n",
       "\n",
       "ap_class_index: array([0, 1, 2, 3, 4, 5])\n",
       "box: ultralytics.utils.metrics.Metric object\n",
       "confusion_matrix: <ultralytics.utils.metrics.ConfusionMatrix object at 0x0000021774792790>\n",
       "curves: ['Precision-Recall(B)', 'F1-Confidence(B)', 'Precision-Confidence(B)', 'Recall-Confidence(B)']\n",
       "curves_results: [[array([          0,    0.001001,    0.002002,    0.003003,    0.004004,    0.005005,    0.006006,    0.007007,    0.008008,    0.009009,     0.01001,    0.011011,    0.012012,    0.013013,    0.014014,    0.015015,    0.016016,    0.017017,    0.018018,    0.019019,     0.02002,    0.021021,    0.022022,    0.023023,\n",
       "          0.024024,    0.025025,    0.026026,    0.027027,    0.028028,    0.029029,     0.03003,    0.031031,    0.032032,    0.033033,    0.034034,    0.035035,    0.036036,    0.037037,    0.038038,    0.039039,     0.04004,    0.041041,    0.042042,    0.043043,    0.044044,    0.045045,    0.046046,    0.047047,\n",
       "          0.048048,    0.049049,     0.05005,    0.051051,    0.052052,    0.053053,    0.054054,    0.055055,    0.056056,    0.057057,    0.058058,    0.059059,     0.06006,    0.061061,    0.062062,    0.063063,    0.064064,    0.065065,    0.066066,    0.067067,    0.068068,    0.069069,     0.07007,    0.071071,\n",
       "          0.072072,    0.073073,    0.074074,    0.075075,    0.076076,    0.077077,    0.078078,    0.079079,     0.08008,    0.081081,    0.082082,    0.083083,    0.084084,    0.085085,    0.086086,    0.087087,    0.088088,    0.089089,     0.09009,    0.091091,    0.092092,    0.093093,    0.094094,    0.095095,\n",
       "          0.096096,    0.097097,    0.098098,    0.099099,      0.1001,      0.1011,      0.1021,      0.1031,      0.1041,     0.10511,     0.10611,     0.10711,     0.10811,     0.10911,     0.11011,     0.11111,     0.11211,     0.11311,     0.11411,     0.11512,     0.11612,     0.11712,     0.11812,     0.11912,\n",
       "           0.12012,     0.12112,     0.12212,     0.12312,     0.12412,     0.12513,     0.12613,     0.12713,     0.12813,     0.12913,     0.13013,     0.13113,     0.13213,     0.13313,     0.13413,     0.13514,     0.13614,     0.13714,     0.13814,     0.13914,     0.14014,     0.14114,     0.14214,     0.14314,\n",
       "           0.14414,     0.14515,     0.14615,     0.14715,     0.14815,     0.14915,     0.15015,     0.15115,     0.15215,     0.15315,     0.15415,     0.15516,     0.15616,     0.15716,     0.15816,     0.15916,     0.16016,     0.16116,     0.16216,     0.16316,     0.16416,     0.16517,     0.16617,     0.16717,\n",
       "           0.16817,     0.16917,     0.17017,     0.17117,     0.17217,     0.17317,     0.17417,     0.17518,     0.17618,     0.17718,     0.17818,     0.17918,     0.18018,     0.18118,     0.18218,     0.18318,     0.18418,     0.18519,     0.18619,     0.18719,     0.18819,     0.18919,     0.19019,     0.19119,\n",
       "           0.19219,     0.19319,     0.19419,      0.1952,      0.1962,      0.1972,      0.1982,      0.1992,      0.2002,      0.2012,      0.2022,      0.2032,      0.2042,     0.20521,     0.20621,     0.20721,     0.20821,     0.20921,     0.21021,     0.21121,     0.21221,     0.21321,     0.21421,     0.21522,\n",
       "           0.21622,     0.21722,     0.21822,     0.21922,     0.22022,     0.22122,     0.22222,     0.22322,     0.22422,     0.22523,     0.22623,     0.22723,     0.22823,     0.22923,     0.23023,     0.23123,     0.23223,     0.23323,     0.23423,     0.23524,     0.23624,     0.23724,     0.23824,     0.23924,\n",
       "           0.24024,     0.24124,     0.24224,     0.24324,     0.24424,     0.24525,     0.24625,     0.24725,     0.24825,     0.24925,     0.25025,     0.25125,     0.25225,     0.25325,     0.25425,     0.25526,     0.25626,     0.25726,     0.25826,     0.25926,     0.26026,     0.26126,     0.26226,     0.26326,\n",
       "           0.26426,     0.26527,     0.26627,     0.26727,     0.26827,     0.26927,     0.27027,     0.27127,     0.27227,     0.27327,     0.27427,     0.27528,     0.27628,     0.27728,     0.27828,     0.27928,     0.28028,     0.28128,     0.28228,     0.28328,     0.28428,     0.28529,     0.28629,     0.28729,\n",
       "           0.28829,     0.28929,     0.29029,     0.29129,     0.29229,     0.29329,     0.29429,      0.2953,      0.2963,      0.2973,      0.2983,      0.2993,      0.3003,      0.3013,      0.3023,      0.3033,      0.3043,     0.30531,     0.30631,     0.30731,     0.30831,     0.30931,     0.31031,     0.31131,\n",
       "           0.31231,     0.31331,     0.31431,     0.31532,     0.31632,     0.31732,     0.31832,     0.31932,     0.32032,     0.32132,     0.32232,     0.32332,     0.32432,     0.32533,     0.32633,     0.32733,     0.32833,     0.32933,     0.33033,     0.33133,     0.33233,     0.33333,     0.33433,     0.33534,\n",
       "           0.33634,     0.33734,     0.33834,     0.33934,     0.34034,     0.34134,     0.34234,     0.34334,     0.34434,     0.34535,     0.34635,     0.34735,     0.34835,     0.34935,     0.35035,     0.35135,     0.35235,     0.35335,     0.35435,     0.35536,     0.35636,     0.35736,     0.35836,     0.35936,\n",
       "           0.36036,     0.36136,     0.36236,     0.36336,     0.36436,     0.36537,     0.36637,     0.36737,     0.36837,     0.36937,     0.37037,     0.37137,     0.37237,     0.37337,     0.37437,     0.37538,     0.37638,     0.37738,     0.37838,     0.37938,     0.38038,     0.38138,     0.38238,     0.38338,\n",
       "           0.38438,     0.38539,     0.38639,     0.38739,     0.38839,     0.38939,     0.39039,     0.39139,     0.39239,     0.39339,     0.39439,      0.3954,      0.3964,      0.3974,      0.3984,      0.3994,      0.4004,      0.4014,      0.4024,      0.4034,      0.4044,     0.40541,     0.40641,     0.40741,\n",
       "           0.40841,     0.40941,     0.41041,     0.41141,     0.41241,     0.41341,     0.41441,     0.41542,     0.41642,     0.41742,     0.41842,     0.41942,     0.42042,     0.42142,     0.42242,     0.42342,     0.42442,     0.42543,     0.42643,     0.42743,     0.42843,     0.42943,     0.43043,     0.43143,\n",
       "           0.43243,     0.43343,     0.43443,     0.43544,     0.43644,     0.43744,     0.43844,     0.43944,     0.44044,     0.44144,     0.44244,     0.44344,     0.44444,     0.44545,     0.44645,     0.44745,     0.44845,     0.44945,     0.45045,     0.45145,     0.45245,     0.45345,     0.45445,     0.45546,\n",
       "           0.45646,     0.45746,     0.45846,     0.45946,     0.46046,     0.46146,     0.46246,     0.46346,     0.46446,     0.46547,     0.46647,     0.46747,     0.46847,     0.46947,     0.47047,     0.47147,     0.47247,     0.47347,     0.47447,     0.47548,     0.47648,     0.47748,     0.47848,     0.47948,\n",
       "           0.48048,     0.48148,     0.48248,     0.48348,     0.48448,     0.48549,     0.48649,     0.48749,     0.48849,     0.48949,     0.49049,     0.49149,     0.49249,     0.49349,     0.49449,      0.4955,      0.4965,      0.4975,      0.4985,      0.4995,      0.5005,      0.5015,      0.5025,      0.5035,\n",
       "            0.5045,     0.50551,     0.50651,     0.50751,     0.50851,     0.50951,     0.51051,     0.51151,     0.51251,     0.51351,     0.51451,     0.51552,     0.51652,     0.51752,     0.51852,     0.51952,     0.52052,     0.52152,     0.52252,     0.52352,     0.52452,     0.52553,     0.52653,     0.52753,\n",
       "           0.52853,     0.52953,     0.53053,     0.53153,     0.53253,     0.53353,     0.53453,     0.53554,     0.53654,     0.53754,     0.53854,     0.53954,     0.54054,     0.54154,     0.54254,     0.54354,     0.54454,     0.54555,     0.54655,     0.54755,     0.54855,     0.54955,     0.55055,     0.55155,\n",
       "           0.55255,     0.55355,     0.55455,     0.55556,     0.55656,     0.55756,     0.55856,     0.55956,     0.56056,     0.56156,     0.56256,     0.56356,     0.56456,     0.56557,     0.56657,     0.56757,     0.56857,     0.56957,     0.57057,     0.57157,     0.57257,     0.57357,     0.57457,     0.57558,\n",
       "           0.57658,     0.57758,     0.57858,     0.57958,     0.58058,     0.58158,     0.58258,     0.58358,     0.58458,     0.58559,     0.58659,     0.58759,     0.58859,     0.58959,     0.59059,     0.59159,     0.59259,     0.59359,     0.59459,      0.5956,      0.5966,      0.5976,      0.5986,      0.5996,\n",
       "            0.6006,      0.6016,      0.6026,      0.6036,      0.6046,     0.60561,     0.60661,     0.60761,     0.60861,     0.60961,     0.61061,     0.61161,     0.61261,     0.61361,     0.61461,     0.61562,     0.61662,     0.61762,     0.61862,     0.61962,     0.62062,     0.62162,     0.62262,     0.62362,\n",
       "           0.62462,     0.62563,     0.62663,     0.62763,     0.62863,     0.62963,     0.63063,     0.63163,     0.63263,     0.63363,     0.63463,     0.63564,     0.63664,     0.63764,     0.63864,     0.63964,     0.64064,     0.64164,     0.64264,     0.64364,     0.64464,     0.64565,     0.64665,     0.64765,\n",
       "           0.64865,     0.64965,     0.65065,     0.65165,     0.65265,     0.65365,     0.65465,     0.65566,     0.65666,     0.65766,     0.65866,     0.65966,     0.66066,     0.66166,     0.66266,     0.66366,     0.66466,     0.66567,     0.66667,     0.66767,     0.66867,     0.66967,     0.67067,     0.67167,\n",
       "           0.67267,     0.67367,     0.67467,     0.67568,     0.67668,     0.67768,     0.67868,     0.67968,     0.68068,     0.68168,     0.68268,     0.68368,     0.68468,     0.68569,     0.68669,     0.68769,     0.68869,     0.68969,     0.69069,     0.69169,     0.69269,     0.69369,     0.69469,      0.6957,\n",
       "            0.6967,      0.6977,      0.6987,      0.6997,      0.7007,      0.7017,      0.7027,      0.7037,      0.7047,     0.70571,     0.70671,     0.70771,     0.70871,     0.70971,     0.71071,     0.71171,     0.71271,     0.71371,     0.71471,     0.71572,     0.71672,     0.71772,     0.71872,     0.71972,\n",
       "           0.72072,     0.72172,     0.72272,     0.72372,     0.72472,     0.72573,     0.72673,     0.72773,     0.72873,     0.72973,     0.73073,     0.73173,     0.73273,     0.73373,     0.73473,     0.73574,     0.73674,     0.73774,     0.73874,     0.73974,     0.74074,     0.74174,     0.74274,     0.74374,\n",
       "           0.74474,     0.74575,     0.74675,     0.74775,     0.74875,     0.74975,     0.75075,     0.75175,     0.75275,     0.75375,     0.75475,     0.75576,     0.75676,     0.75776,     0.75876,     0.75976,     0.76076,     0.76176,     0.76276,     0.76376,     0.76476,     0.76577,     0.76677,     0.76777,\n",
       "           0.76877,     0.76977,     0.77077,     0.77177,     0.77277,     0.77377,     0.77477,     0.77578,     0.77678,     0.77778,     0.77878,     0.77978,     0.78078,     0.78178,     0.78278,     0.78378,     0.78478,     0.78579,     0.78679,     0.78779,     0.78879,     0.78979,     0.79079,     0.79179,\n",
       "           0.79279,     0.79379,     0.79479,      0.7958,      0.7968,      0.7978,      0.7988,      0.7998,      0.8008,      0.8018,      0.8028,      0.8038,      0.8048,     0.80581,     0.80681,     0.80781,     0.80881,     0.80981,     0.81081,     0.81181,     0.81281,     0.81381,     0.81481,     0.81582,\n",
       "           0.81682,     0.81782,     0.81882,     0.81982,     0.82082,     0.82182,     0.82282,     0.82382,     0.82482,     0.82583,     0.82683,     0.82783,     0.82883,     0.82983,     0.83083,     0.83183,     0.83283,     0.83383,     0.83483,     0.83584,     0.83684,     0.83784,     0.83884,     0.83984,\n",
       "           0.84084,     0.84184,     0.84284,     0.84384,     0.84484,     0.84585,     0.84685,     0.84785,     0.84885,     0.84985,     0.85085,     0.85185,     0.85285,     0.85385,     0.85485,     0.85586,     0.85686,     0.85786,     0.85886,     0.85986,     0.86086,     0.86186,     0.86286,     0.86386,\n",
       "           0.86486,     0.86587,     0.86687,     0.86787,     0.86887,     0.86987,     0.87087,     0.87187,     0.87287,     0.87387,     0.87487,     0.87588,     0.87688,     0.87788,     0.87888,     0.87988,     0.88088,     0.88188,     0.88288,     0.88388,     0.88488,     0.88589,     0.88689,     0.88789,\n",
       "           0.88889,     0.88989,     0.89089,     0.89189,     0.89289,     0.89389,     0.89489,      0.8959,      0.8969,      0.8979,      0.8989,      0.8999,      0.9009,      0.9019,      0.9029,      0.9039,      0.9049,     0.90591,     0.90691,     0.90791,     0.90891,     0.90991,     0.91091,     0.91191,\n",
       "           0.91291,     0.91391,     0.91491,     0.91592,     0.91692,     0.91792,     0.91892,     0.91992,     0.92092,     0.92192,     0.92292,     0.92392,     0.92492,     0.92593,     0.92693,     0.92793,     0.92893,     0.92993,     0.93093,     0.93193,     0.93293,     0.93393,     0.93493,     0.93594,\n",
       "           0.93694,     0.93794,     0.93894,     0.93994,     0.94094,     0.94194,     0.94294,     0.94394,     0.94494,     0.94595,     0.94695,     0.94795,     0.94895,     0.94995,     0.95095,     0.95195,     0.95295,     0.95395,     0.95495,     0.95596,     0.95696,     0.95796,     0.95896,     0.95996,\n",
       "           0.96096,     0.96196,     0.96296,     0.96396,     0.96496,     0.96597,     0.96697,     0.96797,     0.96897,     0.96997,     0.97097,     0.97197,     0.97297,     0.97397,     0.97497,     0.97598,     0.97698,     0.97798,     0.97898,     0.97998,     0.98098,     0.98198,     0.98298,     0.98398,\n",
       "           0.98498,     0.98599,     0.98699,     0.98799,     0.98899,     0.98999,     0.99099,     0.99199,     0.99299,     0.99399,     0.99499,       0.996,       0.997,       0.998,       0.999,           1]), array([[          1,           1,           1, ...,           1,           1,           0],\n",
       "       [          1,           1,           1, ...,           1,           1,           0],\n",
       "       [          1,           1,           1, ...,   0.0039303,   0.0019651,           0],\n",
       "       [          1,           1,           1, ...,     0.44286,     0.44286,           0],\n",
       "       [          1,           1,           1, ...,   0.0082875,   0.0041438,           0],\n",
       "       [          1,           1,           1, ...,     0.80952,     0.80952,           0]]), 'Recall', 'Precision'], [array([          0,    0.001001,    0.002002,    0.003003,    0.004004,    0.005005,    0.006006,    0.007007,    0.008008,    0.009009,     0.01001,    0.011011,    0.012012,    0.013013,    0.014014,    0.015015,    0.016016,    0.017017,    0.018018,    0.019019,     0.02002,    0.021021,    0.022022,    0.023023,\n",
       "          0.024024,    0.025025,    0.026026,    0.027027,    0.028028,    0.029029,     0.03003,    0.031031,    0.032032,    0.033033,    0.034034,    0.035035,    0.036036,    0.037037,    0.038038,    0.039039,     0.04004,    0.041041,    0.042042,    0.043043,    0.044044,    0.045045,    0.046046,    0.047047,\n",
       "          0.048048,    0.049049,     0.05005,    0.051051,    0.052052,    0.053053,    0.054054,    0.055055,    0.056056,    0.057057,    0.058058,    0.059059,     0.06006,    0.061061,    0.062062,    0.063063,    0.064064,    0.065065,    0.066066,    0.067067,    0.068068,    0.069069,     0.07007,    0.071071,\n",
       "          0.072072,    0.073073,    0.074074,    0.075075,    0.076076,    0.077077,    0.078078,    0.079079,     0.08008,    0.081081,    0.082082,    0.083083,    0.084084,    0.085085,    0.086086,    0.087087,    0.088088,    0.089089,     0.09009,    0.091091,    0.092092,    0.093093,    0.094094,    0.095095,\n",
       "          0.096096,    0.097097,    0.098098,    0.099099,      0.1001,      0.1011,      0.1021,      0.1031,      0.1041,     0.10511,     0.10611,     0.10711,     0.10811,     0.10911,     0.11011,     0.11111,     0.11211,     0.11311,     0.11411,     0.11512,     0.11612,     0.11712,     0.11812,     0.11912,\n",
       "           0.12012,     0.12112,     0.12212,     0.12312,     0.12412,     0.12513,     0.12613,     0.12713,     0.12813,     0.12913,     0.13013,     0.13113,     0.13213,     0.13313,     0.13413,     0.13514,     0.13614,     0.13714,     0.13814,     0.13914,     0.14014,     0.14114,     0.14214,     0.14314,\n",
       "           0.14414,     0.14515,     0.14615,     0.14715,     0.14815,     0.14915,     0.15015,     0.15115,     0.15215,     0.15315,     0.15415,     0.15516,     0.15616,     0.15716,     0.15816,     0.15916,     0.16016,     0.16116,     0.16216,     0.16316,     0.16416,     0.16517,     0.16617,     0.16717,\n",
       "           0.16817,     0.16917,     0.17017,     0.17117,     0.17217,     0.17317,     0.17417,     0.17518,     0.17618,     0.17718,     0.17818,     0.17918,     0.18018,     0.18118,     0.18218,     0.18318,     0.18418,     0.18519,     0.18619,     0.18719,     0.18819,     0.18919,     0.19019,     0.19119,\n",
       "           0.19219,     0.19319,     0.19419,      0.1952,      0.1962,      0.1972,      0.1982,      0.1992,      0.2002,      0.2012,      0.2022,      0.2032,      0.2042,     0.20521,     0.20621,     0.20721,     0.20821,     0.20921,     0.21021,     0.21121,     0.21221,     0.21321,     0.21421,     0.21522,\n",
       "           0.21622,     0.21722,     0.21822,     0.21922,     0.22022,     0.22122,     0.22222,     0.22322,     0.22422,     0.22523,     0.22623,     0.22723,     0.22823,     0.22923,     0.23023,     0.23123,     0.23223,     0.23323,     0.23423,     0.23524,     0.23624,     0.23724,     0.23824,     0.23924,\n",
       "           0.24024,     0.24124,     0.24224,     0.24324,     0.24424,     0.24525,     0.24625,     0.24725,     0.24825,     0.24925,     0.25025,     0.25125,     0.25225,     0.25325,     0.25425,     0.25526,     0.25626,     0.25726,     0.25826,     0.25926,     0.26026,     0.26126,     0.26226,     0.26326,\n",
       "           0.26426,     0.26527,     0.26627,     0.26727,     0.26827,     0.26927,     0.27027,     0.27127,     0.27227,     0.27327,     0.27427,     0.27528,     0.27628,     0.27728,     0.27828,     0.27928,     0.28028,     0.28128,     0.28228,     0.28328,     0.28428,     0.28529,     0.28629,     0.28729,\n",
       "           0.28829,     0.28929,     0.29029,     0.29129,     0.29229,     0.29329,     0.29429,      0.2953,      0.2963,      0.2973,      0.2983,      0.2993,      0.3003,      0.3013,      0.3023,      0.3033,      0.3043,     0.30531,     0.30631,     0.30731,     0.30831,     0.30931,     0.31031,     0.31131,\n",
       "           0.31231,     0.31331,     0.31431,     0.31532,     0.31632,     0.31732,     0.31832,     0.31932,     0.32032,     0.32132,     0.32232,     0.32332,     0.32432,     0.32533,     0.32633,     0.32733,     0.32833,     0.32933,     0.33033,     0.33133,     0.33233,     0.33333,     0.33433,     0.33534,\n",
       "           0.33634,     0.33734,     0.33834,     0.33934,     0.34034,     0.34134,     0.34234,     0.34334,     0.34434,     0.34535,     0.34635,     0.34735,     0.34835,     0.34935,     0.35035,     0.35135,     0.35235,     0.35335,     0.35435,     0.35536,     0.35636,     0.35736,     0.35836,     0.35936,\n",
       "           0.36036,     0.36136,     0.36236,     0.36336,     0.36436,     0.36537,     0.36637,     0.36737,     0.36837,     0.36937,     0.37037,     0.37137,     0.37237,     0.37337,     0.37437,     0.37538,     0.37638,     0.37738,     0.37838,     0.37938,     0.38038,     0.38138,     0.38238,     0.38338,\n",
       "           0.38438,     0.38539,     0.38639,     0.38739,     0.38839,     0.38939,     0.39039,     0.39139,     0.39239,     0.39339,     0.39439,      0.3954,      0.3964,      0.3974,      0.3984,      0.3994,      0.4004,      0.4014,      0.4024,      0.4034,      0.4044,     0.40541,     0.40641,     0.40741,\n",
       "           0.40841,     0.40941,     0.41041,     0.41141,     0.41241,     0.41341,     0.41441,     0.41542,     0.41642,     0.41742,     0.41842,     0.41942,     0.42042,     0.42142,     0.42242,     0.42342,     0.42442,     0.42543,     0.42643,     0.42743,     0.42843,     0.42943,     0.43043,     0.43143,\n",
       "           0.43243,     0.43343,     0.43443,     0.43544,     0.43644,     0.43744,     0.43844,     0.43944,     0.44044,     0.44144,     0.44244,     0.44344,     0.44444,     0.44545,     0.44645,     0.44745,     0.44845,     0.44945,     0.45045,     0.45145,     0.45245,     0.45345,     0.45445,     0.45546,\n",
       "           0.45646,     0.45746,     0.45846,     0.45946,     0.46046,     0.46146,     0.46246,     0.46346,     0.46446,     0.46547,     0.46647,     0.46747,     0.46847,     0.46947,     0.47047,     0.47147,     0.47247,     0.47347,     0.47447,     0.47548,     0.47648,     0.47748,     0.47848,     0.47948,\n",
       "           0.48048,     0.48148,     0.48248,     0.48348,     0.48448,     0.48549,     0.48649,     0.48749,     0.48849,     0.48949,     0.49049,     0.49149,     0.49249,     0.49349,     0.49449,      0.4955,      0.4965,      0.4975,      0.4985,      0.4995,      0.5005,      0.5015,      0.5025,      0.5035,\n",
       "            0.5045,     0.50551,     0.50651,     0.50751,     0.50851,     0.50951,     0.51051,     0.51151,     0.51251,     0.51351,     0.51451,     0.51552,     0.51652,     0.51752,     0.51852,     0.51952,     0.52052,     0.52152,     0.52252,     0.52352,     0.52452,     0.52553,     0.52653,     0.52753,\n",
       "           0.52853,     0.52953,     0.53053,     0.53153,     0.53253,     0.53353,     0.53453,     0.53554,     0.53654,     0.53754,     0.53854,     0.53954,     0.54054,     0.54154,     0.54254,     0.54354,     0.54454,     0.54555,     0.54655,     0.54755,     0.54855,     0.54955,     0.55055,     0.55155,\n",
       "           0.55255,     0.55355,     0.55455,     0.55556,     0.55656,     0.55756,     0.55856,     0.55956,     0.56056,     0.56156,     0.56256,     0.56356,     0.56456,     0.56557,     0.56657,     0.56757,     0.56857,     0.56957,     0.57057,     0.57157,     0.57257,     0.57357,     0.57457,     0.57558,\n",
       "           0.57658,     0.57758,     0.57858,     0.57958,     0.58058,     0.58158,     0.58258,     0.58358,     0.58458,     0.58559,     0.58659,     0.58759,     0.58859,     0.58959,     0.59059,     0.59159,     0.59259,     0.59359,     0.59459,      0.5956,      0.5966,      0.5976,      0.5986,      0.5996,\n",
       "            0.6006,      0.6016,      0.6026,      0.6036,      0.6046,     0.60561,     0.60661,     0.60761,     0.60861,     0.60961,     0.61061,     0.61161,     0.61261,     0.61361,     0.61461,     0.61562,     0.61662,     0.61762,     0.61862,     0.61962,     0.62062,     0.62162,     0.62262,     0.62362,\n",
       "           0.62462,     0.62563,     0.62663,     0.62763,     0.62863,     0.62963,     0.63063,     0.63163,     0.63263,     0.63363,     0.63463,     0.63564,     0.63664,     0.63764,     0.63864,     0.63964,     0.64064,     0.64164,     0.64264,     0.64364,     0.64464,     0.64565,     0.64665,     0.64765,\n",
       "           0.64865,     0.64965,     0.65065,     0.65165,     0.65265,     0.65365,     0.65465,     0.65566,     0.65666,     0.65766,     0.65866,     0.65966,     0.66066,     0.66166,     0.66266,     0.66366,     0.66466,     0.66567,     0.66667,     0.66767,     0.66867,     0.66967,     0.67067,     0.67167,\n",
       "           0.67267,     0.67367,     0.67467,     0.67568,     0.67668,     0.67768,     0.67868,     0.67968,     0.68068,     0.68168,     0.68268,     0.68368,     0.68468,     0.68569,     0.68669,     0.68769,     0.68869,     0.68969,     0.69069,     0.69169,     0.69269,     0.69369,     0.69469,      0.6957,\n",
       "            0.6967,      0.6977,      0.6987,      0.6997,      0.7007,      0.7017,      0.7027,      0.7037,      0.7047,     0.70571,     0.70671,     0.70771,     0.70871,     0.70971,     0.71071,     0.71171,     0.71271,     0.71371,     0.71471,     0.71572,     0.71672,     0.71772,     0.71872,     0.71972,\n",
       "           0.72072,     0.72172,     0.72272,     0.72372,     0.72472,     0.72573,     0.72673,     0.72773,     0.72873,     0.72973,     0.73073,     0.73173,     0.73273,     0.73373,     0.73473,     0.73574,     0.73674,     0.73774,     0.73874,     0.73974,     0.74074,     0.74174,     0.74274,     0.74374,\n",
       "           0.74474,     0.74575,     0.74675,     0.74775,     0.74875,     0.74975,     0.75075,     0.75175,     0.75275,     0.75375,     0.75475,     0.75576,     0.75676,     0.75776,     0.75876,     0.75976,     0.76076,     0.76176,     0.76276,     0.76376,     0.76476,     0.76577,     0.76677,     0.76777,\n",
       "           0.76877,     0.76977,     0.77077,     0.77177,     0.77277,     0.77377,     0.77477,     0.77578,     0.77678,     0.77778,     0.77878,     0.77978,     0.78078,     0.78178,     0.78278,     0.78378,     0.78478,     0.78579,     0.78679,     0.78779,     0.78879,     0.78979,     0.79079,     0.79179,\n",
       "           0.79279,     0.79379,     0.79479,      0.7958,      0.7968,      0.7978,      0.7988,      0.7998,      0.8008,      0.8018,      0.8028,      0.8038,      0.8048,     0.80581,     0.80681,     0.80781,     0.80881,     0.80981,     0.81081,     0.81181,     0.81281,     0.81381,     0.81481,     0.81582,\n",
       "           0.81682,     0.81782,     0.81882,     0.81982,     0.82082,     0.82182,     0.82282,     0.82382,     0.82482,     0.82583,     0.82683,     0.82783,     0.82883,     0.82983,     0.83083,     0.83183,     0.83283,     0.83383,     0.83483,     0.83584,     0.83684,     0.83784,     0.83884,     0.83984,\n",
       "           0.84084,     0.84184,     0.84284,     0.84384,     0.84484,     0.84585,     0.84685,     0.84785,     0.84885,     0.84985,     0.85085,     0.85185,     0.85285,     0.85385,     0.85485,     0.85586,     0.85686,     0.85786,     0.85886,     0.85986,     0.86086,     0.86186,     0.86286,     0.86386,\n",
       "           0.86486,     0.86587,     0.86687,     0.86787,     0.86887,     0.86987,     0.87087,     0.87187,     0.87287,     0.87387,     0.87487,     0.87588,     0.87688,     0.87788,     0.87888,     0.87988,     0.88088,     0.88188,     0.88288,     0.88388,     0.88488,     0.88589,     0.88689,     0.88789,\n",
       "           0.88889,     0.88989,     0.89089,     0.89189,     0.89289,     0.89389,     0.89489,      0.8959,      0.8969,      0.8979,      0.8989,      0.8999,      0.9009,      0.9019,      0.9029,      0.9039,      0.9049,     0.90591,     0.90691,     0.90791,     0.90891,     0.90991,     0.91091,     0.91191,\n",
       "           0.91291,     0.91391,     0.91491,     0.91592,     0.91692,     0.91792,     0.91892,     0.91992,     0.92092,     0.92192,     0.92292,     0.92392,     0.92492,     0.92593,     0.92693,     0.92793,     0.92893,     0.92993,     0.93093,     0.93193,     0.93293,     0.93393,     0.93493,     0.93594,\n",
       "           0.93694,     0.93794,     0.93894,     0.93994,     0.94094,     0.94194,     0.94294,     0.94394,     0.94494,     0.94595,     0.94695,     0.94795,     0.94895,     0.94995,     0.95095,     0.95195,     0.95295,     0.95395,     0.95495,     0.95596,     0.95696,     0.95796,     0.95896,     0.95996,\n",
       "           0.96096,     0.96196,     0.96296,     0.96396,     0.96496,     0.96597,     0.96697,     0.96797,     0.96897,     0.96997,     0.97097,     0.97197,     0.97297,     0.97397,     0.97497,     0.97598,     0.97698,     0.97798,     0.97898,     0.97998,     0.98098,     0.98198,     0.98298,     0.98398,\n",
       "           0.98498,     0.98599,     0.98699,     0.98799,     0.98899,     0.98999,     0.99099,     0.99199,     0.99299,     0.99399,     0.99499,       0.996,       0.997,       0.998,       0.999,           1]), array([[     0.0625,      0.0625,    0.063985, ...,           0,           0,           0],\n",
       "       [   0.028169,    0.028169,    0.090826, ...,           0,           0,           0],\n",
       "       [   0.023236,    0.023236,    0.023804, ...,           0,           0,           0],\n",
       "       [   0.019383,    0.019383,    0.020886, ...,           0,           0,           0],\n",
       "       [    0.14993,     0.14993,     0.16286, ...,           0,           0,           0],\n",
       "       [   0.055105,    0.055105,     0.10792, ...,     0.14882,           0,           0]]), 'Confidence', 'F1'], [array([          0,    0.001001,    0.002002,    0.003003,    0.004004,    0.005005,    0.006006,    0.007007,    0.008008,    0.009009,     0.01001,    0.011011,    0.012012,    0.013013,    0.014014,    0.015015,    0.016016,    0.017017,    0.018018,    0.019019,     0.02002,    0.021021,    0.022022,    0.023023,\n",
       "          0.024024,    0.025025,    0.026026,    0.027027,    0.028028,    0.029029,     0.03003,    0.031031,    0.032032,    0.033033,    0.034034,    0.035035,    0.036036,    0.037037,    0.038038,    0.039039,     0.04004,    0.041041,    0.042042,    0.043043,    0.044044,    0.045045,    0.046046,    0.047047,\n",
       "          0.048048,    0.049049,     0.05005,    0.051051,    0.052052,    0.053053,    0.054054,    0.055055,    0.056056,    0.057057,    0.058058,    0.059059,     0.06006,    0.061061,    0.062062,    0.063063,    0.064064,    0.065065,    0.066066,    0.067067,    0.068068,    0.069069,     0.07007,    0.071071,\n",
       "          0.072072,    0.073073,    0.074074,    0.075075,    0.076076,    0.077077,    0.078078,    0.079079,     0.08008,    0.081081,    0.082082,    0.083083,    0.084084,    0.085085,    0.086086,    0.087087,    0.088088,    0.089089,     0.09009,    0.091091,    0.092092,    0.093093,    0.094094,    0.095095,\n",
       "          0.096096,    0.097097,    0.098098,    0.099099,      0.1001,      0.1011,      0.1021,      0.1031,      0.1041,     0.10511,     0.10611,     0.10711,     0.10811,     0.10911,     0.11011,     0.11111,     0.11211,     0.11311,     0.11411,     0.11512,     0.11612,     0.11712,     0.11812,     0.11912,\n",
       "           0.12012,     0.12112,     0.12212,     0.12312,     0.12412,     0.12513,     0.12613,     0.12713,     0.12813,     0.12913,     0.13013,     0.13113,     0.13213,     0.13313,     0.13413,     0.13514,     0.13614,     0.13714,     0.13814,     0.13914,     0.14014,     0.14114,     0.14214,     0.14314,\n",
       "           0.14414,     0.14515,     0.14615,     0.14715,     0.14815,     0.14915,     0.15015,     0.15115,     0.15215,     0.15315,     0.15415,     0.15516,     0.15616,     0.15716,     0.15816,     0.15916,     0.16016,     0.16116,     0.16216,     0.16316,     0.16416,     0.16517,     0.16617,     0.16717,\n",
       "           0.16817,     0.16917,     0.17017,     0.17117,     0.17217,     0.17317,     0.17417,     0.17518,     0.17618,     0.17718,     0.17818,     0.17918,     0.18018,     0.18118,     0.18218,     0.18318,     0.18418,     0.18519,     0.18619,     0.18719,     0.18819,     0.18919,     0.19019,     0.19119,\n",
       "           0.19219,     0.19319,     0.19419,      0.1952,      0.1962,      0.1972,      0.1982,      0.1992,      0.2002,      0.2012,      0.2022,      0.2032,      0.2042,     0.20521,     0.20621,     0.20721,     0.20821,     0.20921,     0.21021,     0.21121,     0.21221,     0.21321,     0.21421,     0.21522,\n",
       "           0.21622,     0.21722,     0.21822,     0.21922,     0.22022,     0.22122,     0.22222,     0.22322,     0.22422,     0.22523,     0.22623,     0.22723,     0.22823,     0.22923,     0.23023,     0.23123,     0.23223,     0.23323,     0.23423,     0.23524,     0.23624,     0.23724,     0.23824,     0.23924,\n",
       "           0.24024,     0.24124,     0.24224,     0.24324,     0.24424,     0.24525,     0.24625,     0.24725,     0.24825,     0.24925,     0.25025,     0.25125,     0.25225,     0.25325,     0.25425,     0.25526,     0.25626,     0.25726,     0.25826,     0.25926,     0.26026,     0.26126,     0.26226,     0.26326,\n",
       "           0.26426,     0.26527,     0.26627,     0.26727,     0.26827,     0.26927,     0.27027,     0.27127,     0.27227,     0.27327,     0.27427,     0.27528,     0.27628,     0.27728,     0.27828,     0.27928,     0.28028,     0.28128,     0.28228,     0.28328,     0.28428,     0.28529,     0.28629,     0.28729,\n",
       "           0.28829,     0.28929,     0.29029,     0.29129,     0.29229,     0.29329,     0.29429,      0.2953,      0.2963,      0.2973,      0.2983,      0.2993,      0.3003,      0.3013,      0.3023,      0.3033,      0.3043,     0.30531,     0.30631,     0.30731,     0.30831,     0.30931,     0.31031,     0.31131,\n",
       "           0.31231,     0.31331,     0.31431,     0.31532,     0.31632,     0.31732,     0.31832,     0.31932,     0.32032,     0.32132,     0.32232,     0.32332,     0.32432,     0.32533,     0.32633,     0.32733,     0.32833,     0.32933,     0.33033,     0.33133,     0.33233,     0.33333,     0.33433,     0.33534,\n",
       "           0.33634,     0.33734,     0.33834,     0.33934,     0.34034,     0.34134,     0.34234,     0.34334,     0.34434,     0.34535,     0.34635,     0.34735,     0.34835,     0.34935,     0.35035,     0.35135,     0.35235,     0.35335,     0.35435,     0.35536,     0.35636,     0.35736,     0.35836,     0.35936,\n",
       "           0.36036,     0.36136,     0.36236,     0.36336,     0.36436,     0.36537,     0.36637,     0.36737,     0.36837,     0.36937,     0.37037,     0.37137,     0.37237,     0.37337,     0.37437,     0.37538,     0.37638,     0.37738,     0.37838,     0.37938,     0.38038,     0.38138,     0.38238,     0.38338,\n",
       "           0.38438,     0.38539,     0.38639,     0.38739,     0.38839,     0.38939,     0.39039,     0.39139,     0.39239,     0.39339,     0.39439,      0.3954,      0.3964,      0.3974,      0.3984,      0.3994,      0.4004,      0.4014,      0.4024,      0.4034,      0.4044,     0.40541,     0.40641,     0.40741,\n",
       "           0.40841,     0.40941,     0.41041,     0.41141,     0.41241,     0.41341,     0.41441,     0.41542,     0.41642,     0.41742,     0.41842,     0.41942,     0.42042,     0.42142,     0.42242,     0.42342,     0.42442,     0.42543,     0.42643,     0.42743,     0.42843,     0.42943,     0.43043,     0.43143,\n",
       "           0.43243,     0.43343,     0.43443,     0.43544,     0.43644,     0.43744,     0.43844,     0.43944,     0.44044,     0.44144,     0.44244,     0.44344,     0.44444,     0.44545,     0.44645,     0.44745,     0.44845,     0.44945,     0.45045,     0.45145,     0.45245,     0.45345,     0.45445,     0.45546,\n",
       "           0.45646,     0.45746,     0.45846,     0.45946,     0.46046,     0.46146,     0.46246,     0.46346,     0.46446,     0.46547,     0.46647,     0.46747,     0.46847,     0.46947,     0.47047,     0.47147,     0.47247,     0.47347,     0.47447,     0.47548,     0.47648,     0.47748,     0.47848,     0.47948,\n",
       "           0.48048,     0.48148,     0.48248,     0.48348,     0.48448,     0.48549,     0.48649,     0.48749,     0.48849,     0.48949,     0.49049,     0.49149,     0.49249,     0.49349,     0.49449,      0.4955,      0.4965,      0.4975,      0.4985,      0.4995,      0.5005,      0.5015,      0.5025,      0.5035,\n",
       "            0.5045,     0.50551,     0.50651,     0.50751,     0.50851,     0.50951,     0.51051,     0.51151,     0.51251,     0.51351,     0.51451,     0.51552,     0.51652,     0.51752,     0.51852,     0.51952,     0.52052,     0.52152,     0.52252,     0.52352,     0.52452,     0.52553,     0.52653,     0.52753,\n",
       "           0.52853,     0.52953,     0.53053,     0.53153,     0.53253,     0.53353,     0.53453,     0.53554,     0.53654,     0.53754,     0.53854,     0.53954,     0.54054,     0.54154,     0.54254,     0.54354,     0.54454,     0.54555,     0.54655,     0.54755,     0.54855,     0.54955,     0.55055,     0.55155,\n",
       "           0.55255,     0.55355,     0.55455,     0.55556,     0.55656,     0.55756,     0.55856,     0.55956,     0.56056,     0.56156,     0.56256,     0.56356,     0.56456,     0.56557,     0.56657,     0.56757,     0.56857,     0.56957,     0.57057,     0.57157,     0.57257,     0.57357,     0.57457,     0.57558,\n",
       "           0.57658,     0.57758,     0.57858,     0.57958,     0.58058,     0.58158,     0.58258,     0.58358,     0.58458,     0.58559,     0.58659,     0.58759,     0.58859,     0.58959,     0.59059,     0.59159,     0.59259,     0.59359,     0.59459,      0.5956,      0.5966,      0.5976,      0.5986,      0.5996,\n",
       "            0.6006,      0.6016,      0.6026,      0.6036,      0.6046,     0.60561,     0.60661,     0.60761,     0.60861,     0.60961,     0.61061,     0.61161,     0.61261,     0.61361,     0.61461,     0.61562,     0.61662,     0.61762,     0.61862,     0.61962,     0.62062,     0.62162,     0.62262,     0.62362,\n",
       "           0.62462,     0.62563,     0.62663,     0.62763,     0.62863,     0.62963,     0.63063,     0.63163,     0.63263,     0.63363,     0.63463,     0.63564,     0.63664,     0.63764,     0.63864,     0.63964,     0.64064,     0.64164,     0.64264,     0.64364,     0.64464,     0.64565,     0.64665,     0.64765,\n",
       "           0.64865,     0.64965,     0.65065,     0.65165,     0.65265,     0.65365,     0.65465,     0.65566,     0.65666,     0.65766,     0.65866,     0.65966,     0.66066,     0.66166,     0.66266,     0.66366,     0.66466,     0.66567,     0.66667,     0.66767,     0.66867,     0.66967,     0.67067,     0.67167,\n",
       "           0.67267,     0.67367,     0.67467,     0.67568,     0.67668,     0.67768,     0.67868,     0.67968,     0.68068,     0.68168,     0.68268,     0.68368,     0.68468,     0.68569,     0.68669,     0.68769,     0.68869,     0.68969,     0.69069,     0.69169,     0.69269,     0.69369,     0.69469,      0.6957,\n",
       "            0.6967,      0.6977,      0.6987,      0.6997,      0.7007,      0.7017,      0.7027,      0.7037,      0.7047,     0.70571,     0.70671,     0.70771,     0.70871,     0.70971,     0.71071,     0.71171,     0.71271,     0.71371,     0.71471,     0.71572,     0.71672,     0.71772,     0.71872,     0.71972,\n",
       "           0.72072,     0.72172,     0.72272,     0.72372,     0.72472,     0.72573,     0.72673,     0.72773,     0.72873,     0.72973,     0.73073,     0.73173,     0.73273,     0.73373,     0.73473,     0.73574,     0.73674,     0.73774,     0.73874,     0.73974,     0.74074,     0.74174,     0.74274,     0.74374,\n",
       "           0.74474,     0.74575,     0.74675,     0.74775,     0.74875,     0.74975,     0.75075,     0.75175,     0.75275,     0.75375,     0.75475,     0.75576,     0.75676,     0.75776,     0.75876,     0.75976,     0.76076,     0.76176,     0.76276,     0.76376,     0.76476,     0.76577,     0.76677,     0.76777,\n",
       "           0.76877,     0.76977,     0.77077,     0.77177,     0.77277,     0.77377,     0.77477,     0.77578,     0.77678,     0.77778,     0.77878,     0.77978,     0.78078,     0.78178,     0.78278,     0.78378,     0.78478,     0.78579,     0.78679,     0.78779,     0.78879,     0.78979,     0.79079,     0.79179,\n",
       "           0.79279,     0.79379,     0.79479,      0.7958,      0.7968,      0.7978,      0.7988,      0.7998,      0.8008,      0.8018,      0.8028,      0.8038,      0.8048,     0.80581,     0.80681,     0.80781,     0.80881,     0.80981,     0.81081,     0.81181,     0.81281,     0.81381,     0.81481,     0.81582,\n",
       "           0.81682,     0.81782,     0.81882,     0.81982,     0.82082,     0.82182,     0.82282,     0.82382,     0.82482,     0.82583,     0.82683,     0.82783,     0.82883,     0.82983,     0.83083,     0.83183,     0.83283,     0.83383,     0.83483,     0.83584,     0.83684,     0.83784,     0.83884,     0.83984,\n",
       "           0.84084,     0.84184,     0.84284,     0.84384,     0.84484,     0.84585,     0.84685,     0.84785,     0.84885,     0.84985,     0.85085,     0.85185,     0.85285,     0.85385,     0.85485,     0.85586,     0.85686,     0.85786,     0.85886,     0.85986,     0.86086,     0.86186,     0.86286,     0.86386,\n",
       "           0.86486,     0.86587,     0.86687,     0.86787,     0.86887,     0.86987,     0.87087,     0.87187,     0.87287,     0.87387,     0.87487,     0.87588,     0.87688,     0.87788,     0.87888,     0.87988,     0.88088,     0.88188,     0.88288,     0.88388,     0.88488,     0.88589,     0.88689,     0.88789,\n",
       "           0.88889,     0.88989,     0.89089,     0.89189,     0.89289,     0.89389,     0.89489,      0.8959,      0.8969,      0.8979,      0.8989,      0.8999,      0.9009,      0.9019,      0.9029,      0.9039,      0.9049,     0.90591,     0.90691,     0.90791,     0.90891,     0.90991,     0.91091,     0.91191,\n",
       "           0.91291,     0.91391,     0.91491,     0.91592,     0.91692,     0.91792,     0.91892,     0.91992,     0.92092,     0.92192,     0.92292,     0.92392,     0.92492,     0.92593,     0.92693,     0.92793,     0.92893,     0.92993,     0.93093,     0.93193,     0.93293,     0.93393,     0.93493,     0.93594,\n",
       "           0.93694,     0.93794,     0.93894,     0.93994,     0.94094,     0.94194,     0.94294,     0.94394,     0.94494,     0.94595,     0.94695,     0.94795,     0.94895,     0.94995,     0.95095,     0.95195,     0.95295,     0.95395,     0.95495,     0.95596,     0.95696,     0.95796,     0.95896,     0.95996,\n",
       "           0.96096,     0.96196,     0.96296,     0.96396,     0.96496,     0.96597,     0.96697,     0.96797,     0.96897,     0.96997,     0.97097,     0.97197,     0.97297,     0.97397,     0.97497,     0.97598,     0.97698,     0.97798,     0.97898,     0.97998,     0.98098,     0.98198,     0.98298,     0.98398,\n",
       "           0.98498,     0.98599,     0.98699,     0.98799,     0.98899,     0.98999,     0.99099,     0.99199,     0.99299,     0.99399,     0.99499,       0.996,       0.997,       0.998,       0.999,           1]), array([[   0.032258,    0.032258,     0.03305, ...,           1,           1,           1],\n",
       "       [   0.014286,    0.014286,    0.047573, ...,           1,           1,           1],\n",
       "       [   0.011756,    0.011756,    0.012046, ...,           1,           1,           1],\n",
       "       [  0.0097861,   0.0097861,    0.010553, ...,           1,           1,           1],\n",
       "       [   0.081169,    0.081169,    0.088808, ...,           1,           1,           1],\n",
       "       [   0.028333,    0.028333,    0.057038, ...,           1,           1,           1]]), 'Confidence', 'Precision'], [array([          0,    0.001001,    0.002002,    0.003003,    0.004004,    0.005005,    0.006006,    0.007007,    0.008008,    0.009009,     0.01001,    0.011011,    0.012012,    0.013013,    0.014014,    0.015015,    0.016016,    0.017017,    0.018018,    0.019019,     0.02002,    0.021021,    0.022022,    0.023023,\n",
       "          0.024024,    0.025025,    0.026026,    0.027027,    0.028028,    0.029029,     0.03003,    0.031031,    0.032032,    0.033033,    0.034034,    0.035035,    0.036036,    0.037037,    0.038038,    0.039039,     0.04004,    0.041041,    0.042042,    0.043043,    0.044044,    0.045045,    0.046046,    0.047047,\n",
       "          0.048048,    0.049049,     0.05005,    0.051051,    0.052052,    0.053053,    0.054054,    0.055055,    0.056056,    0.057057,    0.058058,    0.059059,     0.06006,    0.061061,    0.062062,    0.063063,    0.064064,    0.065065,    0.066066,    0.067067,    0.068068,    0.069069,     0.07007,    0.071071,\n",
       "          0.072072,    0.073073,    0.074074,    0.075075,    0.076076,    0.077077,    0.078078,    0.079079,     0.08008,    0.081081,    0.082082,    0.083083,    0.084084,    0.085085,    0.086086,    0.087087,    0.088088,    0.089089,     0.09009,    0.091091,    0.092092,    0.093093,    0.094094,    0.095095,\n",
       "          0.096096,    0.097097,    0.098098,    0.099099,      0.1001,      0.1011,      0.1021,      0.1031,      0.1041,     0.10511,     0.10611,     0.10711,     0.10811,     0.10911,     0.11011,     0.11111,     0.11211,     0.11311,     0.11411,     0.11512,     0.11612,     0.11712,     0.11812,     0.11912,\n",
       "           0.12012,     0.12112,     0.12212,     0.12312,     0.12412,     0.12513,     0.12613,     0.12713,     0.12813,     0.12913,     0.13013,     0.13113,     0.13213,     0.13313,     0.13413,     0.13514,     0.13614,     0.13714,     0.13814,     0.13914,     0.14014,     0.14114,     0.14214,     0.14314,\n",
       "           0.14414,     0.14515,     0.14615,     0.14715,     0.14815,     0.14915,     0.15015,     0.15115,     0.15215,     0.15315,     0.15415,     0.15516,     0.15616,     0.15716,     0.15816,     0.15916,     0.16016,     0.16116,     0.16216,     0.16316,     0.16416,     0.16517,     0.16617,     0.16717,\n",
       "           0.16817,     0.16917,     0.17017,     0.17117,     0.17217,     0.17317,     0.17417,     0.17518,     0.17618,     0.17718,     0.17818,     0.17918,     0.18018,     0.18118,     0.18218,     0.18318,     0.18418,     0.18519,     0.18619,     0.18719,     0.18819,     0.18919,     0.19019,     0.19119,\n",
       "           0.19219,     0.19319,     0.19419,      0.1952,      0.1962,      0.1972,      0.1982,      0.1992,      0.2002,      0.2012,      0.2022,      0.2032,      0.2042,     0.20521,     0.20621,     0.20721,     0.20821,     0.20921,     0.21021,     0.21121,     0.21221,     0.21321,     0.21421,     0.21522,\n",
       "           0.21622,     0.21722,     0.21822,     0.21922,     0.22022,     0.22122,     0.22222,     0.22322,     0.22422,     0.22523,     0.22623,     0.22723,     0.22823,     0.22923,     0.23023,     0.23123,     0.23223,     0.23323,     0.23423,     0.23524,     0.23624,     0.23724,     0.23824,     0.23924,\n",
       "           0.24024,     0.24124,     0.24224,     0.24324,     0.24424,     0.24525,     0.24625,     0.24725,     0.24825,     0.24925,     0.25025,     0.25125,     0.25225,     0.25325,     0.25425,     0.25526,     0.25626,     0.25726,     0.25826,     0.25926,     0.26026,     0.26126,     0.26226,     0.26326,\n",
       "           0.26426,     0.26527,     0.26627,     0.26727,     0.26827,     0.26927,     0.27027,     0.27127,     0.27227,     0.27327,     0.27427,     0.27528,     0.27628,     0.27728,     0.27828,     0.27928,     0.28028,     0.28128,     0.28228,     0.28328,     0.28428,     0.28529,     0.28629,     0.28729,\n",
       "           0.28829,     0.28929,     0.29029,     0.29129,     0.29229,     0.29329,     0.29429,      0.2953,      0.2963,      0.2973,      0.2983,      0.2993,      0.3003,      0.3013,      0.3023,      0.3033,      0.3043,     0.30531,     0.30631,     0.30731,     0.30831,     0.30931,     0.31031,     0.31131,\n",
       "           0.31231,     0.31331,     0.31431,     0.31532,     0.31632,     0.31732,     0.31832,     0.31932,     0.32032,     0.32132,     0.32232,     0.32332,     0.32432,     0.32533,     0.32633,     0.32733,     0.32833,     0.32933,     0.33033,     0.33133,     0.33233,     0.33333,     0.33433,     0.33534,\n",
       "           0.33634,     0.33734,     0.33834,     0.33934,     0.34034,     0.34134,     0.34234,     0.34334,     0.34434,     0.34535,     0.34635,     0.34735,     0.34835,     0.34935,     0.35035,     0.35135,     0.35235,     0.35335,     0.35435,     0.35536,     0.35636,     0.35736,     0.35836,     0.35936,\n",
       "           0.36036,     0.36136,     0.36236,     0.36336,     0.36436,     0.36537,     0.36637,     0.36737,     0.36837,     0.36937,     0.37037,     0.37137,     0.37237,     0.37337,     0.37437,     0.37538,     0.37638,     0.37738,     0.37838,     0.37938,     0.38038,     0.38138,     0.38238,     0.38338,\n",
       "           0.38438,     0.38539,     0.38639,     0.38739,     0.38839,     0.38939,     0.39039,     0.39139,     0.39239,     0.39339,     0.39439,      0.3954,      0.3964,      0.3974,      0.3984,      0.3994,      0.4004,      0.4014,      0.4024,      0.4034,      0.4044,     0.40541,     0.40641,     0.40741,\n",
       "           0.40841,     0.40941,     0.41041,     0.41141,     0.41241,     0.41341,     0.41441,     0.41542,     0.41642,     0.41742,     0.41842,     0.41942,     0.42042,     0.42142,     0.42242,     0.42342,     0.42442,     0.42543,     0.42643,     0.42743,     0.42843,     0.42943,     0.43043,     0.43143,\n",
       "           0.43243,     0.43343,     0.43443,     0.43544,     0.43644,     0.43744,     0.43844,     0.43944,     0.44044,     0.44144,     0.44244,     0.44344,     0.44444,     0.44545,     0.44645,     0.44745,     0.44845,     0.44945,     0.45045,     0.45145,     0.45245,     0.45345,     0.45445,     0.45546,\n",
       "           0.45646,     0.45746,     0.45846,     0.45946,     0.46046,     0.46146,     0.46246,     0.46346,     0.46446,     0.46547,     0.46647,     0.46747,     0.46847,     0.46947,     0.47047,     0.47147,     0.47247,     0.47347,     0.47447,     0.47548,     0.47648,     0.47748,     0.47848,     0.47948,\n",
       "           0.48048,     0.48148,     0.48248,     0.48348,     0.48448,     0.48549,     0.48649,     0.48749,     0.48849,     0.48949,     0.49049,     0.49149,     0.49249,     0.49349,     0.49449,      0.4955,      0.4965,      0.4975,      0.4985,      0.4995,      0.5005,      0.5015,      0.5025,      0.5035,\n",
       "            0.5045,     0.50551,     0.50651,     0.50751,     0.50851,     0.50951,     0.51051,     0.51151,     0.51251,     0.51351,     0.51451,     0.51552,     0.51652,     0.51752,     0.51852,     0.51952,     0.52052,     0.52152,     0.52252,     0.52352,     0.52452,     0.52553,     0.52653,     0.52753,\n",
       "           0.52853,     0.52953,     0.53053,     0.53153,     0.53253,     0.53353,     0.53453,     0.53554,     0.53654,     0.53754,     0.53854,     0.53954,     0.54054,     0.54154,     0.54254,     0.54354,     0.54454,     0.54555,     0.54655,     0.54755,     0.54855,     0.54955,     0.55055,     0.55155,\n",
       "           0.55255,     0.55355,     0.55455,     0.55556,     0.55656,     0.55756,     0.55856,     0.55956,     0.56056,     0.56156,     0.56256,     0.56356,     0.56456,     0.56557,     0.56657,     0.56757,     0.56857,     0.56957,     0.57057,     0.57157,     0.57257,     0.57357,     0.57457,     0.57558,\n",
       "           0.57658,     0.57758,     0.57858,     0.57958,     0.58058,     0.58158,     0.58258,     0.58358,     0.58458,     0.58559,     0.58659,     0.58759,     0.58859,     0.58959,     0.59059,     0.59159,     0.59259,     0.59359,     0.59459,      0.5956,      0.5966,      0.5976,      0.5986,      0.5996,\n",
       "            0.6006,      0.6016,      0.6026,      0.6036,      0.6046,     0.60561,     0.60661,     0.60761,     0.60861,     0.60961,     0.61061,     0.61161,     0.61261,     0.61361,     0.61461,     0.61562,     0.61662,     0.61762,     0.61862,     0.61962,     0.62062,     0.62162,     0.62262,     0.62362,\n",
       "           0.62462,     0.62563,     0.62663,     0.62763,     0.62863,     0.62963,     0.63063,     0.63163,     0.63263,     0.63363,     0.63463,     0.63564,     0.63664,     0.63764,     0.63864,     0.63964,     0.64064,     0.64164,     0.64264,     0.64364,     0.64464,     0.64565,     0.64665,     0.64765,\n",
       "           0.64865,     0.64965,     0.65065,     0.65165,     0.65265,     0.65365,     0.65465,     0.65566,     0.65666,     0.65766,     0.65866,     0.65966,     0.66066,     0.66166,     0.66266,     0.66366,     0.66466,     0.66567,     0.66667,     0.66767,     0.66867,     0.66967,     0.67067,     0.67167,\n",
       "           0.67267,     0.67367,     0.67467,     0.67568,     0.67668,     0.67768,     0.67868,     0.67968,     0.68068,     0.68168,     0.68268,     0.68368,     0.68468,     0.68569,     0.68669,     0.68769,     0.68869,     0.68969,     0.69069,     0.69169,     0.69269,     0.69369,     0.69469,      0.6957,\n",
       "            0.6967,      0.6977,      0.6987,      0.6997,      0.7007,      0.7017,      0.7027,      0.7037,      0.7047,     0.70571,     0.70671,     0.70771,     0.70871,     0.70971,     0.71071,     0.71171,     0.71271,     0.71371,     0.71471,     0.71572,     0.71672,     0.71772,     0.71872,     0.71972,\n",
       "           0.72072,     0.72172,     0.72272,     0.72372,     0.72472,     0.72573,     0.72673,     0.72773,     0.72873,     0.72973,     0.73073,     0.73173,     0.73273,     0.73373,     0.73473,     0.73574,     0.73674,     0.73774,     0.73874,     0.73974,     0.74074,     0.74174,     0.74274,     0.74374,\n",
       "           0.74474,     0.74575,     0.74675,     0.74775,     0.74875,     0.74975,     0.75075,     0.75175,     0.75275,     0.75375,     0.75475,     0.75576,     0.75676,     0.75776,     0.75876,     0.75976,     0.76076,     0.76176,     0.76276,     0.76376,     0.76476,     0.76577,     0.76677,     0.76777,\n",
       "           0.76877,     0.76977,     0.77077,     0.77177,     0.77277,     0.77377,     0.77477,     0.77578,     0.77678,     0.77778,     0.77878,     0.77978,     0.78078,     0.78178,     0.78278,     0.78378,     0.78478,     0.78579,     0.78679,     0.78779,     0.78879,     0.78979,     0.79079,     0.79179,\n",
       "           0.79279,     0.79379,     0.79479,      0.7958,      0.7968,      0.7978,      0.7988,      0.7998,      0.8008,      0.8018,      0.8028,      0.8038,      0.8048,     0.80581,     0.80681,     0.80781,     0.80881,     0.80981,     0.81081,     0.81181,     0.81281,     0.81381,     0.81481,     0.81582,\n",
       "           0.81682,     0.81782,     0.81882,     0.81982,     0.82082,     0.82182,     0.82282,     0.82382,     0.82482,     0.82583,     0.82683,     0.82783,     0.82883,     0.82983,     0.83083,     0.83183,     0.83283,     0.83383,     0.83483,     0.83584,     0.83684,     0.83784,     0.83884,     0.83984,\n",
       "           0.84084,     0.84184,     0.84284,     0.84384,     0.84484,     0.84585,     0.84685,     0.84785,     0.84885,     0.84985,     0.85085,     0.85185,     0.85285,     0.85385,     0.85485,     0.85586,     0.85686,     0.85786,     0.85886,     0.85986,     0.86086,     0.86186,     0.86286,     0.86386,\n",
       "           0.86486,     0.86587,     0.86687,     0.86787,     0.86887,     0.86987,     0.87087,     0.87187,     0.87287,     0.87387,     0.87487,     0.87588,     0.87688,     0.87788,     0.87888,     0.87988,     0.88088,     0.88188,     0.88288,     0.88388,     0.88488,     0.88589,     0.88689,     0.88789,\n",
       "           0.88889,     0.88989,     0.89089,     0.89189,     0.89289,     0.89389,     0.89489,      0.8959,      0.8969,      0.8979,      0.8989,      0.8999,      0.9009,      0.9019,      0.9029,      0.9039,      0.9049,     0.90591,     0.90691,     0.90791,     0.90891,     0.90991,     0.91091,     0.91191,\n",
       "           0.91291,     0.91391,     0.91491,     0.91592,     0.91692,     0.91792,     0.91892,     0.91992,     0.92092,     0.92192,     0.92292,     0.92392,     0.92492,     0.92593,     0.92693,     0.92793,     0.92893,     0.92993,     0.93093,     0.93193,     0.93293,     0.93393,     0.93493,     0.93594,\n",
       "           0.93694,     0.93794,     0.93894,     0.93994,     0.94094,     0.94194,     0.94294,     0.94394,     0.94494,     0.94595,     0.94695,     0.94795,     0.94895,     0.94995,     0.95095,     0.95195,     0.95295,     0.95395,     0.95495,     0.95596,     0.95696,     0.95796,     0.95896,     0.95996,\n",
       "           0.96096,     0.96196,     0.96296,     0.96396,     0.96496,     0.96597,     0.96697,     0.96797,     0.96897,     0.96997,     0.97097,     0.97197,     0.97297,     0.97397,     0.97497,     0.97598,     0.97698,     0.97798,     0.97898,     0.97998,     0.98098,     0.98198,     0.98298,     0.98398,\n",
       "           0.98498,     0.98599,     0.98699,     0.98799,     0.98899,     0.98999,     0.99099,     0.99199,     0.99299,     0.99399,     0.99499,       0.996,       0.997,       0.998,       0.999,           1]), array([[          1,           1,           1, ...,           0,           0,           0],\n",
       "       [          1,           1,           1, ...,           0,           0,           0],\n",
       "       [    0.99401,     0.99401,     0.99401, ...,           0,           0,           0],\n",
       "       [          1,           1,           1, ...,           0,           0,           0],\n",
       "       [    0.98039,     0.98039,     0.98039, ...,           0,           0,           0],\n",
       "       [          1,           1,           1, ...,    0.080394,           0,           0]]), 'Confidence', 'Recall']]\n",
       "fitness: 0.8324956911566425\n",
       "keys: ['metrics/precision(B)', 'metrics/recall(B)', 'metrics/mAP50(B)', 'metrics/mAP50-95(B)']\n",
       "maps: array([    0.70159,     0.89296,     0.83966,     0.78534,     0.79376,      0.8787])\n",
       "names: {0: 'Bike', 1: 'Bus', 2: 'Car', 3: 'Number plate', 4: 'Person', 5: 'Truck'}\n",
       "nt_per_class: array([  3,  18, 167, 124,  51,  17], dtype=int64)\n",
       "nt_per_image: array([ 3, 12, 65, 92, 19, 14], dtype=int64)\n",
       "results_dict: {'metrics/precision(B)': 0.9573502181008218, 'metrics/recall(B)': 0.9569783553515173, 'metrics/mAP50(B)': 0.9869325956229439, 'metrics/mAP50-95(B)': 0.8153360351048312, 'fitness': 0.8324956911566425}\n",
       "save_dir: WindowsPath('number_plate_project/yolov8n_gpu_optimized_v2')\n",
       "speed: {'preprocess': 0.4916696969652401, 'inference': 5.178972727274624, 'loss': 0.0016656565617956926, 'postprocess': 3.938163636364767}\n",
       "stats: {'tp': [], 'conf': [], 'pred_cls': [], 'target_cls': [], 'target_img': []}\n",
       "task: 'detect'"
      ]
     },
     "execution_count": 8,
     "metadata": {},
     "output_type": "execute_result"
    }
   ],
   "source": [
    "from ultralytics import YOLO\n",
    "\n",
    "# Load YOLOv8 nano model (lightweight)\n",
    "model = YOLO('yolov8n.pt')  # You can use 'yolov8n.yaml' to train from scratch\n",
    "\n",
    "# Train using GPU with safe and efficient settings\n",
    "model.train(\n",
    "    data='number_plate_dataset.yaml',\n",
    "    epochs=150,                 # 🔼 Train longer for better learning\n",
    "    imgsz=640,                  # 🔻 Smaller image size to reduce GPU load\n",
    "    batch=4,                    # 🔻 Safer batch size for 4GB VRAM\n",
    "    device=0,                   # ✅ Force GPU 0\n",
    "    lr0=0.001,                  # 🔻 Lower initial learning rate\n",
    "    warmup_epochs=5,           # 🧠 Let model ease into learning\n",
    "    cos_lr=True,               # 🔁 Cosine learning rate decay\n",
    "    optimizer='Adam',          # ✅ Stable optimizer\n",
    "    cache=False,               # 🔻 Save RAM by skipping cache\n",
    "    auto_augment='randaugment',# 🎨 Boost generalization\n",
    "    hsv_h=0.015, hsv_s=0.7, hsv_v=0.4,  # 🎨 Color augmentation\n",
    "    project='number_plate_project',\n",
    "    name='yolov8n_gpu_optimized_v2',\n",
    "    exist_ok=True\n",
    ")\n"
   ]
  },
  {
   "cell_type": "code",
   "execution_count": 11,
   "id": "f83cafec",
   "metadata": {},
   "outputs": [],
   "source": [
    "from ultralytics import YOLO\n",
    "model = YOLO('number_plate_project/yolov8n_gpu_optimized_v2/weights/best.pt')"
   ]
  },
  {
   "cell_type": "code",
   "execution_count": 15,
   "id": "16c408e3",
   "metadata": {},
   "outputs": [
    {
     "name": "stdout",
     "output_type": "stream",
     "text": [
      "\n",
      "image 1/1 D:\\Custom Image Detection using YOLO\\images\\004e5085b8127281_jpg.rf.563e87210d050fd8e96c5b306883cc28.jpg: 480x640 3 Buss, 1 Number plate, 72.9ms\n",
      "Speed: 2.4ms preprocess, 72.9ms inference, 2.7ms postprocess per image at shape (1, 3, 480, 640)\n"
     ]
    }
   ],
   "source": [
    "# Run detection on a local image\n",
    "results = model('D:/Custom Image Detection using YOLO/images/004e5085b8127281_jpg.rf.563e87210d050fd8e96c5b306883cc28.jpg',device='cpu')  # Replace with your actual image path\n",
    "\n",
    "# Show results in notebook or save them\n",
    "results[0].show()  # Opens the image with detections\n",
    "# results[0].save(filename='output.jpg')  # Save to file if needed\n"
   ]
  },
  {
   "cell_type": "code",
   "execution_count": 16,
   "id": "b8eae764",
   "metadata": {},
   "outputs": [
    {
     "name": "stdout",
     "output_type": "stream",
     "text": [
      "\n",
      "image 1/1 d:\\Custom Image Detection using YOLO\\images\\00009e5b390986a0_jpg.rf.55e1f337c1c83840749af7c577b4057d.jpg: 448x640 2 Cars, 1 Number plate, 3 Persons, 102.5ms\n",
      "Speed: 4.2ms preprocess, 102.5ms inference, 2.2ms postprocess per image at shape (1, 3, 448, 640)\n",
      "✅ Saved: 00009e5b390986a0_jpg.rf.55e1f337c1c83840749af7c577b4057d.jpg\n",
      "\n",
      "image 1/1 d:\\Custom Image Detection using YOLO\\images\\0005ea10e0e14db1_jpg.rf.ec1d8302f42a1c38b320dfe86bbee792.jpg: 448x640 1 Bike, 2 Cars, 1 Number plate, 1 Person, 74.4ms\n",
      "Speed: 2.7ms preprocess, 74.4ms inference, 1.0ms postprocess per image at shape (1, 3, 448, 640)\n",
      "✅ Saved: 0005ea10e0e14db1_jpg.rf.ec1d8302f42a1c38b320dfe86bbee792.jpg\n",
      "\n",
      "image 1/1 d:\\Custom Image Detection using YOLO\\images\\0006dc0977056410_jpg.rf.a028f7ab5502774a062c496c7d7f3899.jpg: 608x640 2 Cars, 2 Number plates, 1 Person, 94.8ms\n",
      "Speed: 4.3ms preprocess, 94.8ms inference, 1.0ms postprocess per image at shape (1, 3, 608, 640)\n",
      "✅ Saved: 0006dc0977056410_jpg.rf.a028f7ab5502774a062c496c7d7f3899.jpg\n",
      "\n",
      "image 1/1 d:\\Custom Image Detection using YOLO\\images\\0009c4ddcaab18d3_jpg.rf.3f94302b6fcc9c7bd70482ef64eaf2d2.jpg: 480x640 1 Car, 2 Number plates, 66.8ms\n",
      "Speed: 2.5ms preprocess, 66.8ms inference, 1.2ms postprocess per image at shape (1, 3, 480, 640)\n",
      "✅ Saved: 0009c4ddcaab18d3_jpg.rf.3f94302b6fcc9c7bd70482ef64eaf2d2.jpg\n",
      "\n",
      "image 1/1 d:\\Custom Image Detection using YOLO\\images\\000f52302c1341eb_jpg.rf.cb9e0adc1f4964f2a3607ebf92018da9.jpg: 448x640 1 Car, 1 Number plate, 4 Persons, 68.9ms\n",
      "Speed: 2.1ms preprocess, 68.9ms inference, 0.8ms postprocess per image at shape (1, 3, 448, 640)\n",
      "✅ Saved: 000f52302c1341eb_jpg.rf.cb9e0adc1f4964f2a3607ebf92018da9.jpg\n",
      "\n",
      "image 1/1 d:\\Custom Image Detection using YOLO\\images\\001bebecea382500_jpg.rf.75aa509ed5569636354ae125d3aabc33.jpg: 480x640 1 Car, 2 Number plates, 4 Persons, 72.0ms\n",
      "Speed: 2.2ms preprocess, 72.0ms inference, 1.0ms postprocess per image at shape (1, 3, 480, 640)\n",
      "✅ Saved: 001bebecea382500_jpg.rf.75aa509ed5569636354ae125d3aabc33.jpg\n",
      "\n",
      "image 1/1 d:\\Custom Image Detection using YOLO\\images\\001ca84e28488f7a_jpg.rf.bb34bcdff53bb03b16a1ff12766f5dc3.jpg: 448x640 2 Bikes, 1 Bus, 1 Car, 2 Number plates, 5 Persons, 69.6ms\n",
      "Speed: 2.2ms preprocess, 69.6ms inference, 0.9ms postprocess per image at shape (1, 3, 448, 640)\n",
      "✅ Saved: 001ca84e28488f7a_jpg.rf.bb34bcdff53bb03b16a1ff12766f5dc3.jpg\n",
      "\n",
      "image 1/1 d:\\Custom Image Detection using YOLO\\images\\001ddeda193f5789_jpg.rf.db0739bec28458f6ecf378bf7a0b627d.jpg: 448x640 1 Car, 1 Number plate, 65.7ms\n",
      "Speed: 2.2ms preprocess, 65.7ms inference, 0.8ms postprocess per image at shape (1, 3, 448, 640)\n",
      "✅ Saved: 001ddeda193f5789_jpg.rf.db0739bec28458f6ecf378bf7a0b627d.jpg\n",
      "\n",
      "image 1/1 d:\\Custom Image Detection using YOLO\\images\\002b11030ee89858_jpg.rf.d8abd50a4d4ccdd7783c026152be33b1.jpg: 448x640 1 Number plate, 1 Truck, 73.9ms\n",
      "Speed: 2.3ms preprocess, 73.9ms inference, 0.9ms postprocess per image at shape (1, 3, 448, 640)\n",
      "✅ Saved: 002b11030ee89858_jpg.rf.d8abd50a4d4ccdd7783c026152be33b1.jpg\n",
      "\n",
      "image 1/1 d:\\Custom Image Detection using YOLO\\images\\002c48dd05cc3b85_jpg.rf.f30ab0e9da436dfd6a7a87c378d9f418.jpg: 448x640 1 Bus, 1 Number plate, 70.9ms\n",
      "Speed: 2.1ms preprocess, 70.9ms inference, 0.8ms postprocess per image at shape (1, 3, 448, 640)\n",
      "✅ Saved: 002c48dd05cc3b85_jpg.rf.f30ab0e9da436dfd6a7a87c378d9f418.jpg\n",
      "\n",
      "image 1/1 d:\\Custom Image Detection using YOLO\\images\\002cff1919a39fe7_jpg.rf.827b320a93b742cea302951f41e1ea13.jpg: 480x640 1 Number plate, 1 Truck, 72.5ms\n",
      "Speed: 2.2ms preprocess, 72.5ms inference, 1.2ms postprocess per image at shape (1, 3, 480, 640)\n",
      "✅ Saved: 002cff1919a39fe7_jpg.rf.827b320a93b742cea302951f41e1ea13.jpg\n",
      "\n",
      "image 1/1 d:\\Custom Image Detection using YOLO\\images\\002e3bd6fea3828a_jpg.rf.52bdb982d881e0763f08339a3ac90e3c.jpg: 640x640 1 Car, 1 Number plate, 1 Person, 96.8ms\n",
      "Speed: 4.4ms preprocess, 96.8ms inference, 0.8ms postprocess per image at shape (1, 3, 640, 640)\n",
      "✅ Saved: 002e3bd6fea3828a_jpg.rf.52bdb982d881e0763f08339a3ac90e3c.jpg\n",
      "\n",
      "image 1/1 d:\\Custom Image Detection using YOLO\\images\\002f860e692757f7_jpg.rf.13e46a05e1ea522c14b5c0410f2bbfe9.jpg: 448x640 4 Cars, 2 Persons, 66.1ms\n",
      "Speed: 2.7ms preprocess, 66.1ms inference, 0.9ms postprocess per image at shape (1, 3, 448, 640)\n",
      "✅ Saved: 002f860e692757f7_jpg.rf.13e46a05e1ea522c14b5c0410f2bbfe9.jpg\n",
      "\n",
      "image 1/1 d:\\Custom Image Detection using YOLO\\images\\002fbf2de58da8b5_jpg.rf.6021b76474b807a1bfcd25a509d5388d.jpg: 416x640 4 Cars, 70.4ms\n",
      "Speed: 2.7ms preprocess, 70.4ms inference, 0.8ms postprocess per image at shape (1, 3, 416, 640)\n",
      "✅ Saved: 002fbf2de58da8b5_jpg.rf.6021b76474b807a1bfcd25a509d5388d.jpg\n",
      "\n",
      "image 1/1 d:\\Custom Image Detection using YOLO\\images\\003a9e99a2753141_jpg.rf.7377638a1015136486e3c20681f605c1.jpg: 480x640 2 Cars, 1 Number plate, 66.3ms\n",
      "Speed: 2.8ms preprocess, 66.3ms inference, 0.8ms postprocess per image at shape (1, 3, 480, 640)\n",
      "✅ Saved: 003a9e99a2753141_jpg.rf.7377638a1015136486e3c20681f605c1.jpg\n",
      "\n",
      "image 1/1 d:\\Custom Image Detection using YOLO\\images\\003df8cf2effae50_jpg.rf.61ce008bd19bed574c6ca8aecca486e5.jpg: 480x640 1 Number plate, 1 Truck, 67.8ms\n",
      "Speed: 2.2ms preprocess, 67.8ms inference, 0.9ms postprocess per image at shape (1, 3, 480, 640)\n",
      "✅ Saved: 003df8cf2effae50_jpg.rf.61ce008bd19bed574c6ca8aecca486e5.jpg\n",
      "\n",
      "image 1/1 d:\\Custom Image Detection using YOLO\\images\\004abd1e49165b1c_jpg.rf.7a52bca0da71c3614271bfb15a803db5.jpg: 448x640 2 Cars, 2 Number plates, 71.2ms\n",
      "Speed: 2.2ms preprocess, 71.2ms inference, 1.2ms postprocess per image at shape (1, 3, 448, 640)\n",
      "✅ Saved: 004abd1e49165b1c_jpg.rf.7a52bca0da71c3614271bfb15a803db5.jpg\n",
      "\n",
      "image 1/1 d:\\Custom Image Detection using YOLO\\images\\004aebeb3dea697a_jpg.rf.76c8ba45f0f629479eb648523fd952d6.jpg: 448x640 1 Car, 1 Number plate, 74.9ms\n",
      "Speed: 1.9ms preprocess, 74.9ms inference, 1.5ms postprocess per image at shape (1, 3, 448, 640)\n",
      "✅ Saved: 004aebeb3dea697a_jpg.rf.76c8ba45f0f629479eb648523fd952d6.jpg\n",
      "\n",
      "image 1/1 d:\\Custom Image Detection using YOLO\\images\\004be6e7ea1c7ff8_jpg.rf.67903af5a80cc47674753b1d52a36091.jpg: 640x640 2 Cars, 4 Number plates, 106.0ms\n",
      "Speed: 4.2ms preprocess, 106.0ms inference, 1.3ms postprocess per image at shape (1, 3, 640, 640)\n",
      "✅ Saved: 004be6e7ea1c7ff8_jpg.rf.67903af5a80cc47674753b1d52a36091.jpg\n",
      "\n",
      "image 1/1 d:\\Custom Image Detection using YOLO\\images\\004ce6e46f66a306_jpg.rf.2f31b4645bfe50921c188146e4066293.jpg: 352x640 4 Cars, 4 Number plates, 77.6ms\n",
      "Speed: 1.7ms preprocess, 77.6ms inference, 1.2ms postprocess per image at shape (1, 3, 352, 640)\n",
      "✅ Saved: 004ce6e46f66a306_jpg.rf.2f31b4645bfe50921c188146e4066293.jpg\n",
      "\n",
      "image 1/1 d:\\Custom Image Detection using YOLO\\images\\004e03d45963728e_jpg.rf.c6a5bbe448f539f5adbdc17c9d9cdd0f.jpg: 448x640 2 Buss, 2 Cars, 1 Number plate, 75.2ms\n",
      "Speed: 2.3ms preprocess, 75.2ms inference, 0.9ms postprocess per image at shape (1, 3, 448, 640)\n",
      "✅ Saved: 004e03d45963728e_jpg.rf.c6a5bbe448f539f5adbdc17c9d9cdd0f.jpg\n",
      "\n",
      "image 1/1 d:\\Custom Image Detection using YOLO\\images\\004e5085b8127281_jpg.rf.563e87210d050fd8e96c5b306883cc28.jpg: 480x640 3 Buss, 1 Number plate, 68.3ms\n",
      "Speed: 2.1ms preprocess, 68.3ms inference, 1.2ms postprocess per image at shape (1, 3, 480, 640)\n",
      "✅ Saved: 004e5085b8127281_jpg.rf.563e87210d050fd8e96c5b306883cc28.jpg\n",
      "\n",
      "image 1/1 d:\\Custom Image Detection using YOLO\\images\\004f138ad0d084ae_jpg.rf.1d679365b1a0e9bbac053a5376e7fdcc.jpg: 640x448 1 Car, 1 Number plate, 76.0ms\n",
      "Speed: 1.9ms preprocess, 76.0ms inference, 1.4ms postprocess per image at shape (1, 3, 640, 448)\n",
      "✅ Saved: 004f138ad0d084ae_jpg.rf.1d679365b1a0e9bbac053a5376e7fdcc.jpg\n",
      "\n",
      "image 1/1 d:\\Custom Image Detection using YOLO\\images\\005ced5a9813fb0f_jpg.rf.5f1258b45463841fb1d42698c5e7fdfe.jpg: 448x640 3 Cars, 2 Number plates, 63.8ms\n",
      "Speed: 2.5ms preprocess, 63.8ms inference, 0.9ms postprocess per image at shape (1, 3, 448, 640)\n",
      "✅ Saved: 005ced5a9813fb0f_jpg.rf.5f1258b45463841fb1d42698c5e7fdfe.jpg\n",
      "\n",
      "image 1/1 d:\\Custom Image Detection using YOLO\\images\\009d23e04f2fccd8_jpg.rf.ba0b56200422ed2becb56eff811341fe.jpg: 480x640 1 Bike, 5 Cars, 67.4ms\n",
      "Speed: 2.5ms preprocess, 67.4ms inference, 1.1ms postprocess per image at shape (1, 3, 480, 640)\n",
      "✅ Saved: 009d23e04f2fccd8_jpg.rf.ba0b56200422ed2becb56eff811341fe.jpg\n",
      "\n",
      "image 1/1 d:\\Custom Image Detection using YOLO\\images\\00a09b822d470896_jpg.rf.8ffc64bea4b5bb78d9cc4ba81b559556.jpg: 448x640 1 Bus, 1 Car, 2 Number plates, 3 Persons, 65.3ms\n",
      "Speed: 2.1ms preprocess, 65.3ms inference, 0.8ms postprocess per image at shape (1, 3, 448, 640)\n",
      "✅ Saved: 00a09b822d470896_jpg.rf.8ffc64bea4b5bb78d9cc4ba81b559556.jpg\n",
      "\n",
      "image 1/1 d:\\Custom Image Detection using YOLO\\images\\00a144adf6f339d7_jpg.rf.26f40599c82e1fa3642cd5b550d0720b.jpg: 416x640 1 Car, 1 Number plate, 74.5ms\n",
      "Speed: 2.2ms preprocess, 74.5ms inference, 0.8ms postprocess per image at shape (1, 3, 416, 640)\n",
      "✅ Saved: 00a144adf6f339d7_jpg.rf.26f40599c82e1fa3642cd5b550d0720b.jpg\n",
      "\n",
      "image 1/1 d:\\Custom Image Detection using YOLO\\images\\00a8d9ab7c3b9c0e_jpg.rf.dcdf50513f21bb6ab920ba619e712c2d.jpg: 416x640 2 Cars, 2 Number plates, 3 Trucks, 75.5ms\n",
      "Speed: 2.1ms preprocess, 75.5ms inference, 0.8ms postprocess per image at shape (1, 3, 416, 640)\n",
      "✅ Saved: 00a8d9ab7c3b9c0e_jpg.rf.dcdf50513f21bb6ab920ba619e712c2d.jpg\n",
      "\n",
      "image 1/1 d:\\Custom Image Detection using YOLO\\images\\00b1eb629cde980e_jpg.rf.258161a0ce600cfa6e4a0bf52898866f.jpg: 448x640 1 Car, 1 Number plate, 1 Person, 77.5ms\n",
      "Speed: 1.8ms preprocess, 77.5ms inference, 0.8ms postprocess per image at shape (1, 3, 448, 640)\n",
      "✅ Saved: 00b1eb629cde980e_jpg.rf.258161a0ce600cfa6e4a0bf52898866f.jpg\n",
      "\n",
      "image 1/1 d:\\Custom Image Detection using YOLO\\images\\00b4d07f7be89f98_jpg.rf.261e5fb7b4be3bd9a0cfe6f2f1d2a45d.jpg: 480x640 4 Cars, 2 Number plates, 75.7ms\n",
      "Speed: 2.4ms preprocess, 75.7ms inference, 0.9ms postprocess per image at shape (1, 3, 480, 640)\n",
      "✅ Saved: 00b4d07f7be89f98_jpg.rf.261e5fb7b4be3bd9a0cfe6f2f1d2a45d.jpg\n",
      "\n",
      "image 1/1 d:\\Custom Image Detection using YOLO\\images\\00bffc29492dbc26_jpg.rf.72a3c617bf9379bf31ea90a0c189b21a.jpg: 480x640 3 Cars, 1 Number plate, 70.1ms\n",
      "Speed: 2.4ms preprocess, 70.1ms inference, 0.9ms postprocess per image at shape (1, 3, 480, 640)\n",
      "✅ Saved: 00bffc29492dbc26_jpg.rf.72a3c617bf9379bf31ea90a0c189b21a.jpg\n",
      "\n",
      "image 1/1 d:\\Custom Image Detection using YOLO\\images\\00c3fb728099e272_jpg.rf.c9b76d16d45caa7c8cd5c16502d16ba9.jpg: 640x480 1 Bus, 1 Number plate, 78.0ms\n",
      "Speed: 2.3ms preprocess, 78.0ms inference, 0.9ms postprocess per image at shape (1, 3, 640, 480)\n",
      "✅ Saved: 00c3fb728099e272_jpg.rf.c9b76d16d45caa7c8cd5c16502d16ba9.jpg\n",
      "\n",
      "image 1/1 d:\\Custom Image Detection using YOLO\\images\\00c96e0e060aeb2f_jpg.rf.be03c2c77534b5825a7d02437d4f82bc.jpg: 352x640 1 Bus, 1 Number plate, 1 Person, 56.3ms\n",
      "Speed: 2.4ms preprocess, 56.3ms inference, 0.8ms postprocess per image at shape (1, 3, 352, 640)\n",
      "✅ Saved: 00c96e0e060aeb2f_jpg.rf.be03c2c77534b5825a7d02437d4f82bc.jpg\n",
      "\n",
      "image 1/1 d:\\Custom Image Detection using YOLO\\images\\00ca4b949dd426f8_jpg.rf.63206c5d9dcb16bd7ff227db40aebb36.jpg: 480x640 3 Buss, 1 Number plate, 65.3ms\n",
      "Speed: 2.4ms preprocess, 65.3ms inference, 0.8ms postprocess per image at shape (1, 3, 480, 640)\n",
      "✅ Saved: 00ca4b949dd426f8_jpg.rf.63206c5d9dcb16bd7ff227db40aebb36.jpg\n",
      "\n",
      "image 1/1 d:\\Custom Image Detection using YOLO\\images\\00cb8dccb5cb1f59_jpg.rf.a361e5a5c39a2b90a531d971cf5719fb.jpg: 480x640 1 Car, 63.4ms\n",
      "Speed: 2.0ms preprocess, 63.4ms inference, 0.9ms postprocess per image at shape (1, 3, 480, 640)\n",
      "✅ Saved: 00cb8dccb5cb1f59_jpg.rf.a361e5a5c39a2b90a531d971cf5719fb.jpg\n",
      "\n",
      "image 1/1 d:\\Custom Image Detection using YOLO\\images\\00ceeec7002bace0_jpg.rf.79178a5bfbb460e0e701b318b1e3f371.jpg: 480x640 5 Cars, 1 Number plate, 69.3ms\n",
      "Speed: 2.1ms preprocess, 69.3ms inference, 0.8ms postprocess per image at shape (1, 3, 480, 640)\n",
      "✅ Saved: 00ceeec7002bace0_jpg.rf.79178a5bfbb460e0e701b318b1e3f371.jpg\n",
      "\n",
      "image 1/1 d:\\Custom Image Detection using YOLO\\images\\00d03a35f54e8386_jpg.rf.cc10cded435860fea5ff332ae4b08613.jpg: 576x640 1 Number plate, 1 Truck, 95.4ms\n",
      "Speed: 4.4ms preprocess, 95.4ms inference, 1.2ms postprocess per image at shape (1, 3, 576, 640)\n",
      "✅ Saved: 00d03a35f54e8386_jpg.rf.cc10cded435860fea5ff332ae4b08613.jpg\n",
      "\n",
      "image 1/1 d:\\Custom Image Detection using YOLO\\images\\00d087736d290d66_jpg.rf.47afc4e8f07cfe771f5aafc1158aad73.jpg: 448x640 1 Car, 1 Number plate, 73.0ms\n",
      "Speed: 2.8ms preprocess, 73.0ms inference, 0.8ms postprocess per image at shape (1, 3, 448, 640)\n",
      "✅ Saved: 00d087736d290d66_jpg.rf.47afc4e8f07cfe771f5aafc1158aad73.jpg\n",
      "\n",
      "image 1/1 d:\\Custom Image Detection using YOLO\\images\\00d0c3e342d41462_jpg.rf.300a9275c77d652ecd6f556f728225c5.jpg: 480x640 1 Car, 1 Number plate, 75.4ms\n",
      "Speed: 2.0ms preprocess, 75.4ms inference, 0.9ms postprocess per image at shape (1, 3, 480, 640)\n",
      "✅ Saved: 00d0c3e342d41462_jpg.rf.300a9275c77d652ecd6f556f728225c5.jpg\n",
      "\n",
      "image 1/1 d:\\Custom Image Detection using YOLO\\images\\00d17e785bbf2ca1_jpg.rf.dbc246efa04a411e7d93916dd74301fd.jpg: 480x640 2 Buss, 1 Number plate, 1 Person, 69.2ms\n",
      "Speed: 2.3ms preprocess, 69.2ms inference, 1.0ms postprocess per image at shape (1, 3, 480, 640)\n",
      "✅ Saved: 00d17e785bbf2ca1_jpg.rf.dbc246efa04a411e7d93916dd74301fd.jpg\n",
      "\n",
      "image 1/1 d:\\Custom Image Detection using YOLO\\images\\00d202cef5442753_jpg.rf.f6ccbdb6109580f5295388be74d0f552.jpg: 448x640 3 Cars, 1 Number plate, 1 Person, 72.3ms\n",
      "Speed: 2.2ms preprocess, 72.3ms inference, 0.8ms postprocess per image at shape (1, 3, 448, 640)\n",
      "✅ Saved: 00d202cef5442753_jpg.rf.f6ccbdb6109580f5295388be74d0f552.jpg\n",
      "\n",
      "image 1/1 d:\\Custom Image Detection using YOLO\\images\\00d5963c8f8e5381_jpg.rf.294ff94b8b93ed179203559c25fdcbe0.jpg: 448x640 1 Car, 1 Number plate, 1 Truck, 66.1ms\n",
      "Speed: 1.8ms preprocess, 66.1ms inference, 0.9ms postprocess per image at shape (1, 3, 448, 640)\n",
      "✅ Saved: 00d5963c8f8e5381_jpg.rf.294ff94b8b93ed179203559c25fdcbe0.jpg\n",
      "\n",
      "image 1/1 d:\\Custom Image Detection using YOLO\\images\\00d763761e47f723_jpg.rf.786dda9536a060cff9670f9d0ba23049.jpg: 480x640 4 Cars, 1 Number plate, 68.9ms\n",
      "Speed: 2.0ms preprocess, 68.9ms inference, 1.0ms postprocess per image at shape (1, 3, 480, 640)\n",
      "✅ Saved: 00d763761e47f723_jpg.rf.786dda9536a060cff9670f9d0ba23049.jpg\n",
      "\n",
      "image 1/1 d:\\Custom Image Detection using YOLO\\images\\00d9a751d73ee232_jpg.rf.646e9a932ed5c4a485563d092c5804f4.jpg: 544x640 1 Number plate, 1 Truck, 86.6ms\n",
      "Speed: 3.1ms preprocess, 86.6ms inference, 1.0ms postprocess per image at shape (1, 3, 544, 640)\n",
      "✅ Saved: 00d9a751d73ee232_jpg.rf.646e9a932ed5c4a485563d092c5804f4.jpg\n",
      "\n",
      "image 1/1 d:\\Custom Image Detection using YOLO\\images\\00dea1edf14f09ab_jpg.rf.f89d8678e1da281ea7a4e183c0da0d3c.jpg: 640x640 1 Car, 1 Number plate, 78.1ms\n",
      "Speed: 3.7ms preprocess, 78.1ms inference, 0.9ms postprocess per image at shape (1, 3, 640, 640)\n",
      "✅ Saved: 00dea1edf14f09ab_jpg.rf.f89d8678e1da281ea7a4e183c0da0d3c.jpg\n",
      "\n",
      "image 1/1 d:\\Custom Image Detection using YOLO\\images\\00e10a097af9f0d8_jpg.rf.fb39ee0adccceedf74a7f851e73c2ded.jpg: 480x640 3 Cars, 1 Number plate, 63.0ms\n",
      "Speed: 2.5ms preprocess, 63.0ms inference, 0.8ms postprocess per image at shape (1, 3, 480, 640)\n",
      "✅ Saved: 00e10a097af9f0d8_jpg.rf.fb39ee0adccceedf74a7f851e73c2ded.jpg\n",
      "\n",
      "image 1/1 d:\\Custom Image Detection using YOLO\\images\\00f04d8a2225b873_jpg.rf.049602dc4c8b5289bff0928cf51c4112.jpg: 480x640 2 Cars, 1 Number plate, 63.0ms\n",
      "Speed: 2.2ms preprocess, 63.0ms inference, 0.9ms postprocess per image at shape (1, 3, 480, 640)\n",
      "✅ Saved: 00f04d8a2225b873_jpg.rf.049602dc4c8b5289bff0928cf51c4112.jpg\n",
      "\n",
      "image 1/1 d:\\Custom Image Detection using YOLO\\images\\00f7e34cb220ddbc_jpg.rf.3cff86854ffa4f2ca24b02bc9684fa4c.jpg: 480x640 6 Cars, 1 Truck, 69.4ms\n",
      "Speed: 2.3ms preprocess, 69.4ms inference, 1.0ms postprocess per image at shape (1, 3, 480, 640)\n",
      "✅ Saved: 00f7e34cb220ddbc_jpg.rf.3cff86854ffa4f2ca24b02bc9684fa4c.jpg\n",
      "\n",
      "image 1/1 d:\\Custom Image Detection using YOLO\\images\\00f8eb771370fabc_jpg.rf.1d8e6a81895d2f294dcac4945873e371.jpg: 448x640 1 Number plate, 63.0ms\n",
      "Speed: 2.4ms preprocess, 63.0ms inference, 1.0ms postprocess per image at shape (1, 3, 448, 640)\n",
      "✅ Saved: 00f8eb771370fabc_jpg.rf.1d8e6a81895d2f294dcac4945873e371.jpg\n",
      "\n",
      "image 1/1 d:\\Custom Image Detection using YOLO\\images\\00fb62be50bc2353_jpg.rf.3003dbc5011b37d769d8aa81d72658e0.jpg: 512x640 1 Car, 1 Number plate, 76.7ms\n",
      "Speed: 2.3ms preprocess, 76.7ms inference, 0.9ms postprocess per image at shape (1, 3, 512, 640)\n",
      "✅ Saved: 00fb62be50bc2353_jpg.rf.3003dbc5011b37d769d8aa81d72658e0.jpg\n",
      "\n",
      "image 1/1 d:\\Custom Image Detection using YOLO\\images\\00fd1096ba77710e_jpg.rf.e250f7426bdb5a3ee5b96f5b6cc3dd69.jpg: 480x640 2 Cars, 1 Number plate, 1 Truck, 65.1ms\n",
      "Speed: 2.4ms preprocess, 65.1ms inference, 0.9ms postprocess per image at shape (1, 3, 480, 640)\n",
      "✅ Saved: 00fd1096ba77710e_jpg.rf.e250f7426bdb5a3ee5b96f5b6cc3dd69.jpg\n",
      "\n",
      "image 1/1 d:\\Custom Image Detection using YOLO\\images\\010a0c44af2d077e_jpg.rf.70b42e126c7af2ad87e84ce4abaccd9c.jpg: 384x640 11 Cars, 1 Number plate, 1 Truck, 69.1ms\n",
      "Speed: 1.9ms preprocess, 69.1ms inference, 0.8ms postprocess per image at shape (1, 3, 384, 640)\n",
      "✅ Saved: 010a0c44af2d077e_jpg.rf.70b42e126c7af2ad87e84ce4abaccd9c.jpg\n",
      "\n",
      "image 1/1 d:\\Custom Image Detection using YOLO\\images\\010abd2fab4f5949_jpg.rf.b265b7ed8570aa6a8b5b0e382a5e79b9.jpg: 480x640 4 Cars, 3 Number plates, 2 Persons, 63.8ms\n",
      "Speed: 2.7ms preprocess, 63.8ms inference, 0.9ms postprocess per image at shape (1, 3, 480, 640)\n",
      "✅ Saved: 010abd2fab4f5949_jpg.rf.b265b7ed8570aa6a8b5b0e382a5e79b9.jpg\n",
      "\n",
      "image 1/1 d:\\Custom Image Detection using YOLO\\images\\012ee3701bb7582c_jpg.rf.83ece1d5d156ac95f32fd4c924021be3.jpg: 448x640 2 Cars, 1 Number plate, 69.9ms\n",
      "Speed: 2.2ms preprocess, 69.9ms inference, 0.9ms postprocess per image at shape (1, 3, 448, 640)\n",
      "✅ Saved: 012ee3701bb7582c_jpg.rf.83ece1d5d156ac95f32fd4c924021be3.jpg\n",
      "\n",
      "image 1/1 d:\\Custom Image Detection using YOLO\\images\\01a599bd26b8ebf8_jpg.rf.66edf37bd974849e1816aa07601451a4.jpg: 640x448 6 Cars, 4 Number plates, 1 Truck, 78.9ms\n",
      "Speed: 2.1ms preprocess, 78.9ms inference, 0.9ms postprocess per image at shape (1, 3, 640, 448)\n",
      "✅ Saved: 01a599bd26b8ebf8_jpg.rf.66edf37bd974849e1816aa07601451a4.jpg\n",
      "\n",
      "image 1/1 d:\\Custom Image Detection using YOLO\\images\\01a916bfaa3a7427_jpg.rf.3c530f92ad2726bc8d3e0da189670a0d.jpg: 480x640 2 Cars, 3 Number plates, 1 Truck, 73.2ms\n",
      "Speed: 2.1ms preprocess, 73.2ms inference, 1.0ms postprocess per image at shape (1, 3, 480, 640)\n",
      "✅ Saved: 01a916bfaa3a7427_jpg.rf.3c530f92ad2726bc8d3e0da189670a0d.jpg\n",
      "\n",
      "image 1/1 d:\\Custom Image Detection using YOLO\\images\\01ad33d0ee9a7315_jpg.rf.cff915757ee8631d745ffdf0bef7f184.jpg: 480x640 3 Cars, 2 Number plates, 76.4ms\n",
      "Speed: 2.1ms preprocess, 76.4ms inference, 1.0ms postprocess per image at shape (1, 3, 480, 640)\n",
      "✅ Saved: 01ad33d0ee9a7315_jpg.rf.cff915757ee8631d745ffdf0bef7f184.jpg\n",
      "\n",
      "image 1/1 d:\\Custom Image Detection using YOLO\\images\\01b09b8072388fdb_jpg.rf.c7e61c1d324daf75cb27a3c749e8d271.jpg: 448x640 3 Cars, 2 Number plates, 66.6ms\n",
      "Speed: 2.3ms preprocess, 66.6ms inference, 0.8ms postprocess per image at shape (1, 3, 448, 640)\n",
      "✅ Saved: 01b09b8072388fdb_jpg.rf.c7e61c1d324daf75cb27a3c749e8d271.jpg\n",
      "\n",
      "image 1/1 d:\\Custom Image Detection using YOLO\\images\\01b2258172841ebc_jpg.rf.24743339e385cb99696b9ef14e6c2785.jpg: 448x640 1 Car, 1 Number plate, 2 Persons, 64.9ms\n",
      "Speed: 2.1ms preprocess, 64.9ms inference, 0.9ms postprocess per image at shape (1, 3, 448, 640)\n",
      "✅ Saved: 01b2258172841ebc_jpg.rf.24743339e385cb99696b9ef14e6c2785.jpg\n",
      "\n",
      "image 1/1 d:\\Custom Image Detection using YOLO\\images\\01b5c6bc9d18b4e7_jpg.rf.b1f5aee938113471dacbd12f940fdb78.jpg: 480x640 3 Cars, 1 Number plate, 1 Person, 71.1ms\n",
      "Speed: 2.1ms preprocess, 71.1ms inference, 0.9ms postprocess per image at shape (1, 3, 480, 640)\n",
      "✅ Saved: 01b5c6bc9d18b4e7_jpg.rf.b1f5aee938113471dacbd12f940fdb78.jpg\n",
      "\n",
      "image 1/1 d:\\Custom Image Detection using YOLO\\images\\01b805b9f96679a3_jpg.rf.1cf6b0be8ca0c6b2b4ba53657f8946fd.jpg: 480x640 2 Cars, 2 Number plates, 5 Persons, 63.3ms\n",
      "Speed: 2.5ms preprocess, 63.3ms inference, 1.0ms postprocess per image at shape (1, 3, 480, 640)\n",
      "✅ Saved: 01b805b9f96679a3_jpg.rf.1cf6b0be8ca0c6b2b4ba53657f8946fd.jpg\n",
      "\n",
      "image 1/1 d:\\Custom Image Detection using YOLO\\images\\01b929953b0671ae_jpg.rf.368950c97736d363ddbd2191db276860.jpg: 480x640 4 Cars, 64.9ms\n",
      "Speed: 2.2ms preprocess, 64.9ms inference, 0.8ms postprocess per image at shape (1, 3, 480, 640)\n",
      "✅ Saved: 01b929953b0671ae_jpg.rf.368950c97736d363ddbd2191db276860.jpg\n",
      "\n",
      "image 1/1 d:\\Custom Image Detection using YOLO\\images\\01d0a3d07e032990_jpg.rf.cd878aeebf33373a563636b69f20055c.jpg: 352x640 1 Car, 58.9ms\n",
      "Speed: 2.3ms preprocess, 58.9ms inference, 0.8ms postprocess per image at shape (1, 3, 352, 640)\n",
      "✅ Saved: 01d0a3d07e032990_jpg.rf.cd878aeebf33373a563636b69f20055c.jpg\n",
      "\n",
      "image 1/1 d:\\Custom Image Detection using YOLO\\images\\01df220cc71e07af_jpg.rf.2ae267a55851f4799f7af0b70efebf29.jpg: 480x640 1 Car, 1 Number plate, 70.2ms\n",
      "Speed: 2.0ms preprocess, 70.2ms inference, 1.0ms postprocess per image at shape (1, 3, 480, 640)\n",
      "✅ Saved: 01df220cc71e07af_jpg.rf.2ae267a55851f4799f7af0b70efebf29.jpg\n",
      "\n",
      "image 1/1 d:\\Custom Image Detection using YOLO\\images\\01e03ec69847f36c_jpg.rf.7a353df5375b0e77e9c7a38c05f8e7ed.jpg: 480x640 1 Car, 1 Number plate, 1 Truck, 74.6ms\n",
      "Speed: 2.3ms preprocess, 74.6ms inference, 0.9ms postprocess per image at shape (1, 3, 480, 640)\n",
      "✅ Saved: 01e03ec69847f36c_jpg.rf.7a353df5375b0e77e9c7a38c05f8e7ed.jpg\n",
      "\n",
      "image 1/1 d:\\Custom Image Detection using YOLO\\images\\01e1ec24455d60a0_jpg.rf.060704ce28d8961194d3e125f8ce6d32.jpg: 448x640 6 Cars, 1 Number plate, 69.8ms\n",
      "Speed: 1.9ms preprocess, 69.8ms inference, 0.9ms postprocess per image at shape (1, 3, 448, 640)\n",
      "✅ Saved: 01e1ec24455d60a0_jpg.rf.060704ce28d8961194d3e125f8ce6d32.jpg\n",
      "\n",
      "image 1/1 d:\\Custom Image Detection using YOLO\\images\\01e2315172fea9e4_jpg.rf.53ba976bc1adf549b3d2c4808beeb217.jpg: 480x640 2 Cars, 1 Number plate, 74.5ms\n",
      "Speed: 2.6ms preprocess, 74.5ms inference, 1.3ms postprocess per image at shape (1, 3, 480, 640)\n",
      "✅ Saved: 01e2315172fea9e4_jpg.rf.53ba976bc1adf549b3d2c4808beeb217.jpg\n",
      "\n",
      "image 1/1 d:\\Custom Image Detection using YOLO\\images\\01e846c846a1509e_jpg.rf.fe4ac1b73438776a4b7d6ffacafe0a81.jpg: 320x640 1 Bus, 1 Number plate, 71.6ms\n",
      "Speed: 1.6ms preprocess, 71.6ms inference, 0.8ms postprocess per image at shape (1, 3, 320, 640)\n",
      "✅ Saved: 01e846c846a1509e_jpg.rf.fe4ac1b73438776a4b7d6ffacafe0a81.jpg\n",
      "\n",
      "image 1/1 d:\\Custom Image Detection using YOLO\\images\\01f32030f855c316_jpg.rf.76b2e284650f9ddd3a95a49dd5da5ec6.jpg: 448x640 8 Cars, 1 Number plate, 65.6ms\n",
      "Speed: 2.6ms preprocess, 65.6ms inference, 0.9ms postprocess per image at shape (1, 3, 448, 640)\n",
      "✅ Saved: 01f32030f855c316_jpg.rf.76b2e284650f9ddd3a95a49dd5da5ec6.jpg\n",
      "\n",
      "image 1/1 d:\\Custom Image Detection using YOLO\\images\\02a01a62fa5a9831_jpg.rf.2839a7f71a827b94a0f04b1204db2143.jpg: 480x640 2 Cars, 1 Number plate, 17 Persons, 69.3ms\n",
      "Speed: 2.5ms preprocess, 69.3ms inference, 0.9ms postprocess per image at shape (1, 3, 480, 640)\n",
      "✅ Saved: 02a01a62fa5a9831_jpg.rf.2839a7f71a827b94a0f04b1204db2143.jpg\n",
      "\n",
      "image 1/1 d:\\Custom Image Detection using YOLO\\images\\02b3be99914d752c_jpg.rf.f05bd971b32748474ae99de03266451a.jpg: 448x640 4 Cars, 4 Number plates, 62.9ms\n",
      "Speed: 2.3ms preprocess, 62.9ms inference, 0.8ms postprocess per image at shape (1, 3, 448, 640)\n",
      "✅ Saved: 02b3be99914d752c_jpg.rf.f05bd971b32748474ae99de03266451a.jpg\n",
      "\n",
      "image 1/1 d:\\Custom Image Detection using YOLO\\images\\02ba8c25851c7e9d_jpg.rf.ad5554449f0aa5fda8708cf2ef546eaf.jpg: 480x640 8 Cars, 2 Number plates, 5 Trucks, 70.0ms\n",
      "Speed: 2.4ms preprocess, 70.0ms inference, 0.8ms postprocess per image at shape (1, 3, 480, 640)\n",
      "✅ Saved: 02ba8c25851c7e9d_jpg.rf.ad5554449f0aa5fda8708cf2ef546eaf.jpg\n",
      "\n",
      "image 1/1 d:\\Custom Image Detection using YOLO\\images\\02c79f997837efd4_jpg.rf.5f2fd2948347303996c2fd68ee243f30.jpg: 384x640 5 Cars, 3 Number plates, 60.6ms\n",
      "Speed: 2.0ms preprocess, 60.6ms inference, 0.8ms postprocess per image at shape (1, 3, 384, 640)\n",
      "✅ Saved: 02c79f997837efd4_jpg.rf.5f2fd2948347303996c2fd68ee243f30.jpg\n",
      "\n",
      "image 1/1 d:\\Custom Image Detection using YOLO\\images\\02dbae76d89c9284_jpg.rf.8d16f1ae69cb750866af90d8bc15724a.jpg: 480x640 1 Car, 1 Number plate, 78.7ms\n",
      "Speed: 2.7ms preprocess, 78.7ms inference, 1.1ms postprocess per image at shape (1, 3, 480, 640)\n",
      "✅ Saved: 02dbae76d89c9284_jpg.rf.8d16f1ae69cb750866af90d8bc15724a.jpg\n",
      "\n",
      "image 1/1 d:\\Custom Image Detection using YOLO\\images\\02f6b0600b3ad4ed_jpg.rf.1fdf5cda04535c9ac3d5ffdb96fe38ad.jpg: 384x640 8 Cars, 6 Number plates, 68.5ms\n",
      "Speed: 2.3ms preprocess, 68.5ms inference, 0.8ms postprocess per image at shape (1, 3, 384, 640)\n",
      "✅ Saved: 02f6b0600b3ad4ed_jpg.rf.1fdf5cda04535c9ac3d5ffdb96fe38ad.jpg\n",
      "\n",
      "image 1/1 d:\\Custom Image Detection using YOLO\\images\\02f914b2cec48820_jpg.rf.373ddc6b80ad38770f6c8e6813f17a45.jpg: 480x640 4 Cars, 1 Number plate, 1 Person, 70.5ms\n",
      "Speed: 2.3ms preprocess, 70.5ms inference, 0.8ms postprocess per image at shape (1, 3, 480, 640)\n",
      "✅ Saved: 02f914b2cec48820_jpg.rf.373ddc6b80ad38770f6c8e6813f17a45.jpg\n",
      "\n",
      "image 1/1 d:\\Custom Image Detection using YOLO\\images\\02fdd3b7c77702ec_jpg.rf.cf7d348383938107daad13f4c9d18a5b.jpg: 448x640 4 Cars, 1 Number plate, 5 Persons, 1 Truck, 67.6ms\n",
      "Speed: 1.9ms preprocess, 67.6ms inference, 0.9ms postprocess per image at shape (1, 3, 448, 640)\n",
      "✅ Saved: 02fdd3b7c77702ec_jpg.rf.cf7d348383938107daad13f4c9d18a5b.jpg\n",
      "\n",
      "image 1/1 d:\\Custom Image Detection using YOLO\\images\\1-placa-mexicana-del-estado-de-guerrero-2015-ha-D_NQ_NP_781642-MLM31170295955_062019-F_jpg.rf.7ec0318c58378fb13c93f60994472274.jpg: 480x640 1 Number plate, 67.0ms\n",
      "Speed: 2.0ms preprocess, 67.0ms inference, 0.9ms postprocess per image at shape (1, 3, 480, 640)\n",
      "✅ Saved: 1-placa-mexicana-del-estado-de-guerrero-2015-ha-D_NQ_NP_781642-MLM31170295955_062019-F_jpg.rf.7ec0318c58378fb13c93f60994472274.jpg\n",
      "\n",
      "image 1/1 d:\\Custom Image Detection using YOLO\\images\\10-cdmx2017taxi_jpg.rf.1ab893cd51a58266b66369d477e4070f.jpg: 320x640 1 Number plate, 54.1ms\n",
      "Speed: 1.4ms preprocess, 54.1ms inference, 0.7ms postprocess per image at shape (1, 3, 320, 640)\n",
      "✅ Saved: 10-cdmx2017taxi_jpg.rf.1ab893cd51a58266b66369d477e4070f.jpg\n",
      "\n",
      "image 1/1 d:\\Custom Image Detection using YOLO\\images\\10-GRO-GZA9999-GZD-Auto_jpg.rf.49ed6373b98fe893c77d4e4270eb3858.jpg: 352x640 1 Number plate, 55.2ms\n",
      "Speed: 1.5ms preprocess, 55.2ms inference, 0.9ms postprocess per image at shape (1, 3, 352, 640)\n",
      "✅ Saved: 10-GRO-GZA9999-GZD-Auto_jpg.rf.49ed6373b98fe893c77d4e4270eb3858.jpg\n",
      "\n",
      "image 1/1 d:\\Custom Image Detection using YOLO\\images\\11-cdmx2017etaxi_jpg.rf.ea0285b8aca6dc4fbd6616ef64e15994.jpg: 320x640 1 Number plate, 53.2ms\n",
      "Speed: 1.3ms preprocess, 53.2ms inference, 0.8ms postprocess per image at shape (1, 3, 320, 640)\n",
      "✅ Saved: 11-cdmx2017etaxi_jpg.rf.ea0285b8aca6dc4fbd6616ef64e15994.jpg\n",
      "\n",
      "image 1/1 d:\\Custom Image Detection using YOLO\\images\\11-D_Q_NP_3941-MLM4882174000_082013-Q_jpg.rf.d38c91456bef823da5e9ab84342e3c3d.jpg: 640x640 1 Number plate, 86.2ms\n",
      "Speed: 3.4ms preprocess, 86.2ms inference, 0.9ms postprocess per image at shape (1, 3, 640, 640)\n",
      "✅ Saved: 11-D_Q_NP_3941-MLM4882174000_082013-Q_jpg.rf.d38c91456bef823da5e9ab84342e3c3d.jpg\n",
      "\n",
      "image 1/1 d:\\Custom Image Detection using YOLO\\images\\12-D_NQ_NP_690407-MLM31998594359_082019-W_jpg.rf.db2a1ae53abc6440e9eb2a6a5725ccdf.jpg: 320x640 1 Number plate, 54.5ms\n",
      "Speed: 1.5ms preprocess, 54.5ms inference, 0.7ms postprocess per image at shape (1, 3, 320, 640)\n",
      "✅ Saved: 12-D_NQ_NP_690407-MLM31998594359_082019-W_jpg.rf.db2a1ae53abc6440e9eb2a6a5725ccdf.jpg\n",
      "\n",
      "image 1/1 d:\\Custom Image Detection using YOLO\\images\\1dSd2kLAEm6isLHkfA6eG8Q_jpeg_jpg.rf.e7781bf9888ad51e8f824c00e3238eb5.jpg: 448x640 4 Cars, 3 Number plates, 71.1ms\n",
      "Speed: 1.9ms preprocess, 71.1ms inference, 1.0ms postprocess per image at shape (1, 3, 448, 640)\n",
      "✅ Saved: 1dSd2kLAEm6isLHkfA6eG8Q_jpeg_jpg.rf.e7781bf9888ad51e8f824c00e3238eb5.jpg\n",
      "\n",
      "image 1/1 d:\\Custom Image Detection using YOLO\\images\\1_jpg.rf.eeea954cac78b8a206786a2f8b81c471.jpg: 448x640 1 Car, 1 Number plate, 71.6ms\n",
      "Speed: 1.9ms preprocess, 71.6ms inference, 1.6ms postprocess per image at shape (1, 3, 448, 640)\n",
      "✅ Saved: 1_jpg.rf.eeea954cac78b8a206786a2f8b81c471.jpg\n",
      "\n",
      "image 1/1 d:\\Custom Image Detection using YOLO\\images\\2-D_NQ_NP_771519-MLM32984405313_112019-W_jpg.rf.3bd207ec9b5f2c0bec67cd62d4cb2c9b.jpg: 480x640 1 Number plate, 75.0ms\n",
      "Speed: 2.1ms preprocess, 75.0ms inference, 1.2ms postprocess per image at shape (1, 3, 480, 640)\n",
      "✅ Saved: 2-D_NQ_NP_771519-MLM32984405313_112019-W_jpg.rf.3bd207ec9b5f2c0bec67cd62d4cb2c9b.jpg\n",
      "\n",
      "image 1/1 d:\\Custom Image Detection using YOLO\\images\\2-s-l640_jpg.rf.6e59b4803e3f2982bed6b0fe5a290fd8.jpg: 640x640 2 Number plates, 86.8ms\n",
      "Speed: 2.6ms preprocess, 86.8ms inference, 0.8ms postprocess per image at shape (1, 3, 640, 640)\n",
      "✅ Saved: 2-s-l640_jpg.rf.6e59b4803e3f2982bed6b0fe5a290fd8.jpg\n",
      "\n",
      "image 1/1 d:\\Custom Image Detection using YOLO\\images\\3-D_NQ_NP_858868-MLM31711653804_082019-W_jpg.rf.ae6f2e7f6d4c6a3364fd78d54e855be6.jpg: 480x640 1 Number plate, 63.6ms\n",
      "Speed: 1.7ms preprocess, 63.6ms inference, 0.9ms postprocess per image at shape (1, 3, 480, 640)\n",
      "✅ Saved: 3-D_NQ_NP_858868-MLM31711653804_082019-W_jpg.rf.ae6f2e7f6d4c6a3364fd78d54e855be6.jpg\n",
      "\n",
      "image 1/1 d:\\Custom Image Detection using YOLO\\images\\3-D_NQ_NP_862473-MLM31170298229_062019-W_jpg.rf.2ed30c0b0b069c9a556794c1a940ebc6.jpg: 480x640 1 Number plate, 63.8ms\n",
      "Speed: 1.8ms preprocess, 63.8ms inference, 1.0ms postprocess per image at shape (1, 3, 480, 640)\n",
      "✅ Saved: 3-D_NQ_NP_862473-MLM31170298229_062019-W_jpg.rf.2ed30c0b0b069c9a556794c1a940ebc6.jpg\n",
      "\n",
      "image 1/1 d:\\Custom Image Detection using YOLO\\images\\4-cdmx2019_jpg.rf.f89b361120e505ff0950b11d41bdf539.jpg: 320x640 1 Number plate, 50.7ms\n",
      "Speed: 1.3ms preprocess, 50.7ms inference, 0.8ms postprocess per image at shape (1, 3, 320, 640)\n",
      "✅ Saved: 4-cdmx2019_jpg.rf.f89b361120e505ff0950b11d41bdf539.jpg\n",
      "\n",
      "image 1/1 d:\\Custom Image Detection using YOLO\\images\\4-D_Q_NP_771917-MLM26259169217_102017-Q_jpg.rf.a0c5bb1ee0207323246b1d9af7f63ca0.jpg: 640x640 1 Number plate, 76.9ms\n",
      "Speed: 3.4ms preprocess, 76.9ms inference, 0.9ms postprocess per image at shape (1, 3, 640, 640)\n",
      "✅ Saved: 4-D_Q_NP_771917-MLM26259169217_102017-Q_jpg.rf.a0c5bb1ee0207323246b1d9af7f63ca0.jpg\n",
      "\n",
      "image 1/1 d:\\Custom Image Detection using YOLO\\images\\5-20Ways-20To-20Upgrade-20Your-20Car-20License-20Plate-20-_y_jpg.rf.7e78e8eba55abc85c4c21b07135d2cb6.jpg: 384x640 2 Cars, 1 Number plate, 58.3ms\n",
      "Speed: 2.0ms preprocess, 58.3ms inference, 0.9ms postprocess per image at shape (1, 3, 384, 640)\n",
      "✅ Saved: 5-20Ways-20To-20Upgrade-20Your-20Car-20License-20Plate-20-_y_jpg.rf.7e78e8eba55abc85c4c21b07135d2cb6.jpg\n",
      "\n",
      "image 1/1 d:\\Custom Image Detection using YOLO\\images\\5-s-l400_jpg.rf.2ccd7e6e8bda8f7370d0e7998e8c9c03.jpg: 352x640 1 Number plate, 53.9ms\n",
      "Speed: 1.5ms preprocess, 53.9ms inference, 0.8ms postprocess per image at shape (1, 3, 352, 640)\n",
      "✅ Saved: 5-s-l400_jpg.rf.2ccd7e6e8bda8f7370d0e7998e8c9c03.jpg\n",
      "\n",
      "image 1/1 d:\\Custom Image Detection using YOLO\\images\\5b9ab9cb-b955-42ff-a05c-120d1904c69f-Digital_plate_jpg.rf.763576c6edb9e4058719bf1065f54247.jpg: 640x640 2 Number plates, 79.7ms\n",
      "Speed: 4.1ms preprocess, 79.7ms inference, 0.9ms postprocess per image at shape (1, 3, 640, 640)\n",
      "✅ Saved: 5b9ab9cb-b955-42ff-a05c-120d1904c69f-Digital_plate_jpg.rf.763576c6edb9e4058719bf1065f54247.jpg\n",
      "\n",
      "image 1/1 d:\\Custom Image Detection using YOLO\\images\\5c52d1a1a3106c65fff82019_jpeg_jpg.rf.ec1d5ee115ed692a5cb51c4251fc3085.jpg: 448x640 1 Bus, 3 Cars, 1 Number plate, 1 Truck, 64.3ms\n",
      "Speed: 2.3ms preprocess, 64.3ms inference, 0.8ms postprocess per image at shape (1, 3, 448, 640)\n",
      "✅ Saved: 5c52d1a1a3106c65fff82019_jpeg_jpg.rf.ec1d5ee115ed692a5cb51c4251fc3085.jpg\n",
      "\n",
      "image 1/1 d:\\Custom Image Detection using YOLO\\images\\7-D_NQ_NP_619911-MLM31423405963_072019-W_jpg.rf.4c114f864305cb3754689b684fd11bcb.jpg: 480x640 1 Number plate, 60.5ms\n",
      "Speed: 1.8ms preprocess, 60.5ms inference, 1.0ms postprocess per image at shape (1, 3, 480, 640)\n",
      "✅ Saved: 7-D_NQ_NP_619911-MLM31423405963_072019-W_jpg.rf.4c114f864305cb3754689b684fd11bcb.jpg\n",
      "\n",
      "image 1/1 d:\\Custom Image Detection using YOLO\\images\\7-D_NQ_NP_865970-MLM31423400441_072019-W_jpg.rf.efa40bc2f5bc9af0d4cb7da578dfe037.jpg: 480x640 1 Number plate, 66.4ms\n",
      "Speed: 2.0ms preprocess, 66.4ms inference, 1.1ms postprocess per image at shape (1, 3, 480, 640)\n",
      "✅ Saved: 7-D_NQ_NP_865970-MLM31423400441_072019-W_jpg.rf.efa40bc2f5bc9af0d4cb7da578dfe037.jpg\n",
      "\n",
      "image 1/1 d:\\Custom Image Detection using YOLO\\images\\8-s-l300_jpg.rf.1119f740aab758031d5ea9b0c243c571.jpg: 640x640 2 Number plates, 94.4ms\n",
      "Speed: 7.3ms preprocess, 94.4ms inference, 1.0ms postprocess per image at shape (1, 3, 640, 640)\n",
      "✅ Saved: 8-s-l300_jpg.rf.1119f740aab758031d5ea9b0c243c571.jpg\n",
      "\n",
      "image 1/1 d:\\Custom Image Detection using YOLO\\images\\8T8A8881-web-900x600_jpg.rf.9aee55a5728b446828cedb84e4e312d4.jpg: 448x640 1 Number plate, 62.5ms\n",
      "Speed: 2.9ms preprocess, 62.5ms inference, 0.8ms postprocess per image at shape (1, 3, 448, 640)\n",
      "✅ Saved: 8T8A8881-web-900x600_jpg.rf.9aee55a5728b446828cedb84e4e312d4.jpg\n",
      "\n",
      "image 1/1 d:\\Custom Image Detection using YOLO\\images\\9-s-l400_jpg.rf.380595c22915f91113e4a8b1d79b6555.jpg: 640x448 3 Number plates, 64.4ms\n",
      "Speed: 1.7ms preprocess, 64.4ms inference, 1.0ms postprocess per image at shape (1, 3, 640, 448)\n",
      "✅ Saved: 9-s-l400_jpg.rf.380595c22915f91113e4a8b1d79b6555.jpg\n",
      "\n",
      "🎉 Detection complete. Results stored in 'predicted_results/' folder.\n"
     ]
    }
   ],
   "source": [
    "from pathlib import Path\n",
    "\n",
    "# Folder containing test images\n",
    "input_folder = Path('images')\n",
    "# Output folder to save results\n",
    "output_folder = Path('predicted_results')\n",
    "output_folder.mkdir(exist_ok=True)\n",
    "\n",
    "# Loop through each image\n",
    "for img_path in input_folder.glob('*.jpg'):\n",
    "    try:\n",
    "        # Run inference\n",
    "        results = model(str(img_path))\n",
    "        \n",
    "        # Save the result image to output folder\n",
    "        output_path = output_folder / img_path.name\n",
    "        results[0].save(filename=str(output_path))\n",
    "\n",
    "        print(f\"✅ Saved: {output_path.name}\")\n",
    "        \n",
    "    except Exception as e:\n",
    "        print(f\"❌ Error processing {img_path.name}: {e}\")\n",
    "\n",
    "print(\"\\n🎉 Detection complete. Results stored in 'predicted_results/' folder.\")\n"
   ]
  }
 ],
 "metadata": {
  "kernelspec": {
   "display_name": "venv",
   "language": "python",
   "name": "python3"
  },
  "language_info": {
   "codemirror_mode": {
    "name": "ipython",
    "version": 3
   },
   "file_extension": ".py",
   "mimetype": "text/x-python",
   "name": "python",
   "nbconvert_exporter": "python",
   "pygments_lexer": "ipython3",
   "version": "3.9.13"
  }
 },
 "nbformat": 4,
 "nbformat_minor": 5
}
